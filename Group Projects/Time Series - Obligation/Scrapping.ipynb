{
  "cells": [
    {
      "cell_type": "code",
      "execution_count": null,
      "id": "202a0234",
      "metadata": {
        "colab": {
          "base_uri": "https://localhost:8080/"
        },
        "id": "202a0234",
        "outputId": "216f1a7a-ab91-41c3-d8a3-e971e4242409"
      },
      "outputs": [
        {
          "output_type": "stream",
          "name": "stdout",
          "text": [
            "Requirement already satisfied: pip in c:\\users\\nitami\\appdata\\local\\programs\\python\\python39\\lib\\site-packages (22.1)\n",
            "Collecting pip\n",
            "  Using cached pip-22.1.2-py3-none-any.whl (2.1 MB)\n"
          ]
        },
        {
          "output_type": "stream",
          "name": "stderr",
          "text": [
            "ERROR: To modify pip, please run the following command:\n",
            "C:\\Users\\nitami\\AppData\\Local\\Programs\\Python\\Python39\\python.exe -m pip install --upgrade pip\n",
            "WARNING: There was an error checking the latest version of pip.\n"
          ]
        },
        {
          "output_type": "stream",
          "name": "stdout",
          "text": [
            "Requirement already satisfied: selenium in c:\\users\\nitami\\appdata\\local\\programs\\python\\python39\\lib\\site-packages (4.1.0)\n",
            "Requirement already satisfied: urllib3[secure]~=1.26 in c:\\users\\nitami\\appdata\\local\\programs\\python\\python39\\lib\\site-packages (from selenium) (1.26.9)\n",
            "Requirement already satisfied: trio-websocket~=0.9 in c:\\users\\nitami\\appdata\\local\\programs\\python\\python39\\lib\\site-packages (from selenium) (0.9.2)\n",
            "Requirement already satisfied: trio~=0.17 in c:\\users\\nitami\\appdata\\local\\programs\\python\\python39\\lib\\site-packages (from selenium) (0.19.0)\n",
            "Requirement already satisfied: async-generator>=1.9 in c:\\users\\nitami\\appdata\\local\\programs\\python\\python39\\lib\\site-packages (from trio~=0.17->selenium) (1.10)\n",
            "Requirement already satisfied: cffi>=1.14 in c:\\users\\nitami\\appdata\\local\\programs\\python\\python39\\lib\\site-packages (from trio~=0.17->selenium) (1.15.0)\n",
            "Requirement already satisfied: idna in c:\\users\\nitami\\appdata\\local\\programs\\python\\python39\\lib\\site-packages (from trio~=0.17->selenium) (2.10)\n",
            "Requirement already satisfied: attrs>=19.2.0 in c:\\users\\nitami\\appdata\\local\\programs\\python\\python39\\lib\\site-packages (from trio~=0.17->selenium) (21.2.0)\n",
            "Requirement already satisfied: outcome in c:\\users\\nitami\\appdata\\local\\programs\\python\\python39\\lib\\site-packages (from trio~=0.17->selenium) (1.1.0)\n",
            "Requirement already satisfied: sniffio in c:\\users\\nitami\\appdata\\local\\programs\\python\\python39\\lib\\site-packages (from trio~=0.17->selenium) (1.2.0)\n",
            "Requirement already satisfied: sortedcontainers in c:\\users\\nitami\\appdata\\local\\programs\\python\\python39\\lib\\site-packages (from trio~=0.17->selenium) (2.4.0)\n",
            "Requirement already satisfied: wsproto>=0.14 in c:\\users\\nitami\\appdata\\local\\programs\\python\\python39\\lib\\site-packages (from trio-websocket~=0.9->selenium) (1.0.0)\n",
            "Requirement already satisfied: cryptography>=1.3.4 in c:\\users\\nitami\\appdata\\local\\programs\\python\\python39\\lib\\site-packages (from urllib3[secure]~=1.26->selenium) (36.0.1)\n",
            "Requirement already satisfied: certifi in c:\\users\\nitami\\appdata\\local\\programs\\python\\python39\\lib\\site-packages (from urllib3[secure]~=1.26->selenium) (2018.4.16)\n",
            "Requirement already satisfied: pyOpenSSL>=0.14 in c:\\users\\nitami\\appdata\\local\\programs\\python\\python39\\lib\\site-packages (from urllib3[secure]~=1.26->selenium) (21.0.0)\n",
            "Requirement already satisfied: pycparser in c:\\users\\nitami\\appdata\\local\\programs\\python\\python39\\lib\\site-packages (from cffi>=1.14->trio~=0.17->selenium) (2.20)\n",
            "Requirement already satisfied: six>=1.5.2 in c:\\users\\nitami\\appdata\\local\\programs\\python\\python39\\lib\\site-packages (from pyOpenSSL>=0.14->urllib3[secure]~=1.26->selenium) (1.16.0)\n",
            "Requirement already satisfied: h11<1,>=0.9.0 in c:\\users\\nitami\\appdata\\local\\programs\\python\\python39\\lib\\site-packages (from wsproto>=0.14->trio-websocket~=0.9->selenium) (0.11.0)\n"
          ]
        },
        {
          "output_type": "stream",
          "name": "stderr",
          "text": [
            "WARNING: There was an error checking the latest version of pip.\n"
          ]
        },
        {
          "output_type": "stream",
          "name": "stdout",
          "text": [
            "Requirement already satisfied: bs4 in c:\\users\\nitami\\appdata\\local\\programs\\python\\python39\\lib\\site-packages (0.0.1)\n",
            "Requirement already satisfied: beautifulsoup4 in c:\\users\\nitami\\appdata\\local\\programs\\python\\python39\\lib\\site-packages (from bs4) (4.6.0)\n"
          ]
        },
        {
          "output_type": "stream",
          "name": "stderr",
          "text": [
            "WARNING: There was an error checking the latest version of pip.\n"
          ]
        },
        {
          "output_type": "stream",
          "name": "stdout",
          "text": [
            "Requirement already satisfied: undetected-chromedriver in c:\\users\\nitami\\appdata\\local\\programs\\python\\python39\\lib\\site-packages (3.1.5.post4)\n",
            "Requirement already satisfied: selenium>=4.0.0 in c:\\users\\nitami\\appdata\\local\\programs\\python\\python39\\lib\\site-packages (from undetected-chromedriver) (4.1.0)\n",
            "Requirement already satisfied: requests in c:\\users\\nitami\\appdata\\local\\programs\\python\\python39\\lib\\site-packages (from undetected-chromedriver) (2.27.1)\n",
            "Requirement already satisfied: websockets in c:\\users\\nitami\\appdata\\local\\programs\\python\\python39\\lib\\site-packages (from undetected-chromedriver) (10.3)\n",
            "Requirement already satisfied: trio-websocket~=0.9 in c:\\users\\nitami\\appdata\\local\\programs\\python\\python39\\lib\\site-packages (from selenium>=4.0.0->undetected-chromedriver) (0.9.2)\n",
            "Requirement already satisfied: urllib3[secure]~=1.26 in c:\\users\\nitami\\appdata\\local\\programs\\python\\python39\\lib\\site-packages (from selenium>=4.0.0->undetected-chromedriver) (1.26.9)\n",
            "Requirement already satisfied: trio~=0.17 in c:\\users\\nitami\\appdata\\local\\programs\\python\\python39\\lib\\site-packages (from selenium>=4.0.0->undetected-chromedriver) (0.19.0)\n",
            "Requirement already satisfied: certifi>=2017.4.17 in c:\\users\\nitami\\appdata\\local\\programs\\python\\python39\\lib\\site-packages (from requests->undetected-chromedriver) (2018.4.16)\n",
            "Requirement already satisfied: charset-normalizer~=2.0.0 in c:\\users\\nitami\\appdata\\local\\programs\\python\\python39\\lib\\site-packages (from requests->undetected-chromedriver) (2.0.10)"
          ]
        },
        {
          "output_type": "stream",
          "name": "stderr",
          "text": [
            "WARNING: There was an error checking the latest version of pip.\n"
          ]
        },
        {
          "output_type": "stream",
          "name": "stdout",
          "text": [
            "\n",
            "Requirement already satisfied: idna<4,>=2.5 in c:\\users\\nitami\\appdata\\local\\programs\\python\\python39\\lib\\site-packages (from requests->undetected-chromedriver) (2.10)\n",
            "Requirement already satisfied: sortedcontainers in c:\\users\\nitami\\appdata\\local\\programs\\python\\python39\\lib\\site-packages (from trio~=0.17->selenium>=4.0.0->undetected-chromedriver) (2.4.0)\n",
            "Requirement already satisfied: sniffio in c:\\users\\nitami\\appdata\\local\\programs\\python\\python39\\lib\\site-packages (from trio~=0.17->selenium>=4.0.0->undetected-chromedriver) (1.2.0)\n",
            "Requirement already satisfied: outcome in c:\\users\\nitami\\appdata\\local\\programs\\python\\python39\\lib\\site-packages (from trio~=0.17->selenium>=4.0.0->undetected-chromedriver) (1.1.0)\n",
            "Requirement already satisfied: cffi>=1.14 in c:\\users\\nitami\\appdata\\local\\programs\\python\\python39\\lib\\site-packages (from trio~=0.17->selenium>=4.0.0->undetected-chromedriver) (1.15.0)\n",
            "Requirement already satisfied: async-generator>=1.9 in c:\\users\\nitami\\appdata\\local\\programs\\python\\python39\\lib\\site-packages (from trio~=0.17->selenium>=4.0.0->undetected-chromedriver) (1.10)\n",
            "Requirement already satisfied: attrs>=19.2.0 in c:\\users\\nitami\\appdata\\local\\programs\\python\\python39\\lib\\site-packages (from trio~=0.17->selenium>=4.0.0->undetected-chromedriver) (21.2.0)\n",
            "Requirement already satisfied: wsproto>=0.14 in c:\\users\\nitami\\appdata\\local\\programs\\python\\python39\\lib\\site-packages (from trio-websocket~=0.9->selenium>=4.0.0->undetected-chromedriver) (1.0.0)\n",
            "Requirement already satisfied: pyOpenSSL>=0.14 in c:\\users\\nitami\\appdata\\local\\programs\\python\\python39\\lib\\site-packages (from urllib3[secure]~=1.26->selenium>=4.0.0->undetected-chromedriver) (21.0.0)\n",
            "Requirement already satisfied: cryptography>=1.3.4 in c:\\users\\nitami\\appdata\\local\\programs\\python\\python39\\lib\\site-packages (from urllib3[secure]~=1.26->selenium>=4.0.0->undetected-chromedriver) (36.0.1)\n",
            "Requirement already satisfied: pycparser in c:\\users\\nitami\\appdata\\local\\programs\\python\\python39\\lib\\site-packages (from cffi>=1.14->trio~=0.17->selenium>=4.0.0->undetected-chromedriver) (2.20)\n",
            "Requirement already satisfied: six>=1.5.2 in c:\\users\\nitami\\appdata\\local\\programs\\python\\python39\\lib\\site-packages (from pyOpenSSL>=0.14->urllib3[secure]~=1.26->selenium>=4.0.0->undetected-chromedriver) (1.16.0)\n",
            "Requirement already satisfied: h11<1,>=0.9.0 in c:\\users\\nitami\\appdata\\local\\programs\\python\\python39\\lib\\site-packages (from wsproto>=0.14->trio-websocket~=0.9->selenium>=4.0.0->undetected-chromedriver) (0.11.0)\n"
          ]
        }
      ],
      "source": [
        "!pip install --upgrade pip\n",
        "!pip install selenium\n",
        "!pip install bs4\n",
        "!pip install undetected-chromedriver"
      ]
    },
    {
      "cell_type": "code",
      "execution_count": null,
      "id": "9a8fa854",
      "metadata": {
        "id": "9a8fa854"
      },
      "outputs": [],
      "source": [
        "import pandas as pd\n",
        "pd.set_option('max_colwidth', 1000)\n",
        "pd.set_option('max_columns', 100)\n",
        "import requests\n",
        "from bs4 import BeautifulSoup\n",
        "import json\n",
        "from collections import Counter\n",
        "\n",
        "from selenium.webdriver.support.ui import Select\n",
        "from selenium.webdriver.common.keys import Keys\n",
        "from selenium.webdriver.common.action_chains import ActionChains\n",
        "from selenium.common.exceptions import NoSuchElementException, TimeoutException\n",
        "from selenium.webdriver.support import expected_conditions as EC\n",
        "from selenium.webdriver.common.by import By\n",
        "from selenium.webdriver.support.ui import WebDriverWait\n",
        "from selenium import webdriver"
      ]
    },
    {
      "cell_type": "code",
      "execution_count": null,
      "id": "1c14456b",
      "metadata": {
        "id": "1c14456b"
      },
      "outputs": [],
      "source": [
        "def get_single_element(xpath):\n",
        "    '''\n",
        "    Get single element by xpath in Selenium\n",
        "    '''\n",
        "    WebDriverWait(driver, 3).until(\n",
        "        EC.presence_of_element_located((By.XPATH, xpath)))\n",
        "    return driver.find_element_by_xpath(xpath)\n",
        "\n",
        "def get_multiple_element(xpath):\n",
        "    '''\n",
        "    Get multiple element by xpath in Selenium\n",
        "    '''\n",
        "    WebDriverWait(driver, 3).until(\n",
        "        EC.presence_of_all_elements_located((By.XPATH, xpath)))\n",
        "    return driver.find_elements_by_xpath(xpath)\n",
        "\n",
        "\n",
        "def get_text(element):\n",
        "    '''\n",
        "    Extract text of an element in Selenium\n",
        "    '''\n",
        "    return driver.execute_script(\"return arguments[0].innerText;\", element)"
      ]
    },
    {
      "cell_type": "code",
      "execution_count": null,
      "id": "341bf3e0",
      "metadata": {
        "id": "341bf3e0"
      },
      "outputs": [],
      "source": [
        "import undetected_chromedriver as uc\n",
        "import time\n",
        "\n",
        "driver= uc.Chrome()\n",
        "url = 'https://id.investing.com/rates-bonds/indonesia-10-year-bond-yield-historical-data'\n",
        "driver.get(url)\n",
        "time.sleep(60)"
      ]
    },
    {
      "cell_type": "code",
      "execution_count": null,
      "id": "496ac2af",
      "metadata": {
        "colab": {
          "base_uri": "https://localhost:8080/"
        },
        "id": "496ac2af",
        "outputId": "ab947010-8a24-4ae3-fac3-bba0f8978f8b"
      },
      "outputs": [
        {
          "output_type": "stream",
          "name": "stderr",
          "text": [
            "C:\\Users\\nitami\\AppData\\Local\\Temp/ipykernel_5920/1049735296.py:7: DeprecationWarning: find_element_by_* commands are deprecated. Please use find_element() instead\n",
            "  return driver.find_element_by_xpath(xpath)\n"
          ]
        }
      ],
      "source": [
        "xpath = '//div[@class=\"float_lang_base_2 historicDate\"]/div'\n",
        "get_single_element(xpath).click()\n",
        "time.sleep(1)"
      ]
    },
    {
      "cell_type": "code",
      "execution_count": null,
      "id": "0d674b7b",
      "metadata": {
        "colab": {
          "base_uri": "https://localhost:8080/"
        },
        "id": "0d674b7b",
        "outputId": "bb1c62b8-43e7-41a8-c835-2ed5229baf61"
      },
      "outputs": [
        {
          "output_type": "stream",
          "name": "stderr",
          "text": [
            "C:\\Users\\nitami\\AppData\\Local\\Temp/ipykernel_5920/1049735296.py:7: DeprecationWarning: find_element_by_* commands are deprecated. Please use find_element() instead\n",
            "  return driver.find_element_by_xpath(xpath)\n"
          ]
        }
      ],
      "source": [
        "xpath = '//*[@id=\"startDate\"]'\n",
        "get_single_element(xpath).clear()\n",
        "get_single_element(xpath).send_keys(\"01/01/2005\")\n",
        "time.sleep(1)"
      ]
    },
    {
      "cell_type": "code",
      "execution_count": null,
      "id": "e135b0e0",
      "metadata": {
        "colab": {
          "base_uri": "https://localhost:8080/"
        },
        "id": "e135b0e0",
        "outputId": "dbdd9bd0-cf42-47d3-9d55-b98107a29f49"
      },
      "outputs": [
        {
          "output_type": "stream",
          "name": "stderr",
          "text": [
            "C:\\Users\\nitami\\AppData\\Local\\Temp/ipykernel_5920/1049735296.py:7: DeprecationWarning: find_element_by_* commands are deprecated. Please use find_element() instead\n",
            "  return driver.find_element_by_xpath(xpath)\n"
          ]
        }
      ],
      "source": [
        "xpath = '//*[@id=\"endDate\"]'\n",
        "get_single_element(xpath).clear()\n",
        "get_single_element(xpath).send_keys(\"01/31/2022\")\n",
        "time.sleep(1)"
      ]
    },
    {
      "cell_type": "code",
      "execution_count": null,
      "id": "a823f71b",
      "metadata": {
        "colab": {
          "base_uri": "https://localhost:8080/"
        },
        "id": "a823f71b",
        "outputId": "11698a4f-49d4-4d80-a23c-65eecb6180b3"
      },
      "outputs": [
        {
          "output_type": "stream",
          "name": "stderr",
          "text": [
            "C:\\Users\\nitami\\AppData\\Local\\Temp/ipykernel_5920/1049735296.py:7: DeprecationWarning: find_element_by_* commands are deprecated. Please use find_element() instead\n",
            "  return driver.find_element_by_xpath(xpath)\n"
          ]
        }
      ],
      "source": [
        "xpath = '//*[@id=\"applyBtn\"]'\n",
        "get_single_element(xpath).click()\n",
        "time.sleep(1)"
      ]
    },
    {
      "cell_type": "code",
      "execution_count": null,
      "id": "c41502ee",
      "metadata": {
        "colab": {
          "base_uri": "https://localhost:8080/"
        },
        "id": "c41502ee",
        "outputId": "5210a485-f728-4036-ae51-faa53cba44e3"
      },
      "outputs": [
        {
          "output_type": "stream",
          "name": "stderr",
          "text": [
            "C:\\Users\\nitami\\AppData\\Local\\Temp/ipykernel_5920/1049735296.py:7: DeprecationWarning: find_element_by_* commands are deprecated. Please use find_element() instead\n",
            "  return driver.find_element_by_xpath(xpath)\n"
          ]
        }
      ],
      "source": [
        "xpath = '//*[@id=\"data_interval\"]'\n",
        "date_interval = Select(get_single_element(xpath))\n",
        "date_interval.select_by_value('Monthly')\n",
        "time.sleep(1)"
      ]
    },
    {
      "cell_type": "code",
      "execution_count": null,
      "id": "7162c000",
      "metadata": {
        "colab": {
          "base_uri": "https://localhost:8080/"
        },
        "id": "7162c000",
        "outputId": "afc2d4e5-de79-4f2a-ca6a-95cf212342d8"
      },
      "outputs": [
        {
          "output_type": "stream",
          "name": "stderr",
          "text": [
            "C:\\Users\\nitami\\AppData\\Local\\Temp/ipykernel_5920/1049735296.py:15: DeprecationWarning: find_elements_by_* commands are deprecated. Please use find_elements() instead\n",
            "  return driver.find_elements_by_xpath(xpath)\n"
          ]
        }
      ],
      "source": [
        "raw_data = get_multiple_element(\"//*[@id='curr_table']/tbody/tr\")"
      ]
    },
    {
      "cell_type": "code",
      "execution_count": null,
      "id": "a0cd9c59",
      "metadata": {
        "id": "a0cd9c59"
      },
      "outputs": [],
      "source": [
        "data = []\n",
        "for i in raw_data:\n",
        "    data.append(get_text(i).split('\\t'))"
      ]
    },
    {
      "cell_type": "code",
      "source": [
        "mmap = {\n",
        "    \"Mei\":\"May\",\n",
        "    \"Ags\":\"Aug\",\n",
        "    \"Okt\":\"Oct\",\n",
        "    \"Des\":\"Dec\"\n",
        "}"
      ],
      "metadata": {
        "id": "pegm1KO5s9g7"
      },
      "id": "pegm1KO5s9g7",
      "execution_count": null,
      "outputs": []
    },
    {
      "cell_type": "code",
      "execution_count": null,
      "id": "46f069b7",
      "metadata": {
        "id": "46f069b7"
      },
      "outputs": [],
      "source": [
        "tanggal = []\n",
        "pembukaan = []\n",
        "for i in data:\n",
        "    try :\n",
        "        pembukaan.append(i[1].replace(\",\",\"\").astype(int))\n",
        "        my = i[0].split(\" '\")\n",
        "        if my[0] in mmap.keys():\n",
        "          my[0] = mmap[my[0]]\n",
        "        tanggal.append(\"%s %s\", my[0], my[1])\n",
        "    except:\n",
        "        pass"
      ]
    },
    {
      "cell_type": "code",
      "source": [
        "df_obligasi[\"Tanggal\"] = pd.to_datetime(df_obligasi[\"Tanggal\"], format=\"%b %y\") \n",
        "df_obligasi.head()"
      ],
      "metadata": {
        "colab": {
          "base_uri": "https://localhost:8080/",
          "height": 206
        },
        "id": "991hLnhK5TRp",
        "outputId": "08b3208c-ffc9-4fd6-b5a0-d2b69a706595"
      },
      "id": "991hLnhK5TRp",
      "execution_count": null,
      "outputs": [
        {
          "output_type": "execute_result",
          "data": {
            "text/plain": [
              "   Pembukaan    Tanggal\n",
              "0       6449 2022-01-01\n",
              "1       6368 2021-12-01\n",
              "2       6267 2021-11-01\n",
              "3       6169 2021-10-01\n",
              "4       6353 2021-09-01"
            ],
            "text/html": [
              "<div>\n",
              "<style scoped>\n",
              "    .dataframe tbody tr th:only-of-type {\n",
              "        vertical-align: middle;\n",
              "    }\n",
              "\n",
              "    .dataframe tbody tr th {\n",
              "        vertical-align: top;\n",
              "    }\n",
              "\n",
              "    .dataframe thead th {\n",
              "        text-align: right;\n",
              "    }\n",
              "</style>\n",
              "<table border=\"1\" class=\"dataframe\">\n",
              "  <thead>\n",
              "    <tr style=\"text-align: right;\">\n",
              "      <th></th>\n",
              "      <th>Pembukaan</th>\n",
              "      <th>Tanggal</th>\n",
              "    </tr>\n",
              "  </thead>\n",
              "  <tbody>\n",
              "    <tr>\n",
              "      <th>0</th>\n",
              "      <td>6449</td>\n",
              "      <td>2022-01-01</td>\n",
              "    </tr>\n",
              "    <tr>\n",
              "      <th>1</th>\n",
              "      <td>6368</td>\n",
              "      <td>2021-12-01</td>\n",
              "    </tr>\n",
              "    <tr>\n",
              "      <th>2</th>\n",
              "      <td>6267</td>\n",
              "      <td>2021-11-01</td>\n",
              "    </tr>\n",
              "    <tr>\n",
              "      <th>3</th>\n",
              "      <td>6169</td>\n",
              "      <td>2021-10-01</td>\n",
              "    </tr>\n",
              "    <tr>\n",
              "      <th>4</th>\n",
              "      <td>6353</td>\n",
              "      <td>2021-09-01</td>\n",
              "    </tr>\n",
              "  </tbody>\n",
              "</table>\n",
              "</div>"
            ]
          },
          "metadata": {},
          "execution_count": 24
        }
      ]
    },
    {
      "cell_type": "code",
      "source": [
        "df_obligasi.info()"
      ],
      "metadata": {
        "colab": {
          "base_uri": "https://localhost:8080/"
        },
        "id": "QUA7JZxA75OS",
        "outputId": "0ef821ba-cfe3-4cfb-b2cf-caadf65f7327"
      },
      "id": "QUA7JZxA75OS",
      "execution_count": null,
      "outputs": [
        {
          "output_type": "stream",
          "name": "stdout",
          "text": [
            "<class 'pandas.core.frame.DataFrame'>\n",
            "RangeIndex: 205 entries, 0 to 204\n",
            "Data columns (total 2 columns):\n",
            " #   Column     Non-Null Count  Dtype         \n",
            "---  ------     --------------  -----         \n",
            " 0   Pembukaan  205 non-null    int32         \n",
            " 1   Tanggal    205 non-null    datetime64[ns]\n",
            "dtypes: datetime64[ns](1), int32(1)\n",
            "memory usage: 2.5 KB\n"
          ]
        }
      ]
    },
    {
      "cell_type": "code",
      "execution_count": null,
      "id": "d97d755d",
      "metadata": {
        "id": "d97d755d"
      },
      "outputs": [],
      "source": [
        "driver.close()"
      ]
    },
    {
      "cell_type": "code",
      "execution_count": null,
      "id": "517315a8",
      "metadata": {
        "id": "517315a8"
      },
      "outputs": [],
      "source": [
        "Rdf_obligasi.to_csv('Obligasi.csv')"
      ]
    }
  ],
  "metadata": {
    "kernelspec": {
      "display_name": "Python 3 (ipykernel)",
      "language": "python",
      "name": "python3"
    },
    "language_info": {
      "codemirror_mode": {
        "name": "ipython",
        "version": 3
      },
      "file_extension": ".py",
      "mimetype": "text/x-python",
      "name": "python",
      "nbconvert_exporter": "python",
      "pygments_lexer": "ipython3",
      "version": "3.9.10"
    },
    "colab": {
      "name": "TK2_Scrapping",
      "provenance": [],
      "collapsed_sections": []
    }
  },
  "nbformat": 4,
  "nbformat_minor": 5
}