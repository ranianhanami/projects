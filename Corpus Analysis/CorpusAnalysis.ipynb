{
  "nbformat": 4,
  "nbformat_minor": 0,
  "metadata": {
    "colab": {
      "name": "Tugas1_1906293291_RaniahNurHanami.ipynb",
      "provenance": [],
      "collapsed_sections": []
    },
    "kernelspec": {
      "name": "python3",
      "display_name": "Python 3"
    },
    "language_info": {
      "name": "python"
    },
    "widgets": {
      "application/vnd.jupyter.widget-state+json": {
        "cdea824a61d74a099733734cf405381c": {
          "model_module": "@jupyter-widgets/controls",
          "model_name": "HBoxModel",
          "model_module_version": "1.5.0",
          "state": {
            "_dom_classes": [],
            "_model_module": "@jupyter-widgets/controls",
            "_model_module_version": "1.5.0",
            "_model_name": "HBoxModel",
            "_view_count": null,
            "_view_module": "@jupyter-widgets/controls",
            "_view_module_version": "1.5.0",
            "_view_name": "HBoxView",
            "box_style": "",
            "children": [
              "IPY_MODEL_2cc2c1460cff4362a13b1e672ff02225",
              "IPY_MODEL_b482d4f1887949c384fb88db1bf330d4",
              "IPY_MODEL_5221aea6f37141d79fbe981baa7e584f"
            ],
            "layout": "IPY_MODEL_b0932064c61b46ff9193581692a57101"
          }
        },
        "2cc2c1460cff4362a13b1e672ff02225": {
          "model_module": "@jupyter-widgets/controls",
          "model_name": "HTMLModel",
          "model_module_version": "1.5.0",
          "state": {
            "_dom_classes": [],
            "_model_module": "@jupyter-widgets/controls",
            "_model_module_version": "1.5.0",
            "_model_name": "HTMLModel",
            "_view_count": null,
            "_view_module": "@jupyter-widgets/controls",
            "_view_module_version": "1.5.0",
            "_view_name": "HTMLView",
            "description": "",
            "description_tooltip": null,
            "layout": "IPY_MODEL_13cf4468006e4af1ad68c71290994747",
            "placeholder": "​",
            "style": "IPY_MODEL_a641832ca9b548698c831cf08020e1ab",
            "value": "Downloading https://raw.githubusercontent.com/stanfordnlp/stanza-resources/main/resources_1.4.0.json: "
          }
        },
        "b482d4f1887949c384fb88db1bf330d4": {
          "model_module": "@jupyter-widgets/controls",
          "model_name": "FloatProgressModel",
          "model_module_version": "1.5.0",
          "state": {
            "_dom_classes": [],
            "_model_module": "@jupyter-widgets/controls",
            "_model_module_version": "1.5.0",
            "_model_name": "FloatProgressModel",
            "_view_count": null,
            "_view_module": "@jupyter-widgets/controls",
            "_view_module_version": "1.5.0",
            "_view_name": "ProgressView",
            "bar_style": "success",
            "description": "",
            "description_tooltip": null,
            "layout": "IPY_MODEL_097acc4eafe44689a58fdce6ffaf8500",
            "max": 25998,
            "min": 0,
            "orientation": "horizontal",
            "style": "IPY_MODEL_1403757151be4e3d910ffa5eb243d3ab",
            "value": 25998
          }
        },
        "5221aea6f37141d79fbe981baa7e584f": {
          "model_module": "@jupyter-widgets/controls",
          "model_name": "HTMLModel",
          "model_module_version": "1.5.0",
          "state": {
            "_dom_classes": [],
            "_model_module": "@jupyter-widgets/controls",
            "_model_module_version": "1.5.0",
            "_model_name": "HTMLModel",
            "_view_count": null,
            "_view_module": "@jupyter-widgets/controls",
            "_view_module_version": "1.5.0",
            "_view_name": "HTMLView",
            "description": "",
            "description_tooltip": null,
            "layout": "IPY_MODEL_c12eff306e194b0fb3e9b71d833fe25f",
            "placeholder": "​",
            "style": "IPY_MODEL_c71de7cfa062463c80c7203835e5f63e",
            "value": " 154k/? [00:00&lt;00:00, 2.85MB/s]"
          }
        },
        "b0932064c61b46ff9193581692a57101": {
          "model_module": "@jupyter-widgets/base",
          "model_name": "LayoutModel",
          "model_module_version": "1.2.0",
          "state": {
            "_model_module": "@jupyter-widgets/base",
            "_model_module_version": "1.2.0",
            "_model_name": "LayoutModel",
            "_view_count": null,
            "_view_module": "@jupyter-widgets/base",
            "_view_module_version": "1.2.0",
            "_view_name": "LayoutView",
            "align_content": null,
            "align_items": null,
            "align_self": null,
            "border": null,
            "bottom": null,
            "display": null,
            "flex": null,
            "flex_flow": null,
            "grid_area": null,
            "grid_auto_columns": null,
            "grid_auto_flow": null,
            "grid_auto_rows": null,
            "grid_column": null,
            "grid_gap": null,
            "grid_row": null,
            "grid_template_areas": null,
            "grid_template_columns": null,
            "grid_template_rows": null,
            "height": null,
            "justify_content": null,
            "justify_items": null,
            "left": null,
            "margin": null,
            "max_height": null,
            "max_width": null,
            "min_height": null,
            "min_width": null,
            "object_fit": null,
            "object_position": null,
            "order": null,
            "overflow": null,
            "overflow_x": null,
            "overflow_y": null,
            "padding": null,
            "right": null,
            "top": null,
            "visibility": null,
            "width": null
          }
        },
        "13cf4468006e4af1ad68c71290994747": {
          "model_module": "@jupyter-widgets/base",
          "model_name": "LayoutModel",
          "model_module_version": "1.2.0",
          "state": {
            "_model_module": "@jupyter-widgets/base",
            "_model_module_version": "1.2.0",
            "_model_name": "LayoutModel",
            "_view_count": null,
            "_view_module": "@jupyter-widgets/base",
            "_view_module_version": "1.2.0",
            "_view_name": "LayoutView",
            "align_content": null,
            "align_items": null,
            "align_self": null,
            "border": null,
            "bottom": null,
            "display": null,
            "flex": null,
            "flex_flow": null,
            "grid_area": null,
            "grid_auto_columns": null,
            "grid_auto_flow": null,
            "grid_auto_rows": null,
            "grid_column": null,
            "grid_gap": null,
            "grid_row": null,
            "grid_template_areas": null,
            "grid_template_columns": null,
            "grid_template_rows": null,
            "height": null,
            "justify_content": null,
            "justify_items": null,
            "left": null,
            "margin": null,
            "max_height": null,
            "max_width": null,
            "min_height": null,
            "min_width": null,
            "object_fit": null,
            "object_position": null,
            "order": null,
            "overflow": null,
            "overflow_x": null,
            "overflow_y": null,
            "padding": null,
            "right": null,
            "top": null,
            "visibility": null,
            "width": null
          }
        },
        "a641832ca9b548698c831cf08020e1ab": {
          "model_module": "@jupyter-widgets/controls",
          "model_name": "DescriptionStyleModel",
          "model_module_version": "1.5.0",
          "state": {
            "_model_module": "@jupyter-widgets/controls",
            "_model_module_version": "1.5.0",
            "_model_name": "DescriptionStyleModel",
            "_view_count": null,
            "_view_module": "@jupyter-widgets/base",
            "_view_module_version": "1.2.0",
            "_view_name": "StyleView",
            "description_width": ""
          }
        },
        "097acc4eafe44689a58fdce6ffaf8500": {
          "model_module": "@jupyter-widgets/base",
          "model_name": "LayoutModel",
          "model_module_version": "1.2.0",
          "state": {
            "_model_module": "@jupyter-widgets/base",
            "_model_module_version": "1.2.0",
            "_model_name": "LayoutModel",
            "_view_count": null,
            "_view_module": "@jupyter-widgets/base",
            "_view_module_version": "1.2.0",
            "_view_name": "LayoutView",
            "align_content": null,
            "align_items": null,
            "align_self": null,
            "border": null,
            "bottom": null,
            "display": null,
            "flex": null,
            "flex_flow": null,
            "grid_area": null,
            "grid_auto_columns": null,
            "grid_auto_flow": null,
            "grid_auto_rows": null,
            "grid_column": null,
            "grid_gap": null,
            "grid_row": null,
            "grid_template_areas": null,
            "grid_template_columns": null,
            "grid_template_rows": null,
            "height": null,
            "justify_content": null,
            "justify_items": null,
            "left": null,
            "margin": null,
            "max_height": null,
            "max_width": null,
            "min_height": null,
            "min_width": null,
            "object_fit": null,
            "object_position": null,
            "order": null,
            "overflow": null,
            "overflow_x": null,
            "overflow_y": null,
            "padding": null,
            "right": null,
            "top": null,
            "visibility": null,
            "width": null
          }
        },
        "1403757151be4e3d910ffa5eb243d3ab": {
          "model_module": "@jupyter-widgets/controls",
          "model_name": "ProgressStyleModel",
          "model_module_version": "1.5.0",
          "state": {
            "_model_module": "@jupyter-widgets/controls",
            "_model_module_version": "1.5.0",
            "_model_name": "ProgressStyleModel",
            "_view_count": null,
            "_view_module": "@jupyter-widgets/base",
            "_view_module_version": "1.2.0",
            "_view_name": "StyleView",
            "bar_color": null,
            "description_width": ""
          }
        },
        "c12eff306e194b0fb3e9b71d833fe25f": {
          "model_module": "@jupyter-widgets/base",
          "model_name": "LayoutModel",
          "model_module_version": "1.2.0",
          "state": {
            "_model_module": "@jupyter-widgets/base",
            "_model_module_version": "1.2.0",
            "_model_name": "LayoutModel",
            "_view_count": null,
            "_view_module": "@jupyter-widgets/base",
            "_view_module_version": "1.2.0",
            "_view_name": "LayoutView",
            "align_content": null,
            "align_items": null,
            "align_self": null,
            "border": null,
            "bottom": null,
            "display": null,
            "flex": null,
            "flex_flow": null,
            "grid_area": null,
            "grid_auto_columns": null,
            "grid_auto_flow": null,
            "grid_auto_rows": null,
            "grid_column": null,
            "grid_gap": null,
            "grid_row": null,
            "grid_template_areas": null,
            "grid_template_columns": null,
            "grid_template_rows": null,
            "height": null,
            "justify_content": null,
            "justify_items": null,
            "left": null,
            "margin": null,
            "max_height": null,
            "max_width": null,
            "min_height": null,
            "min_width": null,
            "object_fit": null,
            "object_position": null,
            "order": null,
            "overflow": null,
            "overflow_x": null,
            "overflow_y": null,
            "padding": null,
            "right": null,
            "top": null,
            "visibility": null,
            "width": null
          }
        },
        "c71de7cfa062463c80c7203835e5f63e": {
          "model_module": "@jupyter-widgets/controls",
          "model_name": "DescriptionStyleModel",
          "model_module_version": "1.5.0",
          "state": {
            "_model_module": "@jupyter-widgets/controls",
            "_model_module_version": "1.5.0",
            "_model_name": "DescriptionStyleModel",
            "_view_count": null,
            "_view_module": "@jupyter-widgets/base",
            "_view_module_version": "1.2.0",
            "_view_name": "StyleView",
            "description_width": ""
          }
        },
        "15f41bf0be4f4756bb4ab3646bd7e850": {
          "model_module": "@jupyter-widgets/controls",
          "model_name": "HBoxModel",
          "model_module_version": "1.5.0",
          "state": {
            "_dom_classes": [],
            "_model_module": "@jupyter-widgets/controls",
            "_model_module_version": "1.5.0",
            "_model_name": "HBoxModel",
            "_view_count": null,
            "_view_module": "@jupyter-widgets/controls",
            "_view_module_version": "1.5.0",
            "_view_name": "HBoxView",
            "box_style": "",
            "children": [
              "IPY_MODEL_4689d62e8fe24f5d9601a2265820177c",
              "IPY_MODEL_fba300d9f16d469583efbc56208fe9bb",
              "IPY_MODEL_b483956c6bcf46ad8a0fbd8e0ae9a3a4"
            ],
            "layout": "IPY_MODEL_76a6ef640acc477b9dc8d98159f915f0"
          }
        },
        "4689d62e8fe24f5d9601a2265820177c": {
          "model_module": "@jupyter-widgets/controls",
          "model_name": "HTMLModel",
          "model_module_version": "1.5.0",
          "state": {
            "_dom_classes": [],
            "_model_module": "@jupyter-widgets/controls",
            "_model_module_version": "1.5.0",
            "_model_name": "HTMLModel",
            "_view_count": null,
            "_view_module": "@jupyter-widgets/controls",
            "_view_module_version": "1.5.0",
            "_view_name": "HTMLView",
            "description": "",
            "description_tooltip": null,
            "layout": "IPY_MODEL_8c0b1534449d470fab2772f8ffdd139f",
            "placeholder": "​",
            "style": "IPY_MODEL_1592b2cac1044c39b7b8dceb55acb3fd",
            "value": "Downloading https://huggingface.co/stanfordnlp/stanza-id/resolve/v1.4.0/models/tokenize/gsd.pt: 100%"
          }
        },
        "fba300d9f16d469583efbc56208fe9bb": {
          "model_module": "@jupyter-widgets/controls",
          "model_name": "FloatProgressModel",
          "model_module_version": "1.5.0",
          "state": {
            "_dom_classes": [],
            "_model_module": "@jupyter-widgets/controls",
            "_model_module_version": "1.5.0",
            "_model_name": "FloatProgressModel",
            "_view_count": null,
            "_view_module": "@jupyter-widgets/controls",
            "_view_module_version": "1.5.0",
            "_view_name": "ProgressView",
            "bar_style": "success",
            "description": "",
            "description_tooltip": null,
            "layout": "IPY_MODEL_aa374899d44e4edab17f2d6ba2f09e64",
            "max": 659384,
            "min": 0,
            "orientation": "horizontal",
            "style": "IPY_MODEL_8f94219f000a4561935dd959c02e1368",
            "value": 659384
          }
        },
        "b483956c6bcf46ad8a0fbd8e0ae9a3a4": {
          "model_module": "@jupyter-widgets/controls",
          "model_name": "HTMLModel",
          "model_module_version": "1.5.0",
          "state": {
            "_dom_classes": [],
            "_model_module": "@jupyter-widgets/controls",
            "_model_module_version": "1.5.0",
            "_model_name": "HTMLModel",
            "_view_count": null,
            "_view_module": "@jupyter-widgets/controls",
            "_view_module_version": "1.5.0",
            "_view_name": "HTMLView",
            "description": "",
            "description_tooltip": null,
            "layout": "IPY_MODEL_32a35f4ae24f41938969a82fa4c35fe4",
            "placeholder": "​",
            "style": "IPY_MODEL_af7188fb2b20418cbb47fadd4e59cfe7",
            "value": " 659k/659k [00:00&lt;00:00, 2.31MB/s]"
          }
        },
        "76a6ef640acc477b9dc8d98159f915f0": {
          "model_module": "@jupyter-widgets/base",
          "model_name": "LayoutModel",
          "model_module_version": "1.2.0",
          "state": {
            "_model_module": "@jupyter-widgets/base",
            "_model_module_version": "1.2.0",
            "_model_name": "LayoutModel",
            "_view_count": null,
            "_view_module": "@jupyter-widgets/base",
            "_view_module_version": "1.2.0",
            "_view_name": "LayoutView",
            "align_content": null,
            "align_items": null,
            "align_self": null,
            "border": null,
            "bottom": null,
            "display": null,
            "flex": null,
            "flex_flow": null,
            "grid_area": null,
            "grid_auto_columns": null,
            "grid_auto_flow": null,
            "grid_auto_rows": null,
            "grid_column": null,
            "grid_gap": null,
            "grid_row": null,
            "grid_template_areas": null,
            "grid_template_columns": null,
            "grid_template_rows": null,
            "height": null,
            "justify_content": null,
            "justify_items": null,
            "left": null,
            "margin": null,
            "max_height": null,
            "max_width": null,
            "min_height": null,
            "min_width": null,
            "object_fit": null,
            "object_position": null,
            "order": null,
            "overflow": null,
            "overflow_x": null,
            "overflow_y": null,
            "padding": null,
            "right": null,
            "top": null,
            "visibility": null,
            "width": null
          }
        },
        "8c0b1534449d470fab2772f8ffdd139f": {
          "model_module": "@jupyter-widgets/base",
          "model_name": "LayoutModel",
          "model_module_version": "1.2.0",
          "state": {
            "_model_module": "@jupyter-widgets/base",
            "_model_module_version": "1.2.0",
            "_model_name": "LayoutModel",
            "_view_count": null,
            "_view_module": "@jupyter-widgets/base",
            "_view_module_version": "1.2.0",
            "_view_name": "LayoutView",
            "align_content": null,
            "align_items": null,
            "align_self": null,
            "border": null,
            "bottom": null,
            "display": null,
            "flex": null,
            "flex_flow": null,
            "grid_area": null,
            "grid_auto_columns": null,
            "grid_auto_flow": null,
            "grid_auto_rows": null,
            "grid_column": null,
            "grid_gap": null,
            "grid_row": null,
            "grid_template_areas": null,
            "grid_template_columns": null,
            "grid_template_rows": null,
            "height": null,
            "justify_content": null,
            "justify_items": null,
            "left": null,
            "margin": null,
            "max_height": null,
            "max_width": null,
            "min_height": null,
            "min_width": null,
            "object_fit": null,
            "object_position": null,
            "order": null,
            "overflow": null,
            "overflow_x": null,
            "overflow_y": null,
            "padding": null,
            "right": null,
            "top": null,
            "visibility": null,
            "width": null
          }
        },
        "1592b2cac1044c39b7b8dceb55acb3fd": {
          "model_module": "@jupyter-widgets/controls",
          "model_name": "DescriptionStyleModel",
          "model_module_version": "1.5.0",
          "state": {
            "_model_module": "@jupyter-widgets/controls",
            "_model_module_version": "1.5.0",
            "_model_name": "DescriptionStyleModel",
            "_view_count": null,
            "_view_module": "@jupyter-widgets/base",
            "_view_module_version": "1.2.0",
            "_view_name": "StyleView",
            "description_width": ""
          }
        },
        "aa374899d44e4edab17f2d6ba2f09e64": {
          "model_module": "@jupyter-widgets/base",
          "model_name": "LayoutModel",
          "model_module_version": "1.2.0",
          "state": {
            "_model_module": "@jupyter-widgets/base",
            "_model_module_version": "1.2.0",
            "_model_name": "LayoutModel",
            "_view_count": null,
            "_view_module": "@jupyter-widgets/base",
            "_view_module_version": "1.2.0",
            "_view_name": "LayoutView",
            "align_content": null,
            "align_items": null,
            "align_self": null,
            "border": null,
            "bottom": null,
            "display": null,
            "flex": null,
            "flex_flow": null,
            "grid_area": null,
            "grid_auto_columns": null,
            "grid_auto_flow": null,
            "grid_auto_rows": null,
            "grid_column": null,
            "grid_gap": null,
            "grid_row": null,
            "grid_template_areas": null,
            "grid_template_columns": null,
            "grid_template_rows": null,
            "height": null,
            "justify_content": null,
            "justify_items": null,
            "left": null,
            "margin": null,
            "max_height": null,
            "max_width": null,
            "min_height": null,
            "min_width": null,
            "object_fit": null,
            "object_position": null,
            "order": null,
            "overflow": null,
            "overflow_x": null,
            "overflow_y": null,
            "padding": null,
            "right": null,
            "top": null,
            "visibility": null,
            "width": null
          }
        },
        "8f94219f000a4561935dd959c02e1368": {
          "model_module": "@jupyter-widgets/controls",
          "model_name": "ProgressStyleModel",
          "model_module_version": "1.5.0",
          "state": {
            "_model_module": "@jupyter-widgets/controls",
            "_model_module_version": "1.5.0",
            "_model_name": "ProgressStyleModel",
            "_view_count": null,
            "_view_module": "@jupyter-widgets/base",
            "_view_module_version": "1.2.0",
            "_view_name": "StyleView",
            "bar_color": null,
            "description_width": ""
          }
        },
        "32a35f4ae24f41938969a82fa4c35fe4": {
          "model_module": "@jupyter-widgets/base",
          "model_name": "LayoutModel",
          "model_module_version": "1.2.0",
          "state": {
            "_model_module": "@jupyter-widgets/base",
            "_model_module_version": "1.2.0",
            "_model_name": "LayoutModel",
            "_view_count": null,
            "_view_module": "@jupyter-widgets/base",
            "_view_module_version": "1.2.0",
            "_view_name": "LayoutView",
            "align_content": null,
            "align_items": null,
            "align_self": null,
            "border": null,
            "bottom": null,
            "display": null,
            "flex": null,
            "flex_flow": null,
            "grid_area": null,
            "grid_auto_columns": null,
            "grid_auto_flow": null,
            "grid_auto_rows": null,
            "grid_column": null,
            "grid_gap": null,
            "grid_row": null,
            "grid_template_areas": null,
            "grid_template_columns": null,
            "grid_template_rows": null,
            "height": null,
            "justify_content": null,
            "justify_items": null,
            "left": null,
            "margin": null,
            "max_height": null,
            "max_width": null,
            "min_height": null,
            "min_width": null,
            "object_fit": null,
            "object_position": null,
            "order": null,
            "overflow": null,
            "overflow_x": null,
            "overflow_y": null,
            "padding": null,
            "right": null,
            "top": null,
            "visibility": null,
            "width": null
          }
        },
        "af7188fb2b20418cbb47fadd4e59cfe7": {
          "model_module": "@jupyter-widgets/controls",
          "model_name": "DescriptionStyleModel",
          "model_module_version": "1.5.0",
          "state": {
            "_model_module": "@jupyter-widgets/controls",
            "_model_module_version": "1.5.0",
            "_model_name": "DescriptionStyleModel",
            "_view_count": null,
            "_view_module": "@jupyter-widgets/base",
            "_view_module_version": "1.2.0",
            "_view_name": "StyleView",
            "description_width": ""
          }
        },
        "084373de7c90437f974ddc9841f3034a": {
          "model_module": "@jupyter-widgets/controls",
          "model_name": "HBoxModel",
          "model_module_version": "1.5.0",
          "state": {
            "_dom_classes": [],
            "_model_module": "@jupyter-widgets/controls",
            "_model_module_version": "1.5.0",
            "_model_name": "HBoxModel",
            "_view_count": null,
            "_view_module": "@jupyter-widgets/controls",
            "_view_module_version": "1.5.0",
            "_view_name": "HBoxView",
            "box_style": "",
            "children": [
              "IPY_MODEL_e397e6eb76ec48de9521ed0b587e943b",
              "IPY_MODEL_200ca73647e049aabac82004a9860787",
              "IPY_MODEL_ff58cd4db16440d28725dc0a5afe248f"
            ],
            "layout": "IPY_MODEL_95e3df0e5c8a4377888c7cfaf86b6b09"
          }
        },
        "e397e6eb76ec48de9521ed0b587e943b": {
          "model_module": "@jupyter-widgets/controls",
          "model_name": "HTMLModel",
          "model_module_version": "1.5.0",
          "state": {
            "_dom_classes": [],
            "_model_module": "@jupyter-widgets/controls",
            "_model_module_version": "1.5.0",
            "_model_name": "HTMLModel",
            "_view_count": null,
            "_view_module": "@jupyter-widgets/controls",
            "_view_module_version": "1.5.0",
            "_view_name": "HTMLView",
            "description": "",
            "description_tooltip": null,
            "layout": "IPY_MODEL_5aac10f7bcea48fa8b2e36f36ff07756",
            "placeholder": "​",
            "style": "IPY_MODEL_1dfe8b48d8e848e981a80a64e78cea83",
            "value": "Downloading https://huggingface.co/stanfordnlp/stanza-id/resolve/v1.4.0/models/mwt/gsd.pt: 100%"
          }
        },
        "200ca73647e049aabac82004a9860787": {
          "model_module": "@jupyter-widgets/controls",
          "model_name": "FloatProgressModel",
          "model_module_version": "1.5.0",
          "state": {
            "_dom_classes": [],
            "_model_module": "@jupyter-widgets/controls",
            "_model_module_version": "1.5.0",
            "_model_name": "FloatProgressModel",
            "_view_count": null,
            "_view_module": "@jupyter-widgets/controls",
            "_view_module_version": "1.5.0",
            "_view_name": "ProgressView",
            "bar_style": "success",
            "description": "",
            "description_tooltip": null,
            "layout": "IPY_MODEL_a1de617ac3ec4364b42eb7dbb4f190c3",
            "max": 599794,
            "min": 0,
            "orientation": "horizontal",
            "style": "IPY_MODEL_e43d8e48c54f462ca50f042e62911835",
            "value": 599794
          }
        },
        "ff58cd4db16440d28725dc0a5afe248f": {
          "model_module": "@jupyter-widgets/controls",
          "model_name": "HTMLModel",
          "model_module_version": "1.5.0",
          "state": {
            "_dom_classes": [],
            "_model_module": "@jupyter-widgets/controls",
            "_model_module_version": "1.5.0",
            "_model_name": "HTMLModel",
            "_view_count": null,
            "_view_module": "@jupyter-widgets/controls",
            "_view_module_version": "1.5.0",
            "_view_name": "HTMLView",
            "description": "",
            "description_tooltip": null,
            "layout": "IPY_MODEL_9f4078bbd5f4438bae1bd771d14775da",
            "placeholder": "​",
            "style": "IPY_MODEL_97d01c80cf8f415b918cada4ac3f89d5",
            "value": " 600k/600k [00:00&lt;00:00, 2.18MB/s]"
          }
        },
        "95e3df0e5c8a4377888c7cfaf86b6b09": {
          "model_module": "@jupyter-widgets/base",
          "model_name": "LayoutModel",
          "model_module_version": "1.2.0",
          "state": {
            "_model_module": "@jupyter-widgets/base",
            "_model_module_version": "1.2.0",
            "_model_name": "LayoutModel",
            "_view_count": null,
            "_view_module": "@jupyter-widgets/base",
            "_view_module_version": "1.2.0",
            "_view_name": "LayoutView",
            "align_content": null,
            "align_items": null,
            "align_self": null,
            "border": null,
            "bottom": null,
            "display": null,
            "flex": null,
            "flex_flow": null,
            "grid_area": null,
            "grid_auto_columns": null,
            "grid_auto_flow": null,
            "grid_auto_rows": null,
            "grid_column": null,
            "grid_gap": null,
            "grid_row": null,
            "grid_template_areas": null,
            "grid_template_columns": null,
            "grid_template_rows": null,
            "height": null,
            "justify_content": null,
            "justify_items": null,
            "left": null,
            "margin": null,
            "max_height": null,
            "max_width": null,
            "min_height": null,
            "min_width": null,
            "object_fit": null,
            "object_position": null,
            "order": null,
            "overflow": null,
            "overflow_x": null,
            "overflow_y": null,
            "padding": null,
            "right": null,
            "top": null,
            "visibility": null,
            "width": null
          }
        },
        "5aac10f7bcea48fa8b2e36f36ff07756": {
          "model_module": "@jupyter-widgets/base",
          "model_name": "LayoutModel",
          "model_module_version": "1.2.0",
          "state": {
            "_model_module": "@jupyter-widgets/base",
            "_model_module_version": "1.2.0",
            "_model_name": "LayoutModel",
            "_view_count": null,
            "_view_module": "@jupyter-widgets/base",
            "_view_module_version": "1.2.0",
            "_view_name": "LayoutView",
            "align_content": null,
            "align_items": null,
            "align_self": null,
            "border": null,
            "bottom": null,
            "display": null,
            "flex": null,
            "flex_flow": null,
            "grid_area": null,
            "grid_auto_columns": null,
            "grid_auto_flow": null,
            "grid_auto_rows": null,
            "grid_column": null,
            "grid_gap": null,
            "grid_row": null,
            "grid_template_areas": null,
            "grid_template_columns": null,
            "grid_template_rows": null,
            "height": null,
            "justify_content": null,
            "justify_items": null,
            "left": null,
            "margin": null,
            "max_height": null,
            "max_width": null,
            "min_height": null,
            "min_width": null,
            "object_fit": null,
            "object_position": null,
            "order": null,
            "overflow": null,
            "overflow_x": null,
            "overflow_y": null,
            "padding": null,
            "right": null,
            "top": null,
            "visibility": null,
            "width": null
          }
        },
        "1dfe8b48d8e848e981a80a64e78cea83": {
          "model_module": "@jupyter-widgets/controls",
          "model_name": "DescriptionStyleModel",
          "model_module_version": "1.5.0",
          "state": {
            "_model_module": "@jupyter-widgets/controls",
            "_model_module_version": "1.5.0",
            "_model_name": "DescriptionStyleModel",
            "_view_count": null,
            "_view_module": "@jupyter-widgets/base",
            "_view_module_version": "1.2.0",
            "_view_name": "StyleView",
            "description_width": ""
          }
        },
        "a1de617ac3ec4364b42eb7dbb4f190c3": {
          "model_module": "@jupyter-widgets/base",
          "model_name": "LayoutModel",
          "model_module_version": "1.2.0",
          "state": {
            "_model_module": "@jupyter-widgets/base",
            "_model_module_version": "1.2.0",
            "_model_name": "LayoutModel",
            "_view_count": null,
            "_view_module": "@jupyter-widgets/base",
            "_view_module_version": "1.2.0",
            "_view_name": "LayoutView",
            "align_content": null,
            "align_items": null,
            "align_self": null,
            "border": null,
            "bottom": null,
            "display": null,
            "flex": null,
            "flex_flow": null,
            "grid_area": null,
            "grid_auto_columns": null,
            "grid_auto_flow": null,
            "grid_auto_rows": null,
            "grid_column": null,
            "grid_gap": null,
            "grid_row": null,
            "grid_template_areas": null,
            "grid_template_columns": null,
            "grid_template_rows": null,
            "height": null,
            "justify_content": null,
            "justify_items": null,
            "left": null,
            "margin": null,
            "max_height": null,
            "max_width": null,
            "min_height": null,
            "min_width": null,
            "object_fit": null,
            "object_position": null,
            "order": null,
            "overflow": null,
            "overflow_x": null,
            "overflow_y": null,
            "padding": null,
            "right": null,
            "top": null,
            "visibility": null,
            "width": null
          }
        },
        "e43d8e48c54f462ca50f042e62911835": {
          "model_module": "@jupyter-widgets/controls",
          "model_name": "ProgressStyleModel",
          "model_module_version": "1.5.0",
          "state": {
            "_model_module": "@jupyter-widgets/controls",
            "_model_module_version": "1.5.0",
            "_model_name": "ProgressStyleModel",
            "_view_count": null,
            "_view_module": "@jupyter-widgets/base",
            "_view_module_version": "1.2.0",
            "_view_name": "StyleView",
            "bar_color": null,
            "description_width": ""
          }
        },
        "9f4078bbd5f4438bae1bd771d14775da": {
          "model_module": "@jupyter-widgets/base",
          "model_name": "LayoutModel",
          "model_module_version": "1.2.0",
          "state": {
            "_model_module": "@jupyter-widgets/base",
            "_model_module_version": "1.2.0",
            "_model_name": "LayoutModel",
            "_view_count": null,
            "_view_module": "@jupyter-widgets/base",
            "_view_module_version": "1.2.0",
            "_view_name": "LayoutView",
            "align_content": null,
            "align_items": null,
            "align_self": null,
            "border": null,
            "bottom": null,
            "display": null,
            "flex": null,
            "flex_flow": null,
            "grid_area": null,
            "grid_auto_columns": null,
            "grid_auto_flow": null,
            "grid_auto_rows": null,
            "grid_column": null,
            "grid_gap": null,
            "grid_row": null,
            "grid_template_areas": null,
            "grid_template_columns": null,
            "grid_template_rows": null,
            "height": null,
            "justify_content": null,
            "justify_items": null,
            "left": null,
            "margin": null,
            "max_height": null,
            "max_width": null,
            "min_height": null,
            "min_width": null,
            "object_fit": null,
            "object_position": null,
            "order": null,
            "overflow": null,
            "overflow_x": null,
            "overflow_y": null,
            "padding": null,
            "right": null,
            "top": null,
            "visibility": null,
            "width": null
          }
        },
        "97d01c80cf8f415b918cada4ac3f89d5": {
          "model_module": "@jupyter-widgets/controls",
          "model_name": "DescriptionStyleModel",
          "model_module_version": "1.5.0",
          "state": {
            "_model_module": "@jupyter-widgets/controls",
            "_model_module_version": "1.5.0",
            "_model_name": "DescriptionStyleModel",
            "_view_count": null,
            "_view_module": "@jupyter-widgets/base",
            "_view_module_version": "1.2.0",
            "_view_name": "StyleView",
            "description_width": ""
          }
        },
        "cb14e27190a44e27a7f5d9e56c9d0b07": {
          "model_module": "@jupyter-widgets/controls",
          "model_name": "HBoxModel",
          "model_module_version": "1.5.0",
          "state": {
            "_dom_classes": [],
            "_model_module": "@jupyter-widgets/controls",
            "_model_module_version": "1.5.0",
            "_model_name": "HBoxModel",
            "_view_count": null,
            "_view_module": "@jupyter-widgets/controls",
            "_view_module_version": "1.5.0",
            "_view_name": "HBoxView",
            "box_style": "",
            "children": [
              "IPY_MODEL_195f43c1380840f6b370e38af356bd33",
              "IPY_MODEL_473eb1ebc9e04505a2e36f2c6d83c6ed",
              "IPY_MODEL_2d54e31753f24f9bb02dee62a582893e"
            ],
            "layout": "IPY_MODEL_07a088d9b07546419ff4d2b5dc96f0b4"
          }
        },
        "195f43c1380840f6b370e38af356bd33": {
          "model_module": "@jupyter-widgets/controls",
          "model_name": "HTMLModel",
          "model_module_version": "1.5.0",
          "state": {
            "_dom_classes": [],
            "_model_module": "@jupyter-widgets/controls",
            "_model_module_version": "1.5.0",
            "_model_name": "HTMLModel",
            "_view_count": null,
            "_view_module": "@jupyter-widgets/controls",
            "_view_module_version": "1.5.0",
            "_view_name": "HTMLView",
            "description": "",
            "description_tooltip": null,
            "layout": "IPY_MODEL_59f85255b12d4c9da9003160ace848a4",
            "placeholder": "​",
            "style": "IPY_MODEL_21875c3d51b845628b980384dc47b8e3",
            "value": "Downloading https://raw.githubusercontent.com/stanfordnlp/stanza-resources/main/resources_1.4.0.json: "
          }
        },
        "473eb1ebc9e04505a2e36f2c6d83c6ed": {
          "model_module": "@jupyter-widgets/controls",
          "model_name": "FloatProgressModel",
          "model_module_version": "1.5.0",
          "state": {
            "_dom_classes": [],
            "_model_module": "@jupyter-widgets/controls",
            "_model_module_version": "1.5.0",
            "_model_name": "FloatProgressModel",
            "_view_count": null,
            "_view_module": "@jupyter-widgets/controls",
            "_view_module_version": "1.5.0",
            "_view_name": "ProgressView",
            "bar_style": "success",
            "description": "",
            "description_tooltip": null,
            "layout": "IPY_MODEL_2cef30a6b9d242108c2571543c29c693",
            "max": 25998,
            "min": 0,
            "orientation": "horizontal",
            "style": "IPY_MODEL_f402336fea914f15b786c7e9e0b36442",
            "value": 25998
          }
        },
        "2d54e31753f24f9bb02dee62a582893e": {
          "model_module": "@jupyter-widgets/controls",
          "model_name": "HTMLModel",
          "model_module_version": "1.5.0",
          "state": {
            "_dom_classes": [],
            "_model_module": "@jupyter-widgets/controls",
            "_model_module_version": "1.5.0",
            "_model_name": "HTMLModel",
            "_view_count": null,
            "_view_module": "@jupyter-widgets/controls",
            "_view_module_version": "1.5.0",
            "_view_name": "HTMLView",
            "description": "",
            "description_tooltip": null,
            "layout": "IPY_MODEL_7758e89fd81e46d19322894a9ad50826",
            "placeholder": "​",
            "style": "IPY_MODEL_77d40e47ab6540db8492a9ac94c34ede",
            "value": " 154k/? [00:00&lt;00:00, 1.28MB/s]"
          }
        },
        "07a088d9b07546419ff4d2b5dc96f0b4": {
          "model_module": "@jupyter-widgets/base",
          "model_name": "LayoutModel",
          "model_module_version": "1.2.0",
          "state": {
            "_model_module": "@jupyter-widgets/base",
            "_model_module_version": "1.2.0",
            "_model_name": "LayoutModel",
            "_view_count": null,
            "_view_module": "@jupyter-widgets/base",
            "_view_module_version": "1.2.0",
            "_view_name": "LayoutView",
            "align_content": null,
            "align_items": null,
            "align_self": null,
            "border": null,
            "bottom": null,
            "display": null,
            "flex": null,
            "flex_flow": null,
            "grid_area": null,
            "grid_auto_columns": null,
            "grid_auto_flow": null,
            "grid_auto_rows": null,
            "grid_column": null,
            "grid_gap": null,
            "grid_row": null,
            "grid_template_areas": null,
            "grid_template_columns": null,
            "grid_template_rows": null,
            "height": null,
            "justify_content": null,
            "justify_items": null,
            "left": null,
            "margin": null,
            "max_height": null,
            "max_width": null,
            "min_height": null,
            "min_width": null,
            "object_fit": null,
            "object_position": null,
            "order": null,
            "overflow": null,
            "overflow_x": null,
            "overflow_y": null,
            "padding": null,
            "right": null,
            "top": null,
            "visibility": null,
            "width": null
          }
        },
        "59f85255b12d4c9da9003160ace848a4": {
          "model_module": "@jupyter-widgets/base",
          "model_name": "LayoutModel",
          "model_module_version": "1.2.0",
          "state": {
            "_model_module": "@jupyter-widgets/base",
            "_model_module_version": "1.2.0",
            "_model_name": "LayoutModel",
            "_view_count": null,
            "_view_module": "@jupyter-widgets/base",
            "_view_module_version": "1.2.0",
            "_view_name": "LayoutView",
            "align_content": null,
            "align_items": null,
            "align_self": null,
            "border": null,
            "bottom": null,
            "display": null,
            "flex": null,
            "flex_flow": null,
            "grid_area": null,
            "grid_auto_columns": null,
            "grid_auto_flow": null,
            "grid_auto_rows": null,
            "grid_column": null,
            "grid_gap": null,
            "grid_row": null,
            "grid_template_areas": null,
            "grid_template_columns": null,
            "grid_template_rows": null,
            "height": null,
            "justify_content": null,
            "justify_items": null,
            "left": null,
            "margin": null,
            "max_height": null,
            "max_width": null,
            "min_height": null,
            "min_width": null,
            "object_fit": null,
            "object_position": null,
            "order": null,
            "overflow": null,
            "overflow_x": null,
            "overflow_y": null,
            "padding": null,
            "right": null,
            "top": null,
            "visibility": null,
            "width": null
          }
        },
        "21875c3d51b845628b980384dc47b8e3": {
          "model_module": "@jupyter-widgets/controls",
          "model_name": "DescriptionStyleModel",
          "model_module_version": "1.5.0",
          "state": {
            "_model_module": "@jupyter-widgets/controls",
            "_model_module_version": "1.5.0",
            "_model_name": "DescriptionStyleModel",
            "_view_count": null,
            "_view_module": "@jupyter-widgets/base",
            "_view_module_version": "1.2.0",
            "_view_name": "StyleView",
            "description_width": ""
          }
        },
        "2cef30a6b9d242108c2571543c29c693": {
          "model_module": "@jupyter-widgets/base",
          "model_name": "LayoutModel",
          "model_module_version": "1.2.0",
          "state": {
            "_model_module": "@jupyter-widgets/base",
            "_model_module_version": "1.2.0",
            "_model_name": "LayoutModel",
            "_view_count": null,
            "_view_module": "@jupyter-widgets/base",
            "_view_module_version": "1.2.0",
            "_view_name": "LayoutView",
            "align_content": null,
            "align_items": null,
            "align_self": null,
            "border": null,
            "bottom": null,
            "display": null,
            "flex": null,
            "flex_flow": null,
            "grid_area": null,
            "grid_auto_columns": null,
            "grid_auto_flow": null,
            "grid_auto_rows": null,
            "grid_column": null,
            "grid_gap": null,
            "grid_row": null,
            "grid_template_areas": null,
            "grid_template_columns": null,
            "grid_template_rows": null,
            "height": null,
            "justify_content": null,
            "justify_items": null,
            "left": null,
            "margin": null,
            "max_height": null,
            "max_width": null,
            "min_height": null,
            "min_width": null,
            "object_fit": null,
            "object_position": null,
            "order": null,
            "overflow": null,
            "overflow_x": null,
            "overflow_y": null,
            "padding": null,
            "right": null,
            "top": null,
            "visibility": null,
            "width": null
          }
        },
        "f402336fea914f15b786c7e9e0b36442": {
          "model_module": "@jupyter-widgets/controls",
          "model_name": "ProgressStyleModel",
          "model_module_version": "1.5.0",
          "state": {
            "_model_module": "@jupyter-widgets/controls",
            "_model_module_version": "1.5.0",
            "_model_name": "ProgressStyleModel",
            "_view_count": null,
            "_view_module": "@jupyter-widgets/base",
            "_view_module_version": "1.2.0",
            "_view_name": "StyleView",
            "bar_color": null,
            "description_width": ""
          }
        },
        "7758e89fd81e46d19322894a9ad50826": {
          "model_module": "@jupyter-widgets/base",
          "model_name": "LayoutModel",
          "model_module_version": "1.2.0",
          "state": {
            "_model_module": "@jupyter-widgets/base",
            "_model_module_version": "1.2.0",
            "_model_name": "LayoutModel",
            "_view_count": null,
            "_view_module": "@jupyter-widgets/base",
            "_view_module_version": "1.2.0",
            "_view_name": "LayoutView",
            "align_content": null,
            "align_items": null,
            "align_self": null,
            "border": null,
            "bottom": null,
            "display": null,
            "flex": null,
            "flex_flow": null,
            "grid_area": null,
            "grid_auto_columns": null,
            "grid_auto_flow": null,
            "grid_auto_rows": null,
            "grid_column": null,
            "grid_gap": null,
            "grid_row": null,
            "grid_template_areas": null,
            "grid_template_columns": null,
            "grid_template_rows": null,
            "height": null,
            "justify_content": null,
            "justify_items": null,
            "left": null,
            "margin": null,
            "max_height": null,
            "max_width": null,
            "min_height": null,
            "min_width": null,
            "object_fit": null,
            "object_position": null,
            "order": null,
            "overflow": null,
            "overflow_x": null,
            "overflow_y": null,
            "padding": null,
            "right": null,
            "top": null,
            "visibility": null,
            "width": null
          }
        },
        "77d40e47ab6540db8492a9ac94c34ede": {
          "model_module": "@jupyter-widgets/controls",
          "model_name": "DescriptionStyleModel",
          "model_module_version": "1.5.0",
          "state": {
            "_model_module": "@jupyter-widgets/controls",
            "_model_module_version": "1.5.0",
            "_model_name": "DescriptionStyleModel",
            "_view_count": null,
            "_view_module": "@jupyter-widgets/base",
            "_view_module_version": "1.2.0",
            "_view_name": "StyleView",
            "description_width": ""
          }
        }
      }
    }
  },
  "cells": [
    {
      "cell_type": "code",
      "source": [
        "!pip install --upgrade --no-cache-dir gdown"
      ],
      "metadata": {
        "colab": {
          "base_uri": "https://localhost:8080/"
        },
        "id": "MmpCqNtxlwGb",
        "outputId": "41927242-a12f-4b59-a276-963fb9b7cc12"
      },
      "execution_count": 1,
      "outputs": [
        {
          "output_type": "stream",
          "name": "stdout",
          "text": [
            "Looking in indexes: https://pypi.org/simple, https://us-python.pkg.dev/colab-wheels/public/simple/\n",
            "Requirement already satisfied: gdown in /usr/local/lib/python3.7/dist-packages (4.4.0)\n",
            "Collecting gdown\n",
            "  Downloading gdown-4.5.1.tar.gz (14 kB)\n",
            "  Installing build dependencies ... \u001b[?25l\u001b[?25hdone\n",
            "  Getting requirements to build wheel ... \u001b[?25l\u001b[?25hdone\n",
            "    Preparing wheel metadata ... \u001b[?25l\u001b[?25hdone\n",
            "Requirement already satisfied: beautifulsoup4 in /usr/local/lib/python3.7/dist-packages (from gdown) (4.6.3)\n",
            "Requirement already satisfied: six in /usr/local/lib/python3.7/dist-packages (from gdown) (1.15.0)\n",
            "Requirement already satisfied: requests[socks] in /usr/local/lib/python3.7/dist-packages (from gdown) (2.23.0)\n",
            "Requirement already satisfied: tqdm in /usr/local/lib/python3.7/dist-packages (from gdown) (4.64.0)\n",
            "Requirement already satisfied: filelock in /usr/local/lib/python3.7/dist-packages (from gdown) (3.7.1)\n",
            "Requirement already satisfied: certifi>=2017.4.17 in /usr/local/lib/python3.7/dist-packages (from requests[socks]->gdown) (2022.6.15)\n",
            "Requirement already satisfied: urllib3!=1.25.0,!=1.25.1,<1.26,>=1.21.1 in /usr/local/lib/python3.7/dist-packages (from requests[socks]->gdown) (1.24.3)\n",
            "Requirement already satisfied: idna<3,>=2.5 in /usr/local/lib/python3.7/dist-packages (from requests[socks]->gdown) (2.10)\n",
            "Requirement already satisfied: chardet<4,>=3.0.2 in /usr/local/lib/python3.7/dist-packages (from requests[socks]->gdown) (3.0.4)\n",
            "Requirement already satisfied: PySocks!=1.5.7,>=1.5.6 in /usr/local/lib/python3.7/dist-packages (from requests[socks]->gdown) (1.7.1)\n",
            "Building wheels for collected packages: gdown\n",
            "  Building wheel for gdown (PEP 517) ... \u001b[?25l\u001b[?25hdone\n",
            "  Created wheel for gdown: filename=gdown-4.5.1-py3-none-any.whl size=14951 sha256=1d8169bdb096e8ee91d9bacab956bfa29244a2d5812ad4700f448d96d590e962\n",
            "  Stored in directory: /tmp/pip-ephem-wheel-cache-3lzv730e/wheels/3d/ec/b0/a96d1d126183f98570a785e6bf8789fca559853a9260e928e1\n",
            "Successfully built gdown\n",
            "Installing collected packages: gdown\n",
            "  Attempting uninstall: gdown\n",
            "    Found existing installation: gdown 4.4.0\n",
            "    Uninstalling gdown-4.4.0:\n",
            "      Successfully uninstalled gdown-4.4.0\n",
            "Successfully installed gdown-4.5.1\n"
          ]
        }
      ]
    },
    {
      "cell_type": "code",
      "metadata": {
        "id": "_MffPMSfPEQO"
      },
      "source": [
        "import numpy as np\n",
        "import pandas as pd\n",
        "import matplotlib.pyplot as plt\n",
        "import seaborn as sns\n",
        "sns.set()"
      ],
      "execution_count": 2,
      "outputs": []
    },
    {
      "cell_type": "code",
      "source": [
        "!gdown --id \"173H3vh-hZoq-R2zzgp8udcvt-jzE5jI5\"\n",
        "!gdown --id \"1M659tYLqVsbk6BCQYQEpKix011C9VSR4\""
      ],
      "metadata": {
        "colab": {
          "base_uri": "https://localhost:8080/"
        },
        "id": "vMWjdGUOlvpq",
        "outputId": "2f063de0-69c2-4408-b9ed-a5f537ab8124"
      },
      "execution_count": 33,
      "outputs": [
        {
          "output_type": "stream",
          "name": "stdout",
          "text": [
            "/usr/local/lib/python3.7/dist-packages/gdown/cli.py:131: FutureWarning: Option `--id` was deprecated in version 4.3.1 and will be removed in 5.0. You don't need to pass it anymore to use a file ID.\n",
            "  category=FutureWarning,\n",
            "Access denied with the following error:\n",
            "\n",
            " \tCannot retrieve the public link of the file. You may need to change\n",
            "\tthe permission to 'Anyone with the link', or have had many accesses. \n",
            "\n",
            "You may still be able to access the file from the browser:\n",
            "\n",
            "\t https://drive.google.com/uc?id=173H3vh-hZoq-R2zzgp8udcvt-jzE5jI5 \n",
            "\n",
            "/usr/local/lib/python3.7/dist-packages/gdown/cli.py:131: FutureWarning: Option `--id` was deprecated in version 4.3.1 and will be removed in 5.0. You don't need to pass it anymore to use a file ID.\n",
            "  category=FutureWarning,\n",
            "Downloading...\n",
            "From: https://drive.google.com/uc?id=1M659tYLqVsbk6BCQYQEpKix011C9VSR4\n",
            "To: /content/Korpus_Ringkas.json\n",
            "100% 62.5k/62.5k [00:00<00:00, 61.2MB/s]\n"
          ]
        }
      ]
    },
    {
      "cell_type": "code",
      "metadata": {
        "id": "hQ3mVM7RnqYX"
      },
      "source": [
        "referensi = [\"https://yunusmuhammad007.medium.com/text-preprocessing-menggunakan-pandas-nltk-dan-sastrawi-untuk-large-dataset-5fb3c0a88571\"]"
      ],
      "execution_count": 4,
      "outputs": []
    },
    {
      "cell_type": "markdown",
      "metadata": {
        "id": "c1IftScjQTtZ"
      },
      "source": [
        "# Bagian A"
      ]
    },
    {
      "cell_type": "code",
      "metadata": {
        "id": "GMR7XSfXPnDE"
      },
      "source": [
        "korpus = pd.read_json('/content/Korpus.json')"
      ],
      "execution_count": 5,
      "outputs": []
    },
    {
      "cell_type": "markdown",
      "metadata": {
        "id": "lzjwDQzPRKtk"
      },
      "source": [
        "### 1. Jumlah data pada Korpus.json"
      ]
    },
    {
      "cell_type": "code",
      "metadata": {
        "id": "Vtm5LKHGROzM",
        "colab": {
          "base_uri": "https://localhost:8080/"
        },
        "outputId": "4f30fa26-c228-49fb-d34b-b569678be019"
      },
      "source": [
        "korpus.shape[0]"
      ],
      "execution_count": 6,
      "outputs": [
        {
          "output_type": "execute_result",
          "data": {
            "text/plain": [
              "1051"
            ]
          },
          "metadata": {},
          "execution_count": 6
        }
      ]
    },
    {
      "cell_type": "markdown",
      "metadata": {
        "id": "I3xbPKwiRUTy"
      },
      "source": [
        "### 2. Analisa fitur section"
      ]
    },
    {
      "cell_type": "markdown",
      "metadata": {
        "id": "BgiSt5ffRX73"
      },
      "source": [
        "#### a. Jumlah section unik"
      ]
    },
    {
      "cell_type": "code",
      "metadata": {
        "id": "K38yuD-eRQeL",
        "colab": {
          "base_uri": "https://localhost:8080/"
        },
        "outputId": "2bb62a23-d5a7-4378-a036-ce96219c9bdc"
      },
      "source": [
        "section_unik = korpus['section'].unique()\n",
        "print('Jumlah section unik :', len(section_unik))\n",
        "print('Section pada korpus :', section_unik)"
      ],
      "execution_count": 7,
      "outputs": [
        {
          "output_type": "stream",
          "name": "stdout",
          "text": [
            "Jumlah section unik : 6\n",
            "Section pada korpus : ['ekonomi' 'nasional' 'internasional' 'teknologi' 'hiburan' 'olahraga']\n"
          ]
        }
      ]
    },
    {
      "cell_type": "markdown",
      "metadata": {
        "id": "PF5g1bmxRxf0"
      },
      "source": [
        "#### Histogram data section"
      ]
    },
    {
      "cell_type": "code",
      "metadata": {
        "id": "qK2hq3gmR0MJ",
        "colab": {
          "base_uri": "https://localhost:8080/",
          "height": 384
        },
        "outputId": "d252a979-2bab-4a78-ac4f-09a96bc0079a"
      },
      "source": [
        "ax = korpus['section'].value_counts().plot(kind='bar', figsize=(15,5))"
      ],
      "execution_count": 8,
      "outputs": [
        {
          "output_type": "display_data",
          "data": {
            "text/plain": [
              "<Figure size 1080x360 with 1 Axes>"
            ],
            "image/png": "[encoded data removed]"
          },
          "metadata": {}
        }
      ]
    },
    {
      "cell_type": "markdown",
      "metadata": {
        "id": "UAnmuLlNlXrD"
      },
      "source": [
        "### 3. Analisa fitur content"
      ]
    },
    {
      "cell_type": "code",
      "metadata": {
        "id": "Tq48AhMQk45S",
        "colab": {
          "base_uri": "https://localhost:8080/"
        },
        "outputId": "dc3ff74d-490a-452c-cc2c-938713e587c8"
      },
      "source": [
        "import nltk\n",
        "from nltk.tokenize import word_tokenize\n",
        "nltk.download('punkt')\n",
        "import string"
      ],
      "execution_count": 9,
      "outputs": [
        {
          "output_type": "stream",
          "name": "stderr",
          "text": [
            "[nltk_data] Downloading package punkt to /root/nltk_data...\n",
            "[nltk_data]   Unzipping tokenizers/punkt.zip.\n"
          ]
        }
      ]
    },
    {
      "cell_type": "code",
      "metadata": {
        "id": "zso2dco80TR_"
      },
      "source": [
        "list_words = []\n",
        "for i in range(len(korpus['content'])):\n",
        "  raw_words = korpus[\"content\"][i].translate(str.maketrans(\"\",\"\", string.punctuation))\n",
        "  words = nltk.word_tokenize(raw_words.lower())\n",
        "  list_words.extend(words)"
      ],
      "execution_count": 10,
      "outputs": []
    },
    {
      "cell_type": "code",
      "metadata": {
        "id": "xtAZImW5DTs1"
      },
      "source": [
        "df = pd.DataFrame(columns=['word'])\n",
        "df['word'] = list_words"
      ],
      "execution_count": 11,
      "outputs": []
    },
    {
      "cell_type": "code",
      "metadata": {
        "id": "CJ0toQyt_EZo",
        "colab": {
          "base_uri": "https://localhost:8080/",
          "height": 204
        },
        "outputId": "99069e6b-bc1d-4096-f7f4-012f521ef7d8"
      },
      "source": [
        "unique_words = df['word'].value_counts()\n",
        "tokenized_word = pd.DataFrame(unique_words)\n",
        "tokenized_word = tokenized_word.reset_index()\n",
        "tokenized_word.columns = ['kata', 'jumlah'] \n",
        "tokenized_word.head()"
      ],
      "execution_count": 12,
      "outputs": [
        {
          "output_type": "execute_result",
          "data": {
            "text/plain": [
              "   kata  jumlah\n",
              "0  yang    8236\n",
              "1    di    7078\n",
              "2   dan    6740\n",
              "3   itu    3487\n",
              "4   ini    3387"
            ],
            "text/html": [
              "\n",
              "  <div id=\"df-27e5f6e3-552f-46c7-ba8e-f61bab34b35b\">\n",
              "    <div class=\"colab-df-container\">\n",
              "      <div>\n",
              "<style scoped>\n",
              "    .dataframe tbody tr th:only-of-type {\n",
              "        vertical-align: middle;\n",
              "    }\n",
              "\n",
              "    .dataframe tbody tr th {\n",
              "        vertical-align: top;\n",
              "    }\n",
              "\n",
              "    .dataframe thead th {\n",
              "        text-align: right;\n",
              "    }\n",
              "</style>\n",
              "<table border=\"1\" class=\"dataframe\">\n",
              "  <thead>\n",
              "    <tr style=\"text-align: right;\">\n",
              "      <th></th>\n",
              "      <th>kata</th>\n",
              "      <th>jumlah</th>\n",
              "    </tr>\n",
              "  </thead>\n",
              "  <tbody>\n",
              "    <tr>\n",
              "      <th>0</th>\n",
              "      <td>yang</td>\n",
              "      <td>8236</td>\n",
              "    </tr>\n",
              "    <tr>\n",
              "      <th>1</th>\n",
              "      <td>di</td>\n",
              "      <td>7078</td>\n",
              "    </tr>\n",
              "    <tr>\n",
              "      <th>2</th>\n",
              "      <td>dan</td>\n",
              "      <td>6740</td>\n",
              "    </tr>\n",
              "    <tr>\n",
              "      <th>3</th>\n",
              "      <td>itu</td>\n",
              "      <td>3487</td>\n",
              "    </tr>\n",
              "    <tr>\n",
              "      <th>4</th>\n",
              "      <td>ini</td>\n",
              "      <td>3387</td>\n",
              "    </tr>\n",
              "  </tbody>\n",
              "</table>\n",
              "</div>\n",
              "      <button class=\"colab-df-convert\" onclick=\"convertToInteractive('df-27e5f6e3-552f-46c7-ba8e-f61bab34b35b')\"\n",
              "              title=\"Convert this dataframe to an interactive table.\"\n",
              "              style=\"display:none;\">\n",
              "        \n",
              "  <svg xmlns=\"http://www.w3.org/2000/svg\" height=\"24px\"viewBox=\"0 0 24 24\"\n",
              "       width=\"24px\">\n",
              "    <path d=\"M0 0h24v24H0V0z\" fill=\"none\"/>\n",
              "    <path d=\"M18.56 5.44l.94 2.06.94-2.06 2.06-.94-2.06-.94-.94-2.06-.94 2.06-2.06.94zm-11 1L8.5 8.5l.94-2.06 2.06-.94-2.06-.94L8.5 2.5l-.94 2.06-2.06.94zm10 10l.94 2.06.94-2.06 2.06-.94-2.06-.94-.94-2.06-.94 2.06-2.06.94z\"/><path d=\"M17.41 7.96l-1.37-1.37c-.4-.4-.92-.59-1.43-.59-.52 0-1.04.2-1.43.59L10.3 9.45l-7.72 7.72c-.78.78-.78 2.05 0 2.83L4 21.41c.39.39.9.59 1.41.59.51 0 1.02-.2 1.41-.59l7.78-7.78 2.81-2.81c.8-.78.8-2.07 0-2.86zM5.41 20L4 18.59l7.72-7.72 1.47 1.35L5.41 20z\"/>\n",
              "  </svg>\n",
              "      </button>\n",
              "      \n",
              "  <style>\n",
              "    .colab-df-container {\n",
              "      display:flex;\n",
              "      flex-wrap:wrap;\n",
              "      gap: 12px;\n",
              "    }\n",
              "\n",
              "    .colab-df-convert {\n",
              "      background-color: #E8F0FE;\n",
              "      border: none;\n",
              "      border-radius: 50%;\n",
              "      cursor: pointer;\n",
              "      display: none;\n",
              "      fill: #1967D2;\n",
              "      height: 32px;\n",
              "      padding: 0 0 0 0;\n",
              "      width: 32px;\n",
              "    }\n",
              "\n",
              "    .colab-df-convert:hover {\n",
              "      background-color: #E2EBFA;\n",
              "      box-shadow: 0px 1px 2px rgba(60, 64, 67, 0.3), 0px 1px 3px 1px rgba(60, 64, 67, 0.15);\n",
              "      fill: #174EA6;\n",
              "    }\n",
              "\n",
              "    [theme=dark] .colab-df-convert {\n",
              "      background-color: #3B4455;\n",
              "      fill: #D2E3FC;\n",
              "    }\n",
              "\n",
              "    [theme=dark] .colab-df-convert:hover {\n",
              "      background-color: #434B5C;\n",
              "      box-shadow: 0px 1px 3px 1px rgba(0, 0, 0, 0.15);\n",
              "      filter: drop-shadow(0px 1px 2px rgba(0, 0, 0, 0.3));\n",
              "      fill: #FFFFFF;\n",
              "    }\n",
              "  </style>\n",
              "\n",
              "      <script>\n",
              "        const buttonEl =\n",
              "          document.querySelector('#df-27e5f6e3-552f-46c7-ba8e-f61bab34b35b button.colab-df-convert');\n",
              "        buttonEl.style.display =\n",
              "          google.colab.kernel.accessAllowed ? 'block' : 'none';\n",
              "\n",
              "        async function convertToInteractive(key) {\n",
              "          const element = document.querySelector('#df-27e5f6e3-552f-46c7-ba8e-f61bab34b35b');\n",
              "          const dataTable =\n",
              "            await google.colab.kernel.invokeFunction('convertToInteractive',\n",
              "                                                     [key], {});\n",
              "          if (!dataTable) return;\n",
              "\n",
              "          const docLinkHtml = 'Like what you see? Visit the ' +\n",
              "            '<a target=\"_blank\" href=https://colab.research.google.com/notebooks/data_table.ipynb>data table notebook</a>'\n",
              "            + ' to learn more about interactive tables.';\n",
              "          element.innerHTML = '';\n",
              "          dataTable['output_type'] = 'display_data';\n",
              "          await google.colab.output.renderOutput(dataTable, element);\n",
              "          const docLink = document.createElement('div');\n",
              "          docLink.innerHTML = docLinkHtml;\n",
              "          element.appendChild(docLink);\n",
              "        }\n",
              "      </script>\n",
              "    </div>\n",
              "  </div>\n",
              "  "
            ]
          },
          "metadata": {},
          "execution_count": 12
        }
      ]
    },
    {
      "cell_type": "markdown",
      "metadata": {
        "id": "orGCJmSoldE7"
      },
      "source": [
        "#### a. Jumlah kata unik dalam korpus"
      ]
    },
    {
      "cell_type": "code",
      "metadata": {
        "id": "0qTuQ2LF6jZr",
        "colab": {
          "base_uri": "https://localhost:8080/"
        },
        "outputId": "eade2383-fb12-4e83-ac81-ab365ce1a357"
      },
      "source": [
        "unique_words.shape[0]"
      ],
      "execution_count": 13,
      "outputs": [
        {
          "output_type": "execute_result",
          "data": {
            "text/plain": [
              "23958"
            ]
          },
          "metadata": {},
          "execution_count": 13
        }
      ]
    },
    {
      "cell_type": "markdown",
      "metadata": {
        "id": "ZkSUI_PhCDgd"
      },
      "source": [
        "#### b.100 kata unik dengan jumlah terbanyak"
      ]
    },
    {
      "cell_type": "code",
      "metadata": {
        "id": "2ifG2ye1ApgC",
        "colab": {
          "base_uri": "https://localhost:8080/",
          "height": 455
        },
        "outputId": "ee1d816f-46a5-412f-a786-7c7f83c0d77b"
      },
      "source": [
        "top_100 = tokenized_word.sort_values(by=['jumlah'], ascending=False).head(100)\n",
        "plt.figure(figsize=(25,8))\n",
        "plt.xlabel('Kata')\n",
        "plt.xticks(rotation=90)\n",
        "plt.ylabel('Jumlah')\n",
        "plt.bar(x=top_100['kata'], height = top_100['jumlah'], width=0.8)\n",
        "plt.show()"
      ],
      "execution_count": 14,
      "outputs": [
        {
          "output_type": "display_data",
          "data": {
            "text/plain": [
              "<Figure size 1800x576 with 1 Axes>"
            ],
            "image/png": "[encoded data removed]"
          },
          "metadata": {}
        }
      ]
    },
    {
      "cell_type": "markdown",
      "metadata": {
        "id": "hdWHi3h8mL6n"
      },
      "source": [
        "###### 10 kata terbanyak"
      ]
    },
    {
      "cell_type": "code",
      "metadata": {
        "id": "I0fJ7cKImLOh",
        "colab": {
          "base_uri": "https://localhost:8080/",
          "height": 359
        },
        "outputId": "6c8af457-38ff-44da-b31c-3b33e9c702b7"
      },
      "source": [
        "top_100[['kata','jumlah']].head(10)"
      ],
      "execution_count": 15,
      "outputs": [
        {
          "output_type": "execute_result",
          "data": {
            "text/plain": [
              "     kata  jumlah\n",
              "0    yang    8236\n",
              "1      di    7078\n",
              "2     dan    6740\n",
              "3     itu    3487\n",
              "4     ini    3387\n",
              "5  dengan    3371\n",
              "6   untuk    3271\n",
              "7    dari    3173\n",
              "8   dalam    2862\n",
              "9    pada    2616"
            ],
            "text/html": [
              "\n",
              "  <div id=\"df-a2f13c3e-eecc-4742-bf55-91b2d05cd945\">\n",
              "    <div class=\"colab-df-container\">\n",
              "      <div>\n",
              "<style scoped>\n",
              "    .dataframe tbody tr th:only-of-type {\n",
              "        vertical-align: middle;\n",
              "    }\n",
              "\n",
              "    .dataframe tbody tr th {\n",
              "        vertical-align: top;\n",
              "    }\n",
              "\n",
              "    .dataframe thead th {\n",
              "        text-align: right;\n",
              "    }\n",
              "</style>\n",
              "<table border=\"1\" class=\"dataframe\">\n",
              "  <thead>\n",
              "    <tr style=\"text-align: right;\">\n",
              "      <th></th>\n",
              "      <th>kata</th>\n",
              "      <th>jumlah</th>\n",
              "    </tr>\n",
              "  </thead>\n",
              "  <tbody>\n",
              "    <tr>\n",
              "      <th>0</th>\n",
              "      <td>yang</td>\n",
              "      <td>8236</td>\n",
              "    </tr>\n",
              "    <tr>\n",
              "      <th>1</th>\n",
              "      <td>di</td>\n",
              "      <td>7078</td>\n",
              "    </tr>\n",
              "    <tr>\n",
              "      <th>2</th>\n",
              "      <td>dan</td>\n",
              "      <td>6740</td>\n",
              "    </tr>\n",
              "    <tr>\n",
              "      <th>3</th>\n",
              "      <td>itu</td>\n",
              "      <td>3487</td>\n",
              "    </tr>\n",
              "    <tr>\n",
              "      <th>4</th>\n",
              "      <td>ini</td>\n",
              "      <td>3387</td>\n",
              "    </tr>\n",
              "    <tr>\n",
              "      <th>5</th>\n",
              "      <td>dengan</td>\n",
              "      <td>3371</td>\n",
              "    </tr>\n",
              "    <tr>\n",
              "      <th>6</th>\n",
              "      <td>untuk</td>\n",
              "      <td>3271</td>\n",
              "    </tr>\n",
              "    <tr>\n",
              "      <th>7</th>\n",
              "      <td>dari</td>\n",
              "      <td>3173</td>\n",
              "    </tr>\n",
              "    <tr>\n",
              "      <th>8</th>\n",
              "      <td>dalam</td>\n",
              "      <td>2862</td>\n",
              "    </tr>\n",
              "    <tr>\n",
              "      <th>9</th>\n",
              "      <td>pada</td>\n",
              "      <td>2616</td>\n",
              "    </tr>\n",
              "  </tbody>\n",
              "</table>\n",
              "</div>\n",
              "      <button class=\"colab-df-convert\" onclick=\"convertToInteractive('df-a2f13c3e-eecc-4742-bf55-91b2d05cd945')\"\n",
              "              title=\"Convert this dataframe to an interactive table.\"\n",
              "              style=\"display:none;\">\n",
              "        \n",
              "  <svg xmlns=\"http://www.w3.org/2000/svg\" height=\"24px\"viewBox=\"0 0 24 24\"\n",
              "       width=\"24px\">\n",
              "    <path d=\"M0 0h24v24H0V0z\" fill=\"none\"/>\n",
              "    <path d=\"M18.56 5.44l.94 2.06.94-2.06 2.06-.94-2.06-.94-.94-2.06-.94 2.06-2.06.94zm-11 1L8.5 8.5l.94-2.06 2.06-.94-2.06-.94L8.5 2.5l-.94 2.06-2.06.94zm10 10l.94 2.06.94-2.06 2.06-.94-2.06-.94-.94-2.06-.94 2.06-2.06.94z\"/><path d=\"M17.41 7.96l-1.37-1.37c-.4-.4-.92-.59-1.43-.59-.52 0-1.04.2-1.43.59L10.3 9.45l-7.72 7.72c-.78.78-.78 2.05 0 2.83L4 21.41c.39.39.9.59 1.41.59.51 0 1.02-.2 1.41-.59l7.78-7.78 2.81-2.81c.8-.78.8-2.07 0-2.86zM5.41 20L4 18.59l7.72-7.72 1.47 1.35L5.41 20z\"/>\n",
              "  </svg>\n",
              "      </button>\n",
              "      \n",
              "  <style>\n",
              "    .colab-df-container {\n",
              "      display:flex;\n",
              "      flex-wrap:wrap;\n",
              "      gap: 12px;\n",
              "    }\n",
              "\n",
              "    .colab-df-convert {\n",
              "      background-color: #E8F0FE;\n",
              "      border: none;\n",
              "      border-radius: 50%;\n",
              "      cursor: pointer;\n",
              "      display: none;\n",
              "      fill: #1967D2;\n",
              "      height: 32px;\n",
              "      padding: 0 0 0 0;\n",
              "      width: 32px;\n",
              "    }\n",
              "\n",
              "    .colab-df-convert:hover {\n",
              "      background-color: #E2EBFA;\n",
              "      box-shadow: 0px 1px 2px rgba(60, 64, 67, 0.3), 0px 1px 3px 1px rgba(60, 64, 67, 0.15);\n",
              "      fill: #174EA6;\n",
              "    }\n",
              "\n",
              "    [theme=dark] .colab-df-convert {\n",
              "      background-color: #3B4455;\n",
              "      fill: #D2E3FC;\n",
              "    }\n",
              "\n",
              "    [theme=dark] .colab-df-convert:hover {\n",
              "      background-color: #434B5C;\n",
              "      box-shadow: 0px 1px 3px 1px rgba(0, 0, 0, 0.15);\n",
              "      filter: drop-shadow(0px 1px 2px rgba(0, 0, 0, 0.3));\n",
              "      fill: #FFFFFF;\n",
              "    }\n",
              "  </style>\n",
              "\n",
              "      <script>\n",
              "        const buttonEl =\n",
              "          document.querySelector('#df-a2f13c3e-eecc-4742-bf55-91b2d05cd945 button.colab-df-convert');\n",
              "        buttonEl.style.display =\n",
              "          google.colab.kernel.accessAllowed ? 'block' : 'none';\n",
              "\n",
              "        async function convertToInteractive(key) {\n",
              "          const element = document.querySelector('#df-a2f13c3e-eecc-4742-bf55-91b2d05cd945');\n",
              "          const dataTable =\n",
              "            await google.colab.kernel.invokeFunction('convertToInteractive',\n",
              "                                                     [key], {});\n",
              "          if (!dataTable) return;\n",
              "\n",
              "          const docLinkHtml = 'Like what you see? Visit the ' +\n",
              "            '<a target=\"_blank\" href=https://colab.research.google.com/notebooks/data_table.ipynb>data table notebook</a>'\n",
              "            + ' to learn more about interactive tables.';\n",
              "          element.innerHTML = '';\n",
              "          dataTable['output_type'] = 'display_data';\n",
              "          await google.colab.output.renderOutput(dataTable, element);\n",
              "          const docLink = document.createElement('div');\n",
              "          docLink.innerHTML = docLinkHtml;\n",
              "          element.appendChild(docLink);\n",
              "        }\n",
              "      </script>\n",
              "    </div>\n",
              "  </div>\n",
              "  "
            ]
          },
          "metadata": {},
          "execution_count": 15
        }
      ]
    },
    {
      "cell_type": "markdown",
      "metadata": {
        "id": "A2HNhaHHCyVP"
      },
      "source": [
        "#### 10 bigram terbanyak"
      ]
    },
    {
      "cell_type": "code",
      "metadata": {
        "id": "nhd2NuKwC18M"
      },
      "source": [
        "list_bigrams = []\n",
        "for i in range(len(korpus['content'])):\n",
        "  raw_words = korpus[\"content\"][i].translate(str.maketrans(\"\",\"\", string.punctuation))\n",
        "  bigrams = nltk.bigrams(nltk.word_tokenize(raw_words.lower()))\n",
        "  list_bigrams.extend(bigrams)"
      ],
      "execution_count": 16,
      "outputs": []
    },
    {
      "cell_type": "code",
      "metadata": {
        "id": "dfLA-jLYC-1a"
      },
      "source": [
        "df1 = pd.DataFrame(columns=['bigram'])\n",
        "df1['bigram'] = list_bigrams"
      ],
      "execution_count": 17,
      "outputs": []
    },
    {
      "cell_type": "code",
      "metadata": {
        "id": "hyQFW7quDmyi"
      },
      "source": [
        "bigram_word = df1['bigram'].value_counts()\n",
        "tokenized_bigram = pd.DataFrame(bigram_word)\n",
        "tokenized_bigram = tokenized_bigram.reset_index()\n",
        "tokenized_bigram.columns = ['bigram', 'jumlah'] "
      ],
      "execution_count": 18,
      "outputs": []
    },
    {
      "cell_type": "code",
      "metadata": {
        "id": "V2PoYymED_Nk",
        "colab": {
          "base_uri": "https://localhost:8080/",
          "height": 359
        },
        "outputId": "29957372-9db1-4e9f-fadf-414442cc2b02"
      },
      "source": [
        "tokenized_bigram.sort_values(by=['jumlah'], ascending=False).head(10)"
      ],
      "execution_count": 19,
      "outputs": [
        {
          "output_type": "execute_result",
          "data": {
            "text/plain": [
              "                  bigram  jumlah\n",
              "0            (saat, ini)     556\n",
              "1         (dki, jakarta)     445\n",
              "2        (virus, corona)     423\n",
              "3          (salah, satu)     319\n",
              "4          (selain, itu)     257\n",
              "5         (rumah, sakit)     252\n",
              "6        (di, indonesia)     249\n",
              "7  (protokol, kesehatan)     245\n",
              "8           (berada, di)     232\n",
              "9     (gambasvideo, cnn)     211"
            ],
            "text/html": [
              "\n",
              "  <div id=\"df-47c222ca-d05c-4ae1-a461-6f5d7f5b0c22\">\n",
              "    <div class=\"colab-df-container\">\n",
              "      <div>\n",
              "<style scoped>\n",
              "    .dataframe tbody tr th:only-of-type {\n",
              "        vertical-align: middle;\n",
              "    }\n",
              "\n",
              "    .dataframe tbody tr th {\n",
              "        vertical-align: top;\n",
              "    }\n",
              "\n",
              "    .dataframe thead th {\n",
              "        text-align: right;\n",
              "    }\n",
              "</style>\n",
              "<table border=\"1\" class=\"dataframe\">\n",
              "  <thead>\n",
              "    <tr style=\"text-align: right;\">\n",
              "      <th></th>\n",
              "      <th>bigram</th>\n",
              "      <th>jumlah</th>\n",
              "    </tr>\n",
              "  </thead>\n",
              "  <tbody>\n",
              "    <tr>\n",
              "      <th>0</th>\n",
              "      <td>(saat, ini)</td>\n",
              "      <td>556</td>\n",
              "    </tr>\n",
              "    <tr>\n",
              "      <th>1</th>\n",
              "      <td>(dki, jakarta)</td>\n",
              "      <td>445</td>\n",
              "    </tr>\n",
              "    <tr>\n",
              "      <th>2</th>\n",
              "      <td>(virus, corona)</td>\n",
              "      <td>423</td>\n",
              "    </tr>\n",
              "    <tr>\n",
              "      <th>3</th>\n",
              "      <td>(salah, satu)</td>\n",
              "      <td>319</td>\n",
              "    </tr>\n",
              "    <tr>\n",
              "      <th>4</th>\n",
              "      <td>(selain, itu)</td>\n",
              "      <td>257</td>\n",
              "    </tr>\n",
              "    <tr>\n",
              "      <th>5</th>\n",
              "      <td>(rumah, sakit)</td>\n",
              "      <td>252</td>\n",
              "    </tr>\n",
              "    <tr>\n",
              "      <th>6</th>\n",
              "      <td>(di, indonesia)</td>\n",
              "      <td>249</td>\n",
              "    </tr>\n",
              "    <tr>\n",
              "      <th>7</th>\n",
              "      <td>(protokol, kesehatan)</td>\n",
              "      <td>245</td>\n",
              "    </tr>\n",
              "    <tr>\n",
              "      <th>8</th>\n",
              "      <td>(berada, di)</td>\n",
              "      <td>232</td>\n",
              "    </tr>\n",
              "    <tr>\n",
              "      <th>9</th>\n",
              "      <td>(gambasvideo, cnn)</td>\n",
              "      <td>211</td>\n",
              "    </tr>\n",
              "  </tbody>\n",
              "</table>\n",
              "</div>\n",
              "      <button class=\"colab-df-convert\" onclick=\"convertToInteractive('df-47c222ca-d05c-4ae1-a461-6f5d7f5b0c22')\"\n",
              "              title=\"Convert this dataframe to an interactive table.\"\n",
              "              style=\"display:none;\">\n",
              "        \n",
              "  <svg xmlns=\"http://www.w3.org/2000/svg\" height=\"24px\"viewBox=\"0 0 24 24\"\n",
              "       width=\"24px\">\n",
              "    <path d=\"M0 0h24v24H0V0z\" fill=\"none\"/>\n",
              "    <path d=\"M18.56 5.44l.94 2.06.94-2.06 2.06-.94-2.06-.94-.94-2.06-.94 2.06-2.06.94zm-11 1L8.5 8.5l.94-2.06 2.06-.94-2.06-.94L8.5 2.5l-.94 2.06-2.06.94zm10 10l.94 2.06.94-2.06 2.06-.94-2.06-.94-.94-2.06-.94 2.06-2.06.94z\"/><path d=\"M17.41 7.96l-1.37-1.37c-.4-.4-.92-.59-1.43-.59-.52 0-1.04.2-1.43.59L10.3 9.45l-7.72 7.72c-.78.78-.78 2.05 0 2.83L4 21.41c.39.39.9.59 1.41.59.51 0 1.02-.2 1.41-.59l7.78-7.78 2.81-2.81c.8-.78.8-2.07 0-2.86zM5.41 20L4 18.59l7.72-7.72 1.47 1.35L5.41 20z\"/>\n",
              "  </svg>\n",
              "      </button>\n",
              "      \n",
              "  <style>\n",
              "    .colab-df-container {\n",
              "      display:flex;\n",
              "      flex-wrap:wrap;\n",
              "      gap: 12px;\n",
              "    }\n",
              "\n",
              "    .colab-df-convert {\n",
              "      background-color: #E8F0FE;\n",
              "      border: none;\n",
              "      border-radius: 50%;\n",
              "      cursor: pointer;\n",
              "      display: none;\n",
              "      fill: #1967D2;\n",
              "      height: 32px;\n",
              "      padding: 0 0 0 0;\n",
              "      width: 32px;\n",
              "    }\n",
              "\n",
              "    .colab-df-convert:hover {\n",
              "      background-color: #E2EBFA;\n",
              "      box-shadow: 0px 1px 2px rgba(60, 64, 67, 0.3), 0px 1px 3px 1px rgba(60, 64, 67, 0.15);\n",
              "      fill: #174EA6;\n",
              "    }\n",
              "\n",
              "    [theme=dark] .colab-df-convert {\n",
              "      background-color: #3B4455;\n",
              "      fill: #D2E3FC;\n",
              "    }\n",
              "\n",
              "    [theme=dark] .colab-df-convert:hover {\n",
              "      background-color: #434B5C;\n",
              "      box-shadow: 0px 1px 3px 1px rgba(0, 0, 0, 0.15);\n",
              "      filter: drop-shadow(0px 1px 2px rgba(0, 0, 0, 0.3));\n",
              "      fill: #FFFFFF;\n",
              "    }\n",
              "  </style>\n",
              "\n",
              "      <script>\n",
              "        const buttonEl =\n",
              "          document.querySelector('#df-47c222ca-d05c-4ae1-a461-6f5d7f5b0c22 button.colab-df-convert');\n",
              "        buttonEl.style.display =\n",
              "          google.colab.kernel.accessAllowed ? 'block' : 'none';\n",
              "\n",
              "        async function convertToInteractive(key) {\n",
              "          const element = document.querySelector('#df-47c222ca-d05c-4ae1-a461-6f5d7f5b0c22');\n",
              "          const dataTable =\n",
              "            await google.colab.kernel.invokeFunction('convertToInteractive',\n",
              "                                                     [key], {});\n",
              "          if (!dataTable) return;\n",
              "\n",
              "          const docLinkHtml = 'Like what you see? Visit the ' +\n",
              "            '<a target=\"_blank\" href=https://colab.research.google.com/notebooks/data_table.ipynb>data table notebook</a>'\n",
              "            + ' to learn more about interactive tables.';\n",
              "          element.innerHTML = '';\n",
              "          dataTable['output_type'] = 'display_data';\n",
              "          await google.colab.output.renderOutput(dataTable, element);\n",
              "          const docLink = document.createElement('div');\n",
              "          docLink.innerHTML = docLinkHtml;\n",
              "          element.appendChild(docLink);\n",
              "        }\n",
              "      </script>\n",
              "    </div>\n",
              "  </div>\n",
              "  "
            ]
          },
          "metadata": {},
          "execution_count": 19
        }
      ]
    },
    {
      "cell_type": "markdown",
      "metadata": {
        "id": "poHoDbPGE0nS"
      },
      "source": [
        "### 4. Analisa fitur originalTitle"
      ]
    },
    {
      "cell_type": "code",
      "metadata": {
        "id": "xp7ZWNeZE4Ix"
      },
      "source": [
        "list_kata = []\n",
        "for i in range(len(korpus['originalTitle'])):\n",
        "  raw_words = korpus[\"originalTitle\"][i].translate(str.maketrans(\"\",\"\", string.punctuation))\n",
        "  kata = nltk.word_tokenize(raw_words.lower())\n",
        "  list_kata.extend(kata)"
      ],
      "execution_count": 20,
      "outputs": []
    },
    {
      "cell_type": "code",
      "metadata": {
        "id": "_Ygxpp0pFKFo"
      },
      "source": [
        "df2 = pd.DataFrame(columns=['kata'])\n",
        "df2['kata'] = list_kata"
      ],
      "execution_count": 21,
      "outputs": []
    },
    {
      "cell_type": "code",
      "metadata": {
        "id": "nH5I8FIaFO0X"
      },
      "source": [
        "tokenized_judul = pd.DataFrame(df2['kata'].value_counts())\n",
        "list_kata = tokenized_judul.index.tolist()"
      ],
      "execution_count": 22,
      "outputs": []
    },
    {
      "cell_type": "markdown",
      "metadata": {
        "id": "1W3FkDRqFq0m"
      },
      "source": [
        "#### a. Rata-rata jumlah kata pada fitur"
      ]
    },
    {
      "cell_type": "code",
      "metadata": {
        "id": "4vZWpE7BFcIU",
        "colab": {
          "base_uri": "https://localhost:8080/"
        },
        "outputId": "cd3e2bf4-90e4-4904-832b-b282b88599c3"
      },
      "source": [
        "tokenized_judul['kata'].mean()"
      ],
      "execution_count": 23,
      "outputs": [
        {
          "output_type": "execute_result",
          "data": {
            "text/plain": [
              "2.6716554673182653"
            ]
          },
          "metadata": {},
          "execution_count": 23
        }
      ]
    },
    {
      "cell_type": "markdown",
      "metadata": {
        "id": "eRMwuX5aF3cC"
      },
      "source": [
        "#### b. Word cloud"
      ]
    },
    {
      "cell_type": "code",
      "metadata": {
        "id": "SV4Ys2wTFwJN"
      },
      "source": [
        "from wordcloud import WordCloud, STOPWORDS"
      ],
      "execution_count": 24,
      "outputs": []
    },
    {
      "cell_type": "code",
      "metadata": {
        "id": "jqwtSMh-F7VP"
      },
      "source": [
        "wordcloud = WordCloud(background_color=\"white\",max_words=30000).generate(\" \".join(list_kata))"
      ],
      "execution_count": 25,
      "outputs": []
    },
    {
      "cell_type": "code",
      "metadata": {
        "id": "1bu2LsFWGTfK",
        "colab": {
          "base_uri": "https://localhost:8080/",
          "height": 449
        },
        "outputId": "98b074e5-4c28-4f33-c194-6ee52055fa24"
      },
      "source": [
        "plt.figure(figsize = (15, 10), facecolor = None)\n",
        "plt.imshow(wordcloud)\n",
        "plt.axis(\"off\")\n",
        "plt.show()"
      ],
      "execution_count": 26,
      "outputs": [
        {
          "output_type": "display_data",
          "data": {
            "text/plain": [
              "<Figure size 1080x720 with 1 Axes>"
            ],
            "image/png": "[encoded data removed]"
          },
          "metadata": {}
        }
      ]
    },
    {
      "cell_type": "markdown",
      "metadata": {
        "id": "mHwYKAlGI8Q_"
      },
      "source": [
        "# Bagian B"
      ]
    },
    {
      "cell_type": "code",
      "metadata": {
        "id": "7yXCliNXG0jz"
      },
      "source": [
        "import re"
      ],
      "execution_count": 27,
      "outputs": []
    },
    {
      "cell_type": "code",
      "metadata": {
        "id": "kJFF5jPicLAv"
      },
      "source": [
        "socmed = []\n",
        "email = [] \n",
        "def find_account(text) :\n",
        "  socmed_pattern = \"[^A-z0-9\\n]@[A-z0-9_.]{1,14}[A-z0-9_]\"\n",
        "  email_pattern = '[A-z0-9.\\-_]+@[A-z0-9.\\-_]+\\.[A-z0-9\\-._]+(?!\\.)'\n",
        "  socmed.extend(re.findall(socmed_pattern, text))\n",
        "  email.extend(re.findall(email_pattern, text)) "
      ],
      "execution_count": 28,
      "outputs": []
    },
    {
      "cell_type": "code",
      "metadata": {
        "id": "Urm40d75cLDp"
      },
      "source": [
        "korpus['content'] = korpus['content'].apply(find_account)"
      ],
      "execution_count": 29,
      "outputs": []
    },
    {
      "cell_type": "markdown",
      "metadata": {
        "id": "hctciatx4AGp"
      },
      "source": [
        "### 1. Akun Email"
      ]
    },
    {
      "cell_type": "code",
      "metadata": {
        "id": "X1LhjK1FcLGK",
        "colab": {
          "base_uri": "https://localhost:8080/"
        },
        "outputId": "9de8b64a-a368-46af-9356-5061203563e4"
      },
      "source": [
        "email_df = pd.DataFrame(columns=['akun'])\n",
        "email_df['akun'] = email\n",
        "akun_email = email_df['akun'].value_counts()\n",
        "for i in range (len(akun_email)) :\n",
        "  print(akun_email.index[i], \"-\", akun_email[i])"
      ],
      "execution_count": 30,
      "outputs": [
        {
          "output_type": "stream",
          "name": "stdout",
          "text": [
            "info@railink.co.id. - 1\n",
            "infopemilu.LHKPN@kpk.go.id - 1\n"
          ]
        }
      ]
    },
    {
      "cell_type": "markdown",
      "metadata": {
        "id": "HepfyHIb6p8e"
      },
      "source": [
        "### 2. Akun media sosial"
      ]
    },
    {
      "cell_type": "code",
      "metadata": {
        "id": "63liZyqkmHw-",
        "colab": {
          "base_uri": "https://localhost:8080/"
        },
        "outputId": "0fc2985a-d6a8-4832-dde1-216360da26e2"
      },
      "source": [
        "socmed_df = pd.DataFrame(columns=['akun'])\n",
        "socmed_df['akun'] = socmed\n",
        "akun_socmed = socmed_df['akun'].value_counts()\n",
        "for i in range (len(akun_socmed)) :\n",
        "  print(akun_socmed.index[i], \"-\", akun_socmed[i])"
      ],
      "execution_count": 31,
      "outputs": [
        {
          "output_type": "stream",
          "name": "stdout",
          "text": [
            " @commuterline - 3\n",
            " @chandra_ds - 3\n",
            " @basukibtp - 2\n",
            " @BennyHarmanID - 2\n",
            " @listongs - 2\n",
            " @NetflixUK - 2\n",
            " @ridwankamil - 2\n",
            " @TMCPoldaMetro - 2\n",
            " @acmawards - 2\n",
            " @Aditt_hr - 2\n",
            " @adiw9237 - 2\n",
            " @miztabay - 2\n",
            " @rr.irwin - 1\n",
            " @WallnerAndi - 1\n",
            " @jakarta.siana - 1\n",
            " @_KingPurwa - 1\n",
            " @sbotv - 1\n",
            " @syekh.alijaber - 1\n",
            " @boazsolossa - 1\n",
            " @abangriza - 1\n",
            " @m3takl_en - 1\n",
            " @infobekasi - 1\n",
            " @regureg - 1\n",
            " @Dwinamasayaa - 1\n",
            " @kaesangp - 1\n",
            " @HRimanti - 1\n",
            " @warung_jurnalis - 1\n",
            " @kemenkopukm - 1\n",
            " @rizqiawal - 1\n",
            " @putri_tanjung - 1\n",
            " @txtdaribogor - 1\n",
            " @tirta_hudhi - 1\n",
            " @prakerja.go.id - 1\n",
            " @kontributorjaka - 1\n",
            " @ito.kurnia - 1\n",
            " @firdzaradiany - 1\n",
            " @ganangsy - 1\n",
            " @tyonarie2 - 1\n",
            " @MushinAshin3 - 1\n",
            " @FerdinandHaean3 - 1\n",
            " @yasshh19 - 1\n",
            " @cositadelanoche - 1\n",
            " @Aikaz_F - 1\n",
            " @prastow - 1\n",
            " @KPK_RI - 1\n",
            " @pahlawandigital - 1\n",
            " @lambe_turah - 1\n",
            " @txtdaripooh - 1\n"
          ]
        }
      ]
    },
    {
      "cell_type": "markdown",
      "metadata": {
        "id": "Ilt6LQrU7QOQ"
      },
      "source": [
        "### 3. Akun yang dipastikan merupakan akun instagram"
      ]
    },
    {
      "cell_type": "code",
      "metadata": {
        "id": "-nWTq2F07PhH",
        "colab": {
          "base_uri": "https://localhost:8080/"
        },
        "outputId": "4f31db36-4830-485c-e038-6db64799a5b6"
      },
      "source": [
        "list_akun_socmed = akun_socmed.index.values.tolist()\n",
        "list_ig = []\n",
        "for i in list_akun_socmed :\n",
        "  ig_pattern = \"@[A-z0-9_]+\\.[A-z0-9_.]+\"\n",
        "  ig = re.findall(ig_pattern, i)\n",
        "  print(i, \"-\", akun_socmed[i])"
      ],
      "execution_count": 32,
      "outputs": [
        {
          "output_type": "stream",
          "name": "stdout",
          "text": [
            " @commuterline - 3\n",
            " @chandra_ds - 3\n",
            " @basukibtp - 2\n",
            " @BennyHarmanID - 2\n",
            " @listongs - 2\n",
            " @NetflixUK - 2\n",
            " @ridwankamil - 2\n",
            " @TMCPoldaMetro - 2\n",
            " @acmawards - 2\n",
            " @Aditt_hr - 2\n",
            " @adiw9237 - 2\n",
            " @miztabay - 2\n",
            " @rr.irwin - 1\n",
            " @WallnerAndi - 1\n",
            " @jakarta.siana - 1\n",
            " @_KingPurwa - 1\n",
            " @sbotv - 1\n",
            " @syekh.alijaber - 1\n",
            " @boazsolossa - 1\n",
            " @abangriza - 1\n",
            " @m3takl_en - 1\n",
            " @infobekasi - 1\n",
            " @regureg - 1\n",
            " @Dwinamasayaa - 1\n",
            " @kaesangp - 1\n",
            " @HRimanti - 1\n",
            " @warung_jurnalis - 1\n",
            " @kemenkopukm - 1\n",
            " @rizqiawal - 1\n",
            " @putri_tanjung - 1\n",
            " @txtdaribogor - 1\n",
            " @tirta_hudhi - 1\n",
            " @prakerja.go.id - 1\n",
            " @kontributorjaka - 1\n",
            " @ito.kurnia - 1\n",
            " @firdzaradiany - 1\n",
            " @ganangsy - 1\n",
            " @tyonarie2 - 1\n",
            " @MushinAshin3 - 1\n",
            " @FerdinandHaean3 - 1\n",
            " @yasshh19 - 1\n",
            " @cositadelanoche - 1\n",
            " @Aikaz_F - 1\n",
            " @prastow - 1\n",
            " @KPK_RI - 1\n",
            " @pahlawandigital - 1\n",
            " @lambe_turah - 1\n",
            " @txtdaripooh - 1\n"
          ]
        }
      ]
    },
    {
      "cell_type": "markdown",
      "metadata": {
        "id": "ugvza2OkcLPU"
      },
      "source": [
        "# Bagian C"
      ]
    },
    {
      "cell_type": "code",
      "metadata": {
        "id": "hZkTwIZ6cMTT"
      },
      "source": [
        "korpus_ringkas = pd.read_json('/content/Korpus_Ringkas.json')"
      ],
      "execution_count": 37,
      "outputs": []
    },
    {
      "cell_type": "code",
      "metadata": {
        "id": "9wX2abQpcWsU",
        "colab": {
          "base_uri": "https://localhost:8080/",
          "height": 659
        },
        "outputId": "33b2d6ca-c46d-464b-dccb-a283a5cdcd01"
      },
      "source": [
        "korpus_ringkas.head()"
      ],
      "execution_count": 38,
      "outputs": [
        {
          "output_type": "execute_result",
          "data": {
            "text/plain": [
              "   id                                            content\n",
              "0   0  MotoGP 2020akan memasuki seri ketujuh yang ber...\n",
              "1   1  Pemerintah Provinsi DKI Jakarta menutup sement...\n",
              "2   2  Ketua Komisi Pemilihan Umum (KPU)Arief Budiman...\n",
              "3   3  Helikopter milik PT National Utility Helicopte...\n",
              "4   4  Presiden Amerika Serikat Donald Trump dipastik..."
            ],
            "text/html": [
              "\n",
              "  <div id=\"df-7ec5ddc6-29c4-4165-a5d0-7d5f62c57226\">\n",
              "    <div class=\"colab-df-container\">\n",
              "      <div>\n",
              "<style scoped>\n",
              "    .dataframe tbody tr th:only-of-type {\n",
              "        vertical-align: middle;\n",
              "    }\n",
              "\n",
              "    .dataframe tbody tr th {\n",
              "        vertical-align: top;\n",
              "    }\n",
              "\n",
              "    .dataframe thead th {\n",
              "        text-align: right;\n",
              "    }\n",
              "</style>\n",
              "<table border=\"1\" class=\"dataframe\">\n",
              "  <thead>\n",
              "    <tr style=\"text-align: right;\">\n",
              "      <th></th>\n",
              "      <th>id</th>\n",
              "      <th>content</th>\n",
              "    </tr>\n",
              "  </thead>\n",
              "  <tbody>\n",
              "    <tr>\n",
              "      <th>0</th>\n",
              "      <td>0</td>\n",
              "      <td>MotoGP 2020akan memasuki seri ketujuh yang ber...</td>\n",
              "    </tr>\n",
              "    <tr>\n",
              "      <th>1</th>\n",
              "      <td>1</td>\n",
              "      <td>Pemerintah Provinsi DKI Jakarta menutup sement...</td>\n",
              "    </tr>\n",
              "    <tr>\n",
              "      <th>2</th>\n",
              "      <td>2</td>\n",
              "      <td>Ketua Komisi Pemilihan Umum (KPU)Arief Budiman...</td>\n",
              "    </tr>\n",
              "    <tr>\n",
              "      <th>3</th>\n",
              "      <td>3</td>\n",
              "      <td>Helikopter milik PT National Utility Helicopte...</td>\n",
              "    </tr>\n",
              "    <tr>\n",
              "      <th>4</th>\n",
              "      <td>4</td>\n",
              "      <td>Presiden Amerika Serikat Donald Trump dipastik...</td>\n",
              "    </tr>\n",
              "  </tbody>\n",
              "</table>\n",
              "</div>\n",
              "      <button class=\"colab-df-convert\" onclick=\"convertToInteractive('df-7ec5ddc6-29c4-4165-a5d0-7d5f62c57226')\"\n",
              "              title=\"Convert this dataframe to an interactive table.\"\n",
              "              style=\"display:none;\">\n",
              "        \n",
              "  <svg xmlns=\"http://www.w3.org/2000/svg\" height=\"24px\"viewBox=\"0 0 24 24\"\n",
              "       width=\"24px\">\n",
              "    <path d=\"M0 0h24v24H0V0z\" fill=\"none\"/>\n",
              "    <path d=\"M18.56 5.44l.94 2.06.94-2.06 2.06-.94-2.06-.94-.94-2.06-.94 2.06-2.06.94zm-11 1L8.5 8.5l.94-2.06 2.06-.94-2.06-.94L8.5 2.5l-.94 2.06-2.06.94zm10 10l.94 2.06.94-2.06 2.06-.94-2.06-.94-.94-2.06-.94 2.06-2.06.94z\"/><path d=\"M17.41 7.96l-1.37-1.37c-.4-.4-.92-.59-1.43-.59-.52 0-1.04.2-1.43.59L10.3 9.45l-7.72 7.72c-.78.78-.78 2.05 0 2.83L4 21.41c.39.39.9.59 1.41.59.51 0 1.02-.2 1.41-.59l7.78-7.78 2.81-2.81c.8-.78.8-2.07 0-2.86zM5.41 20L4 18.59l7.72-7.72 1.47 1.35L5.41 20z\"/>\n",
              "  </svg>\n",
              "      </button>\n",
              "      \n",
              "  <style>\n",
              "    .colab-df-container {\n",
              "      display:flex;\n",
              "      flex-wrap:wrap;\n",
              "      gap: 12px;\n",
              "    }\n",
              "\n",
              "    .colab-df-convert {\n",
              "      background-color: #E8F0FE;\n",
              "      border: none;\n",
              "      border-radius: 50%;\n",
              "      cursor: pointer;\n",
              "      display: none;\n",
              "      fill: #1967D2;\n",
              "      height: 32px;\n",
              "      padding: 0 0 0 0;\n",
              "      width: 32px;\n",
              "    }\n",
              "\n",
              "    .colab-df-convert:hover {\n",
              "      background-color: #E2EBFA;\n",
              "      box-shadow: 0px 1px 2px rgba(60, 64, 67, 0.3), 0px 1px 3px 1px rgba(60, 64, 67, 0.15);\n",
              "      fill: #174EA6;\n",
              "    }\n",
              "\n",
              "    [theme=dark] .colab-df-convert {\n",
              "      background-color: #3B4455;\n",
              "      fill: #D2E3FC;\n",
              "    }\n",
              "\n",
              "    [theme=dark] .colab-df-convert:hover {\n",
              "      background-color: #434B5C;\n",
              "      box-shadow: 0px 1px 3px 1px rgba(0, 0, 0, 0.15);\n",
              "      filter: drop-shadow(0px 1px 2px rgba(0, 0, 0, 0.3));\n",
              "      fill: #FFFFFF;\n",
              "    }\n",
              "  </style>\n",
              "\n",
              "      <script>\n",
              "        const buttonEl =\n",
              "          document.querySelector('#df-7ec5ddc6-29c4-4165-a5d0-7d5f62c57226 button.colab-df-convert');\n",
              "        buttonEl.style.display =\n",
              "          google.colab.kernel.accessAllowed ? 'block' : 'none';\n",
              "\n",
              "        async function convertToInteractive(key) {\n",
              "          const element = document.querySelector('#df-7ec5ddc6-29c4-4165-a5d0-7d5f62c57226');\n",
              "          const dataTable =\n",
              "            await google.colab.kernel.invokeFunction('convertToInteractive',\n",
              "                                                     [key], {});\n",
              "          if (!dataTable) return;\n",
              "\n",
              "          const docLinkHtml = 'Like what you see? Visit the ' +\n",
              "            '<a target=\"_blank\" href=https://colab.research.google.com/notebooks/data_table.ipynb>data table notebook</a>'\n",
              "            + ' to learn more about interactive tables.';\n",
              "          element.innerHTML = '';\n",
              "          dataTable['output_type'] = 'display_data';\n",
              "          await google.colab.output.renderOutput(dataTable, element);\n",
              "          const docLink = document.createElement('div');\n",
              "          docLink.innerHTML = docLinkHtml;\n",
              "          element.appendChild(docLink);\n",
              "        }\n",
              "      </script>\n",
              "    </div>\n",
              "  </div>\n",
              "  "
            ]
          },
          "metadata": {},
          "execution_count": 38
        }
      ]
    },
    {
      "cell_type": "markdown",
      "metadata": {
        "id": "VWPTJcfPck7G"
      },
      "source": [
        "#### a. Transformasi karakter menjadi lowercase"
      ]
    },
    {
      "cell_type": "code",
      "metadata": {
        "id": "yA_NS0hCcZZy",
        "colab": {
          "base_uri": "https://localhost:8080/",
          "height": 659
        },
        "outputId": "cbd56772-e7af-4dc8-88d1-d72474d45ba1"
      },
      "source": [
        "korpus_ringkas['content'] = korpus_ringkas['content'].str.lower()\n",
        "korpus_ringkas.head()"
      ],
      "execution_count": 39,
      "outputs": [
        {
          "output_type": "execute_result",
          "data": {
            "text/plain": [
              "   id                                            content\n",
              "0   0  motogp 2020akan memasuki seri ketujuh yang ber...\n",
              "1   1  pemerintah provinsi dki jakarta menutup sement...\n",
              "2   2  ketua komisi pemilihan umum (kpu)arief budiman...\n",
              "3   3  helikopter milik pt national utility helicopte...\n",
              "4   4  presiden amerika serikat donald trump dipastik..."
            ],
            "text/html": [
              "\n",
              "  <div id=\"df-94b0d55e-ce36-4327-b9d7-a6d916728399\">\n",
              "    <div class=\"colab-df-container\">\n",
              "      <div>\n",
              "<style scoped>\n",
              "    .dataframe tbody tr th:only-of-type {\n",
              "        vertical-align: middle;\n",
              "    }\n",
              "\n",
              "    .dataframe tbody tr th {\n",
              "        vertical-align: top;\n",
              "    }\n",
              "\n",
              "    .dataframe thead th {\n",
              "        text-align: right;\n",
              "    }\n",
              "</style>\n",
              "<table border=\"1\" class=\"dataframe\">\n",
              "  <thead>\n",
              "    <tr style=\"text-align: right;\">\n",
              "      <th></th>\n",
              "      <th>id</th>\n",
              "      <th>content</th>\n",
              "    </tr>\n",
              "  </thead>\n",
              "  <tbody>\n",
              "    <tr>\n",
              "      <th>0</th>\n",
              "      <td>0</td>\n",
              "      <td>motogp 2020akan memasuki seri ketujuh yang ber...</td>\n",
              "    </tr>\n",
              "    <tr>\n",
              "      <th>1</th>\n",
              "      <td>1</td>\n",
              "      <td>pemerintah provinsi dki jakarta menutup sement...</td>\n",
              "    </tr>\n",
              "    <tr>\n",
              "      <th>2</th>\n",
              "      <td>2</td>\n",
              "      <td>ketua komisi pemilihan umum (kpu)arief budiman...</td>\n",
              "    </tr>\n",
              "    <tr>\n",
              "      <th>3</th>\n",
              "      <td>3</td>\n",
              "      <td>helikopter milik pt national utility helicopte...</td>\n",
              "    </tr>\n",
              "    <tr>\n",
              "      <th>4</th>\n",
              "      <td>4</td>\n",
              "      <td>presiden amerika serikat donald trump dipastik...</td>\n",
              "    </tr>\n",
              "  </tbody>\n",
              "</table>\n",
              "</div>\n",
              "      <button class=\"colab-df-convert\" onclick=\"convertToInteractive('df-94b0d55e-ce36-4327-b9d7-a6d916728399')\"\n",
              "              title=\"Convert this dataframe to an interactive table.\"\n",
              "              style=\"display:none;\">\n",
              "        \n",
              "  <svg xmlns=\"http://www.w3.org/2000/svg\" height=\"24px\"viewBox=\"0 0 24 24\"\n",
              "       width=\"24px\">\n",
              "    <path d=\"M0 0h24v24H0V0z\" fill=\"none\"/>\n",
              "    <path d=\"M18.56 5.44l.94 2.06.94-2.06 2.06-.94-2.06-.94-.94-2.06-.94 2.06-2.06.94zm-11 1L8.5 8.5l.94-2.06 2.06-.94-2.06-.94L8.5 2.5l-.94 2.06-2.06.94zm10 10l.94 2.06.94-2.06 2.06-.94-2.06-.94-.94-2.06-.94 2.06-2.06.94z\"/><path d=\"M17.41 7.96l-1.37-1.37c-.4-.4-.92-.59-1.43-.59-.52 0-1.04.2-1.43.59L10.3 9.45l-7.72 7.72c-.78.78-.78 2.05 0 2.83L4 21.41c.39.39.9.59 1.41.59.51 0 1.02-.2 1.41-.59l7.78-7.78 2.81-2.81c.8-.78.8-2.07 0-2.86zM5.41 20L4 18.59l7.72-7.72 1.47 1.35L5.41 20z\"/>\n",
              "  </svg>\n",
              "      </button>\n",
              "      \n",
              "  <style>\n",
              "    .colab-df-container {\n",
              "      display:flex;\n",
              "      flex-wrap:wrap;\n",
              "      gap: 12px;\n",
              "    }\n",
              "\n",
              "    .colab-df-convert {\n",
              "      background-color: #E8F0FE;\n",
              "      border: none;\n",
              "      border-radius: 50%;\n",
              "      cursor: pointer;\n",
              "      display: none;\n",
              "      fill: #1967D2;\n",
              "      height: 32px;\n",
              "      padding: 0 0 0 0;\n",
              "      width: 32px;\n",
              "    }\n",
              "\n",
              "    .colab-df-convert:hover {\n",
              "      background-color: #E2EBFA;\n",
              "      box-shadow: 0px 1px 2px rgba(60, 64, 67, 0.3), 0px 1px 3px 1px rgba(60, 64, 67, 0.15);\n",
              "      fill: #174EA6;\n",
              "    }\n",
              "\n",
              "    [theme=dark] .colab-df-convert {\n",
              "      background-color: #3B4455;\n",
              "      fill: #D2E3FC;\n",
              "    }\n",
              "\n",
              "    [theme=dark] .colab-df-convert:hover {\n",
              "      background-color: #434B5C;\n",
              "      box-shadow: 0px 1px 3px 1px rgba(0, 0, 0, 0.15);\n",
              "      filter: drop-shadow(0px 1px 2px rgba(0, 0, 0, 0.3));\n",
              "      fill: #FFFFFF;\n",
              "    }\n",
              "  </style>\n",
              "\n",
              "      <script>\n",
              "        const buttonEl =\n",
              "          document.querySelector('#df-94b0d55e-ce36-4327-b9d7-a6d916728399 button.colab-df-convert');\n",
              "        buttonEl.style.display =\n",
              "          google.colab.kernel.accessAllowed ? 'block' : 'none';\n",
              "\n",
              "        async function convertToInteractive(key) {\n",
              "          const element = document.querySelector('#df-94b0d55e-ce36-4327-b9d7-a6d916728399');\n",
              "          const dataTable =\n",
              "            await google.colab.kernel.invokeFunction('convertToInteractive',\n",
              "                                                     [key], {});\n",
              "          if (!dataTable) return;\n",
              "\n",
              "          const docLinkHtml = 'Like what you see? Visit the ' +\n",
              "            '<a target=\"_blank\" href=https://colab.research.google.com/notebooks/data_table.ipynb>data table notebook</a>'\n",
              "            + ' to learn more about interactive tables.';\n",
              "          element.innerHTML = '';\n",
              "          dataTable['output_type'] = 'display_data';\n",
              "          await google.colab.output.renderOutput(dataTable, element);\n",
              "          const docLink = document.createElement('div');\n",
              "          docLink.innerHTML = docLinkHtml;\n",
              "          element.appendChild(docLink);\n",
              "        }\n",
              "      </script>\n",
              "    </div>\n",
              "  </div>\n",
              "  "
            ]
          },
          "metadata": {},
          "execution_count": 39
        }
      ]
    },
    {
      "cell_type": "markdown",
      "metadata": {
        "id": "ZDpFQYKjcrrt"
      },
      "source": [
        "#### b. Hilangkan karakter angka, whitespace berlebih, dan tanda baca"
      ]
    },
    {
      "cell_type": "markdown",
      "metadata": {
        "id": "VDoW2SJed063"
      },
      "source": [
        "##### Menghilangkan angka"
      ]
    },
    {
      "cell_type": "code",
      "metadata": {
        "id": "wXm8tCw4ciPb"
      },
      "source": [
        "def remove_number(text):\n",
        "    return  re.sub(r\"\\d+\", \"\", text)"
      ],
      "execution_count": 40,
      "outputs": []
    },
    {
      "cell_type": "code",
      "metadata": {
        "id": "ZHH5g-yod5zn"
      },
      "source": [
        "korpus_ringkas['content'] = korpus_ringkas['content'].apply(remove_number)"
      ],
      "execution_count": 41,
      "outputs": []
    },
    {
      "cell_type": "markdown",
      "metadata": {
        "id": "ZNEaOqzrd-Ik"
      },
      "source": [
        "##### Menghilangkan whitespace berlebih"
      ]
    },
    {
      "cell_type": "code",
      "metadata": {
        "id": "GhkPe-NVd9If"
      },
      "source": [
        "# Fungsi untuk menghilangkan whitespace berlebih\n",
        "def remove_whitespace(text):\n",
        "    return re.sub('\\s+',' ',text)"
      ],
      "execution_count": 42,
      "outputs": []
    },
    {
      "cell_type": "code",
      "metadata": {
        "id": "Vb7uROZMeGJ2"
      },
      "source": [
        "korpus_ringkas['content'] = korpus_ringkas['content'].apply(remove_whitespace)"
      ],
      "execution_count": 43,
      "outputs": []
    },
    {
      "cell_type": "markdown",
      "metadata": {
        "id": "r5G9E41KfxBB"
      },
      "source": [
        "##### Menghilangkan tanda baca"
      ]
    },
    {
      "cell_type": "code",
      "metadata": {
        "id": "iZV4AItjeIRM"
      },
      "source": [
        "# Fungsi untuk menghilangkan tanda baca\n",
        "def remove_punctuation(text):\n",
        "    return text.translate(str.maketrans(\"\",\"\", string.punctuation))"
      ],
      "execution_count": 44,
      "outputs": []
    },
    {
      "cell_type": "code",
      "metadata": {
        "id": "AAesveDPf3L8"
      },
      "source": [
        "korpus_ringkas['content'] = korpus_ringkas['content'].apply(remove_punctuation)"
      ],
      "execution_count": 45,
      "outputs": []
    },
    {
      "cell_type": "markdown",
      "metadata": {
        "id": "MU-KPlbqhq4-"
      },
      "source": [
        "#### 3. Tokenisasi"
      ]
    },
    {
      "cell_type": "code",
      "metadata": {
        "id": "GQAXaWBHf7Vx"
      },
      "source": [
        "# Fungsi untuk melakukan tokenisasi kata\n",
        "def word_tokenize_wrapper(text):\n",
        "    return word_tokenize(text)"
      ],
      "execution_count": 46,
      "outputs": []
    },
    {
      "cell_type": "code",
      "metadata": {
        "id": "wDaWR_4niTIZ",
        "colab": {
          "base_uri": "https://localhost:8080/"
        },
        "outputId": "ba83c985-cf4b-4c0d-98ae-41fc1461b4c7"
      },
      "source": [
        "pd.set_option(\"display.max_colwidth\", -1)\n",
        "korpus_ringkas['content_tokens'] = korpus_ringkas['content'].apply(word_tokenize_wrapper)\n",
        "korpus_ringkas['content_tokens'].head(5)"
      ],
      "execution_count": 47,
      "outputs": [
        {
          "output_type": "stream",
          "name": "stderr",
          "text": [
            "/usr/local/lib/python3.7/dist-packages/ipykernel_launcher.py:1: FutureWarning: Passing a negative integer is deprecated in version 1.0 and will not be supported in future version. Instead, use None to not limit the column width.\n",
            "  \"\"\"Entry point for launching an IPython kernel.\n"
          ]
        },
        {
          "output_type": "execute_result",
          "data": {
            "text/plain": [
              "0    [motogp, akan, memasuki, seri, ketujuh, yang, bertajuk, motogp, emilia, romagna, di, sirkuit, misano, minggu, malam, waktu, indonesia, maverick, vinales, tampil, sebagai, pemimpin, start, disusul, jack, miller, dan, fabio, quartararo, yang, samasama, berada, di, baris, terdepan, pekan, lalu, di, sirkuit, yang, sama, vinales, juga, meraih, pole, position, tetapi, hanya, finis, di, peringkat, keenam, dan, harus, melihat, franco, morbidelli, tampil, sebagai, juara, berikut, prediksi, pemenang, motogp, emilia, romagna, versi, redaksi, olahraga, cnnindonesiacom, quartararo, menang, rossi, podium, haryanto, tri, wibowo, motogp, emilia, romagna, menjadi, momen, tepat, bagi, fabio, quartararo, untuk, kembali, ke, jalur, kemenangan, setelah, empat, terakhir, mengalami, nasib, sial, el, diablo, harus, ...]                                                                                         \n",
              "1    [pemerintah, provinsi, dki, jakarta, menutup, sementara, perusahaan, atau, perkantoran, di, jakarta, selama, tiga, hari, terkait, virus, corona, covid, dari, jumlah, tersebut, perusahaan, di, antaranya, ditutup, lantaran, karyawan, terdeteksi, positif, sementara, sembilan, perusahaan, lain, karena, melanggar, peraturan, dan, protokol, pencegahan, covid, kepala, dinas, tenaga, kerja, transmigrasi, dan, energi, disnakertrans, dki, jakarta, andri, yansah, mengatakan, perusahaan, itu, merupakan, hasil, empat, hari, pemantauan, pemantauan, yang, dilakukan, sejak, penerapan, kembali, pembatasan, sosial, berskala, besar, psbb, pada, senin, sampai, kamis, sebanyak, perusahaan, ditutup, sementara, ditutup, karena, karena, covid, sementara, sembilan, perusahaan, ditutup, karena, tidak, menjalankan, protokol, kesehatan, pencegahan, covid, kata, andri, dalam, keterangan, tertulisnya, jumat, ...]\n",
              "2    [ketua, komisi, pemilihan, umum, kpuarief, budimanmengaku, positif, terinfeksi, covid, dia, kini, menjalani, karantina, mandiri, karena, tidak, merasakan, gejala, yang, berat, dalam, keterangan, tertulisnya, arief, menjalani, tes, swab, pada, kamis, malam, tes, dilakukan, sebagai, syarat, untuk, menghadiri, rapat, di, istana, bogor, pada, hari, ini, jumat, dia, dinyatakan, positif, sehingga, batal, mengikuti, rapat, tanggal, september, malam, hari, melakukan, tes, swab, untuk, digunakan, sebagai, syarat, menghadiri, rapat, di, istana, bogor, tanggal, september, dengan, hasil, positif, kata, arief, kepada, wartawan, lewat, pesan, singkat, jumat, arief, saat, ini, menjalani, isolasi, mandiri, dia, juga, tetap, bekerja, seperti, biasa, di, rumah, selama, menjalani, isolasi, mandiri, tanggal, dini, ...]                                                                                      \n",
              "3    [helikopter, milik, pt, national, utility, helicopters, nuh, yang, hilang, kontak, setelah, lepas, landas, dari, bandara, nabire, papua, pada, kamis, telah, ditemukan, kepala, bidang, hubungan, masyarakat, kabid, humas, polda, papua, komisaris, besar, ahmad, musthofa, kamal, mengatakan, helikopter, tersebut, ditemukan, di, cekungan, aliran, sungai, dalam, kondisi, yang, masih, utuh, dan, baik, berdasarkan, data, dari, pengamatan, heli, pkiwv, ditemukan, hely, pkuss, pada, coordinat, s, °, dan, e, °, posisi, crashed, into, rugged, stream, in, basin, di, cekungan, aliran, sungai, roughly, fts, rugged, terrain, no, area, to, land, kata, kamal, kepada, cnnindonesiacom, jumat, ia, pun, menyampaikan, sebanyak, tiga, kru, helikopter, tersebut, selamat, dan, dalam, ...]                                                                                                                            \n",
              "4    [presiden, amerika, serikat, donald, trump, dipastikan, tidak, hadir, langsung, di, sidang, majelis, umum, pbb, di, new, york, pada, pekan, depan, padahal, trump, sebelumnya, mengaku, ingin, menyampaikan, pidato, di, aula, sidang, umum, di, new, york, meski, para, pemimpin, dunia, lainnya, mengikuti, dari, negara, masingmasing, sidang, majelis, umum, pbb, ke, ini, rencananya, digelar, virtual, karena, pandemi, virus, corona, seperti, dikutip, dari, afp, kepala, staf, gedung, putih, mark, meadows, pada, kamis, mengatakan, bahwa, trump, tidak, akan, hadir, secara, fisik, menurut, dia, trump, akan, menyampaikan, pidato, lewat, video, conference, para, pemimpin, dunia, secara, bergiliran, menyampaikan, pidato, pada, sesi, yang, berlangsung, dari, september, hingga, september, ...]                                                                                                             \n",
              "Name: content_tokens, dtype: object"
            ]
          },
          "metadata": {},
          "execution_count": 47
        }
      ]
    },
    {
      "cell_type": "markdown",
      "metadata": {
        "id": "WwRhulE3ifBd"
      },
      "source": [
        "#### 4. Hapus stopwords"
      ]
    },
    {
      "cell_type": "code",
      "metadata": {
        "id": "IYrb23FKiWgW",
        "colab": {
          "base_uri": "https://localhost:8080/"
        },
        "outputId": "668679c8-1158-414f-9fdc-3253ec0255d3"
      },
      "source": [
        "# mendownload stopwords berbahasa indonesia dari library nltk\n",
        "from nltk.corpus import stopwords\n",
        "nltk.download('stopwords')\n",
        "list_stopwords = stopwords.words('indonesian')"
      ],
      "execution_count": 48,
      "outputs": [
        {
          "output_type": "stream",
          "name": "stderr",
          "text": [
            "[nltk_data] Downloading package stopwords to /root/nltk_data...\n",
            "[nltk_data]   Unzipping corpora/stopwords.zip.\n"
          ]
        }
      ]
    },
    {
      "cell_type": "code",
      "metadata": {
        "id": "kQnjbczuiu8Z"
      },
      "source": [
        "# Fungsi untuk menghilangkan stopword pada kalimat\n",
        "def remove_stopword(words):\n",
        "    return [word for word in words if word not in list_stopwords]"
      ],
      "execution_count": 49,
      "outputs": []
    },
    {
      "cell_type": "code",
      "metadata": {
        "id": "OiCIhbEFjCHL"
      },
      "source": [
        "korpus_ringkas['content_tokens'] = korpus_ringkas['content_tokens'].apply(remove_stopword) "
      ],
      "execution_count": 50,
      "outputs": []
    },
    {
      "cell_type": "markdown",
      "metadata": {
        "id": "Z_N_QVy3UNBJ"
      },
      "source": [
        "# Bagian D"
      ]
    },
    {
      "cell_type": "markdown",
      "metadata": {
        "id": "wx8vrhOSq6eY"
      },
      "source": [
        "### 1. Stemming menggunakan sastrawi"
      ]
    },
    {
      "cell_type": "code",
      "metadata": {
        "id": "oSi1SJATjH3k",
        "colab": {
          "base_uri": "https://localhost:8080/"
        },
        "outputId": "6d6a3b50-ec77-4548-efb6-4ad3c063b592"
      },
      "source": [
        "!pip install Sastrawi"
      ],
      "execution_count": 51,
      "outputs": [
        {
          "output_type": "stream",
          "name": "stdout",
          "text": [
            "Looking in indexes: https://pypi.org/simple, https://us-python.pkg.dev/colab-wheels/public/simple/\n",
            "Collecting Sastrawi\n",
            "  Downloading Sastrawi-1.0.1-py2.py3-none-any.whl (209 kB)\n",
            "\u001b[K     |████████████████████████████████| 209 kB 5.1 MB/s \n",
            "\u001b[?25hInstalling collected packages: Sastrawi\n",
            "Successfully installed Sastrawi-1.0.1\n"
          ]
        }
      ]
    },
    {
      "cell_type": "code",
      "metadata": {
        "id": "dOg2BbE3Uo-h"
      },
      "source": [
        "from Sastrawi.Stemmer.StemmerFactory import StemmerFactory"
      ],
      "execution_count": 52,
      "outputs": []
    },
    {
      "cell_type": "code",
      "metadata": {
        "id": "mL91ockDUu6L"
      },
      "source": [
        "factory = StemmerFactory()\n",
        "stemmer = factory.create_stemmer()"
      ],
      "execution_count": 53,
      "outputs": []
    },
    {
      "cell_type": "code",
      "metadata": {
        "id": "zGZbOADfoPOV"
      },
      "source": [
        "def stemmer_sastrawi(words):\n",
        "  stemmer_words = []\n",
        "  for word in words :\n",
        "    word = stemmer.stem(word)\n",
        "    stemmer_words.append(word)\n",
        "  return stemmer_words"
      ],
      "execution_count": 54,
      "outputs": []
    },
    {
      "cell_type": "code",
      "metadata": {
        "id": "6m8SjoKNowWQ"
      },
      "source": [
        "korpus_ringkas['stemmer_tokens'] = korpus_ringkas['content_tokens'].apply(stemmer_sastrawi)"
      ],
      "execution_count": 55,
      "outputs": []
    },
    {
      "cell_type": "code",
      "metadata": {
        "id": "ioIcd8rJpCJ_",
        "colab": {
          "base_uri": "https://localhost:8080/",
          "height": 1000
        },
        "outputId": "12e03289-ed36-495d-f098-5d01b97f8c0f"
      },
      "source": [
        "korpus_ringkas[['content_tokens','stemmer_tokens']].head(5)"
      ],
      "execution_count": 56,
      "outputs": [
        {
          "output_type": "execute_result",
          "data": {
            "text/plain": [
              "                                                                                                                                                                                                                                                                                                                                                                                                                                                                                                                                                                                                                                                                                                                                                                                                                                                                                                                                                                                               content_tokens  \\\n",
              "0  [motogp, memasuki, seri, ketujuh, bertajuk, motogp, emilia, romagna, sirkuit, misano, minggu, malam, indonesia, maverick, vinales, tampil, pemimpin, start, disusul, jack, miller, fabio, quartararo, samasama, baris, terdepan, pekan, sirkuit, vinales, meraih, pole, position, finis, peringkat, keenam, franco, morbidelli, tampil, juara, prediksi, pemenang, motogp, emilia, romagna, versi, redaksi, olahraga, cnnindonesiacom, quartararo, menang, rossi, podium, haryanto, tri, wibowo, motogp, emilia, romagna, momen, fabio, quartararo, jalur, kemenangan, mengalami, nasib, sial, el, diablo, membuktikan, layak, favorit, juara, dunia, motogp, meraih, kemenangan, motogp, emilia, romagna, quartararo, terbilang, konsisten, pekan, meraih, start, bagus, memiliki, kendala, sepeda, motor, m, quartararo, layak, dijagokan, meraih, kemenangan, pesaing, terketat, quartararo, pembalap, ...]                                                                                               \n",
              "1  [pemerintah, provinsi, dki, jakarta, menutup, perusahaan, perkantoran, jakarta, terkait, virus, corona, covid, perusahaan, ditutup, lantaran, karyawan, terdeteksi, positif, sembilan, perusahaan, melanggar, peraturan, protokol, pencegahan, covid, kepala, dinas, tenaga, kerja, transmigrasi, energi, disnakertrans, dki, jakarta, andri, yansah, perusahaan, hasil, pemantauan, pemantauan, penerapan, pembatasan, sosial, berskala, psbb, senin, kamis, perusahaan, ditutup, ditutup, covid, sembilan, perusahaan, ditutup, menjalankan, protokol, kesehatan, pencegahan, covid, andri, keterangan, tertulisnya, jumat, perusahaan, ditutup, ditemukan, positif, tersebar, wilayah, jakarta, rinciannya, enam, perusahaan, jakarta, barat, masingmasing, perusahaan, jakarta, pusat, jakarta, timur, masingmasing, perusahaan, jakarta, utara, jakarta, selatan, sembilan, perusahaan, ditutup, melanggar, protokol, covid, perusahaan, jakarta, pusat, perusahaan, jakarta, barat, perusahaan, ...]   \n",
              "2  [ketua, komisi, pemilihan, kpuarief, budimanmengaku, positif, terinfeksi, covid, menjalani, karantina, mandiri, merasakan, gejala, berat, keterangan, tertulisnya, arief, menjalani, tes, swab, kamis, malam, tes, syarat, menghadiri, rapat, istana, bogor, jumat, dinyatakan, positif, batal, mengikuti, rapat, tanggal, september, malam, tes, swab, syarat, menghadiri, rapat, istana, bogor, tanggal, september, hasil, positif, arief, wartawan, pesan, singkat, jumat, arief, menjalani, isolasi, mandiri, rumah, menjalani, isolasi, mandiri, tanggal, karantina, mandiri, gejala, batuk, panas, pilek, sesak, nafas, arief, kantor, kpu, disterilisasi, pegawai, kpu, kantor, komisioner, kpu, evi, novida, ginting, dinyatakan, positif, terinfeksi, virus, corona, september, evi, menjalani, isolasi, mandiri]                                                                                                                                                                                   \n",
              "3  [helikopter, milik, pt, national, utility, helicopters, nuh, hilang, kontak, lepas, landas, bandara, nabire, papua, kamis, ditemukan, kepala, bidang, hubungan, masyarakat, kabid, humas, polda, papua, komisaris, ahmad, musthofa, kamal, helikopter, ditemukan, cekungan, aliran, sungai, kondisi, utuh, berdasarkan, data, pengamatan, heli, pkiwv, ditemukan, hely, pkuss, coordinat, s, °, e, °, posisi, crashed, into, rugged, stream, in, basin, cekungan, aliran, sungai, roughly, fts, rugged, terrain, no, area, to, land, kamal, cnnindonesiacom, jumat, kru, helikopter, selamat, kondisi, sehat, menurutnya, helikopter, jatuh, pendaratan, darurat, kamis, pesawat, mendarat, darurat, pilot, copilot, kru, selamat, tim, proses, evakuasi, korban, tergantung, cuaca, lokasi, kamal, ditemukan, helikopter, milik, pt, nuh, ...]                                                                                                                                                              \n",
              "4  [presiden, amerika, serikat, donald, trump, hadir, langsung, sidang, majelis, pbb, new, york, pekan, trump, mengaku, pidato, aula, sidang, new, york, pemimpin, dunia, mengikuti, negara, masingmasing, sidang, majelis, pbb, rencananya, digelar, virtual, pandemi, virus, corona, dikutip, afp, kepala, staf, gedung, putih, mark, meadows, kamis, trump, hadir, fisik, trump, pidato, video, conference, pemimpin, dunia, bergiliran, pidato, sesi, september, september, pidato, pembukaan, selasa, sekretaris, jenderal, pbb, antonio, guterres, menekankan, fokus, tanggapan, global, pandemi, virus, corona, perdamaian, keamanan, pelucutan, senjata, hak, asasi, manusia, kesetaraan, gender, pembangunan, berkelanjutan, indonesia, berpartisipasi, sidang, pbb, sikap, pandemi, virus, corona, menlu, retno, marsudi, presiden, jokowi, pidato, sidang, insyaallah, presiden, ...]                                                                                                                \n",
              "\n",
              "                                                                                                                                                                                                                                                                                                                                                                                                                                                                                                                                                                                                                                                                                                                                                                                                                               stemmer_tokens  \n",
              "0  [motogp, pasuk, seri, tujuh, tajuk, motogp, emilia, romagna, sirkuit, misano, minggu, malam, indonesia, maverick, vinales, tampil, pimpin, start, susul, jack, miller, fabio, quartararo, samasama, baris, depan, pekan, sirkuit, vinales, raih, pole, position, finis, peringkat, enam, franco, morbidelli, tampil, juara, prediksi, menang, motogp, emilia, romagna, versi, redaksi, olahraga, cnnindonesiacom, quartararo, menang, rossi, podium, haryanto, tri, wibowo, motogp, emilia, romagna, momen, fabio, quartararo, jalur, menang, alami, nasib, sial, el, diablo, bukti, layak, favorit, juara, dunia, motogp, raih, menang, motogp, emilia, romagna, quartararo, bilang, konsisten, pekan, raih, start, bagus, milik, kendala, sepeda, motor, m, quartararo, layak, jago, raih, menang, saing, ketat, quartararo, balap, ...]  \n",
              "1  [perintah, provinsi, dki, jakarta, tutup, usaha, kantor, jakarta, kait, virus, corona, covid, usaha, tutup, lantar, karyawan, deteksi, positif, sembilan, usaha, langgar, atur, protokol, cegah, covid, kepala, dinas, tenaga, kerja, transmigrasi, energi, disnakertrans, dki, jakarta, andri, yansah, usaha, hasil, pantau, pantau, terap, batas, sosial, skala, psbb, senin, kamis, usaha, tutup, tutup, covid, sembilan, usaha, tutup, jalan, protokol, sehat, cegah, covid, andri, terang, tulis, jumat, usaha, tutup, temu, positif, sebar, wilayah, jakarta, rinciannya, enam, usaha, jakarta, barat, masingmasing, usaha, jakarta, pusat, jakarta, timur, masingmasing, usaha, jakarta, utara, jakarta, selatan, sembilan, usaha, tutup, langgar, protokol, covid, usaha, jakarta, pusat, usaha, jakarta, barat, usaha, ...]        \n",
              "2  [ketua, komisi, pilih, kpuarief, budimanmengaku, positif, infeksi, covid, jalan, karantina, mandiri, rasa, gejala, berat, terang, tulis, arief, jalan, tes, swab, kamis, malam, tes, syarat, hadir, rapat, istana, bogor, jumat, nyata, positif, batal, ikut, rapat, tanggal, september, malam, tes, swab, syarat, hadir, rapat, istana, bogor, tanggal, september, hasil, positif, arief, wartawan, pesan, singkat, jumat, arief, jalan, isolasi, mandiri, rumah, jalan, isolasi, mandiri, tanggal, karantina, mandiri, gejala, batuk, panas, pilek, sesak, nafas, arief, kantor, kpu, sterilisasi, pegawai, kpu, kantor, komisioner, kpu, evi, novida, ginting, nyata, positif, infeksi, virus, corona, september, evi, jalan, isolasi, mandiri]                                                                                          \n",
              "3  [helikopter, milik, pt, national, utility, helicopters, nuh, hilang, kontak, lepas, landas, bandara, nabire, papua, kamis, temu, kepala, bidang, hubung, masyarakat, kabid, humas, polda, papua, komisaris, ahmad, musthofa, kamal, helikopter, temu, cekung, alir, sungai, kondisi, utuh, dasar, data, amat, heli, pkiwv, temu, hely, pkuss, coordinat, s, , e, , posisi, crashed, into, rugged, stream, in, basin, cekung, alir, sungai, roughly, fts, rugged, terrain, no, area, to, land, kamal, cnnindonesiacom, jumat, kru, helikopter, selamat, kondisi, sehat, turut, helikopter, jatuh, darat, darurat, kamis, pesawat, darat, darurat, pilot, copilot, kru, selamat, tim, proses, evakuasi, korban, gantung, cuaca, lokasi, kamal, temu, helikopter, milik, pt, nuh, ...]                                                         \n",
              "4  [presiden, amerika, serikat, donald, trump, hadir, langsung, sidang, majelis, pbb, new, york, pekan, trump, aku, pidato, aula, sidang, new, york, pimpin, dunia, ikut, negara, masingmasing, sidang, majelis, pbb, rencana, gelar, virtual, pandemi, virus, corona, kutip, afp, kepala, staf, gedung, putih, mark, meadows, kamis, trump, hadir, fisik, trump, pidato, video, conference, pimpin, dunia, gilir, pidato, sesi, september, september, pidato, buka, selasa, sekretaris, jenderal, pbb, antonio, guterres, tekan, fokus, tanggap, global, pandemi, virus, corona, damai, aman, lucut, senjata, hak, asasi, manusia, tara, gender, bangun, lanjut, indonesia, partisipasi, sidang, pbb, sikap, pandemi, virus, corona, menlu, retno, marsudi, presiden, jokowi, pidato, sidang, insyaallah, presiden, ...]                      "
            ],
            "text/html": [
              "\n",
              "  <div id=\"df-1f8da48c-76ea-46e2-aa75-8ace5923820a\">\n",
              "    <div class=\"colab-df-container\">\n",
              "      <div>\n",
              "<style scoped>\n",
              "    .dataframe tbody tr th:only-of-type {\n",
              "        vertical-align: middle;\n",
              "    }\n",
              "\n",
              "    .dataframe tbody tr th {\n",
              "        vertical-align: top;\n",
              "    }\n",
              "\n",
              "    .dataframe thead th {\n",
              "        text-align: right;\n",
              "    }\n",
              "</style>\n",
              "<table border=\"1\" class=\"dataframe\">\n",
              "  <thead>\n",
              "    <tr style=\"text-align: right;\">\n",
              "      <th></th>\n",
              "      <th>content_tokens</th>\n",
              "      <th>stemmer_tokens</th>\n",
              "    </tr>\n",
              "  </thead>\n",
              "  <tbody>\n",
              "    <tr>\n",
              "      <th>0</th>\n",
              "      <td>[motogp, memasuki, seri, ketujuh, bertajuk, motogp, emilia, romagna, sirkuit, misano, minggu, malam, indonesia, maverick, vinales, tampil, pemimpin, start, disusul, jack, miller, fabio, quartararo, samasama, baris, terdepan, pekan, sirkuit, vinales, meraih, pole, position, finis, peringkat, keenam, franco, morbidelli, tampil, juara, prediksi, pemenang, motogp, emilia, romagna, versi, redaksi, olahraga, cnnindonesiacom, quartararo, menang, rossi, podium, haryanto, tri, wibowo, motogp, emilia, romagna, momen, fabio, quartararo, jalur, kemenangan, mengalami, nasib, sial, el, diablo, membuktikan, layak, favorit, juara, dunia, motogp, meraih, kemenangan, motogp, emilia, romagna, quartararo, terbilang, konsisten, pekan, meraih, start, bagus, memiliki, kendala, sepeda, motor, m, quartararo, layak, dijagokan, meraih, kemenangan, pesaing, terketat, quartararo, pembalap, ...]</td>\n",
              "      <td>[motogp, pasuk, seri, tujuh, tajuk, motogp, emilia, romagna, sirkuit, misano, minggu, malam, indonesia, maverick, vinales, tampil, pimpin, start, susul, jack, miller, fabio, quartararo, samasama, baris, depan, pekan, sirkuit, vinales, raih, pole, position, finis, peringkat, enam, franco, morbidelli, tampil, juara, prediksi, menang, motogp, emilia, romagna, versi, redaksi, olahraga, cnnindonesiacom, quartararo, menang, rossi, podium, haryanto, tri, wibowo, motogp, emilia, romagna, momen, fabio, quartararo, jalur, menang, alami, nasib, sial, el, diablo, bukti, layak, favorit, juara, dunia, motogp, raih, menang, motogp, emilia, romagna, quartararo, bilang, konsisten, pekan, raih, start, bagus, milik, kendala, sepeda, motor, m, quartararo, layak, jago, raih, menang, saing, ketat, quartararo, balap, ...]</td>\n",
              "    </tr>\n",
              "    <tr>\n",
              "      <th>1</th>\n",
              "      <td>[pemerintah, provinsi, dki, jakarta, menutup, perusahaan, perkantoran, jakarta, terkait, virus, corona, covid, perusahaan, ditutup, lantaran, karyawan, terdeteksi, positif, sembilan, perusahaan, melanggar, peraturan, protokol, pencegahan, covid, kepala, dinas, tenaga, kerja, transmigrasi, energi, disnakertrans, dki, jakarta, andri, yansah, perusahaan, hasil, pemantauan, pemantauan, penerapan, pembatasan, sosial, berskala, psbb, senin, kamis, perusahaan, ditutup, ditutup, covid, sembilan, perusahaan, ditutup, menjalankan, protokol, kesehatan, pencegahan, covid, andri, keterangan, tertulisnya, jumat, perusahaan, ditutup, ditemukan, positif, tersebar, wilayah, jakarta, rinciannya, enam, perusahaan, jakarta, barat, masingmasing, perusahaan, jakarta, pusat, jakarta, timur, masingmasing, perusahaan, jakarta, utara, jakarta, selatan, sembilan, perusahaan, ditutup, melanggar, protokol, covid, perusahaan, jakarta, pusat, perusahaan, jakarta, barat, perusahaan, ...]</td>\n",
              "      <td>[perintah, provinsi, dki, jakarta, tutup, usaha, kantor, jakarta, kait, virus, corona, covid, usaha, tutup, lantar, karyawan, deteksi, positif, sembilan, usaha, langgar, atur, protokol, cegah, covid, kepala, dinas, tenaga, kerja, transmigrasi, energi, disnakertrans, dki, jakarta, andri, yansah, usaha, hasil, pantau, pantau, terap, batas, sosial, skala, psbb, senin, kamis, usaha, tutup, tutup, covid, sembilan, usaha, tutup, jalan, protokol, sehat, cegah, covid, andri, terang, tulis, jumat, usaha, tutup, temu, positif, sebar, wilayah, jakarta, rinciannya, enam, usaha, jakarta, barat, masingmasing, usaha, jakarta, pusat, jakarta, timur, masingmasing, usaha, jakarta, utara, jakarta, selatan, sembilan, usaha, tutup, langgar, protokol, covid, usaha, jakarta, pusat, usaha, jakarta, barat, usaha, ...]</td>\n",
              "    </tr>\n",
              "    <tr>\n",
              "      <th>2</th>\n",
              "      <td>[ketua, komisi, pemilihan, kpuarief, budimanmengaku, positif, terinfeksi, covid, menjalani, karantina, mandiri, merasakan, gejala, berat, keterangan, tertulisnya, arief, menjalani, tes, swab, kamis, malam, tes, syarat, menghadiri, rapat, istana, bogor, jumat, dinyatakan, positif, batal, mengikuti, rapat, tanggal, september, malam, tes, swab, syarat, menghadiri, rapat, istana, bogor, tanggal, september, hasil, positif, arief, wartawan, pesan, singkat, jumat, arief, menjalani, isolasi, mandiri, rumah, menjalani, isolasi, mandiri, tanggal, karantina, mandiri, gejala, batuk, panas, pilek, sesak, nafas, arief, kantor, kpu, disterilisasi, pegawai, kpu, kantor, komisioner, kpu, evi, novida, ginting, dinyatakan, positif, terinfeksi, virus, corona, september, evi, menjalani, isolasi, mandiri]</td>\n",
              "      <td>[ketua, komisi, pilih, kpuarief, budimanmengaku, positif, infeksi, covid, jalan, karantina, mandiri, rasa, gejala, berat, terang, tulis, arief, jalan, tes, swab, kamis, malam, tes, syarat, hadir, rapat, istana, bogor, jumat, nyata, positif, batal, ikut, rapat, tanggal, september, malam, tes, swab, syarat, hadir, rapat, istana, bogor, tanggal, september, hasil, positif, arief, wartawan, pesan, singkat, jumat, arief, jalan, isolasi, mandiri, rumah, jalan, isolasi, mandiri, tanggal, karantina, mandiri, gejala, batuk, panas, pilek, sesak, nafas, arief, kantor, kpu, sterilisasi, pegawai, kpu, kantor, komisioner, kpu, evi, novida, ginting, nyata, positif, infeksi, virus, corona, september, evi, jalan, isolasi, mandiri]</td>\n",
              "    </tr>\n",
              "    <tr>\n",
              "      <th>3</th>\n",
              "      <td>[helikopter, milik, pt, national, utility, helicopters, nuh, hilang, kontak, lepas, landas, bandara, nabire, papua, kamis, ditemukan, kepala, bidang, hubungan, masyarakat, kabid, humas, polda, papua, komisaris, ahmad, musthofa, kamal, helikopter, ditemukan, cekungan, aliran, sungai, kondisi, utuh, berdasarkan, data, pengamatan, heli, pkiwv, ditemukan, hely, pkuss, coordinat, s, °, e, °, posisi, crashed, into, rugged, stream, in, basin, cekungan, aliran, sungai, roughly, fts, rugged, terrain, no, area, to, land, kamal, cnnindonesiacom, jumat, kru, helikopter, selamat, kondisi, sehat, menurutnya, helikopter, jatuh, pendaratan, darurat, kamis, pesawat, mendarat, darurat, pilot, copilot, kru, selamat, tim, proses, evakuasi, korban, tergantung, cuaca, lokasi, kamal, ditemukan, helikopter, milik, pt, nuh, ...]</td>\n",
              "      <td>[helikopter, milik, pt, national, utility, helicopters, nuh, hilang, kontak, lepas, landas, bandara, nabire, papua, kamis, temu, kepala, bidang, hubung, masyarakat, kabid, humas, polda, papua, komisaris, ahmad, musthofa, kamal, helikopter, temu, cekung, alir, sungai, kondisi, utuh, dasar, data, amat, heli, pkiwv, temu, hely, pkuss, coordinat, s, , e, , posisi, crashed, into, rugged, stream, in, basin, cekung, alir, sungai, roughly, fts, rugged, terrain, no, area, to, land, kamal, cnnindonesiacom, jumat, kru, helikopter, selamat, kondisi, sehat, turut, helikopter, jatuh, darat, darurat, kamis, pesawat, darat, darurat, pilot, copilot, kru, selamat, tim, proses, evakuasi, korban, gantung, cuaca, lokasi, kamal, temu, helikopter, milik, pt, nuh, ...]</td>\n",
              "    </tr>\n",
              "    <tr>\n",
              "      <th>4</th>\n",
              "      <td>[presiden, amerika, serikat, donald, trump, hadir, langsung, sidang, majelis, pbb, new, york, pekan, trump, mengaku, pidato, aula, sidang, new, york, pemimpin, dunia, mengikuti, negara, masingmasing, sidang, majelis, pbb, rencananya, digelar, virtual, pandemi, virus, corona, dikutip, afp, kepala, staf, gedung, putih, mark, meadows, kamis, trump, hadir, fisik, trump, pidato, video, conference, pemimpin, dunia, bergiliran, pidato, sesi, september, september, pidato, pembukaan, selasa, sekretaris, jenderal, pbb, antonio, guterres, menekankan, fokus, tanggapan, global, pandemi, virus, corona, perdamaian, keamanan, pelucutan, senjata, hak, asasi, manusia, kesetaraan, gender, pembangunan, berkelanjutan, indonesia, berpartisipasi, sidang, pbb, sikap, pandemi, virus, corona, menlu, retno, marsudi, presiden, jokowi, pidato, sidang, insyaallah, presiden, ...]</td>\n",
              "      <td>[presiden, amerika, serikat, donald, trump, hadir, langsung, sidang, majelis, pbb, new, york, pekan, trump, aku, pidato, aula, sidang, new, york, pimpin, dunia, ikut, negara, masingmasing, sidang, majelis, pbb, rencana, gelar, virtual, pandemi, virus, corona, kutip, afp, kepala, staf, gedung, putih, mark, meadows, kamis, trump, hadir, fisik, trump, pidato, video, conference, pimpin, dunia, gilir, pidato, sesi, september, september, pidato, buka, selasa, sekretaris, jenderal, pbb, antonio, guterres, tekan, fokus, tanggap, global, pandemi, virus, corona, damai, aman, lucut, senjata, hak, asasi, manusia, tara, gender, bangun, lanjut, indonesia, partisipasi, sidang, pbb, sikap, pandemi, virus, corona, menlu, retno, marsudi, presiden, jokowi, pidato, sidang, insyaallah, presiden, ...]</td>\n",
              "    </tr>\n",
              "  </tbody>\n",
              "</table>\n",
              "</div>\n",
              "      <button class=\"colab-df-convert\" onclick=\"convertToInteractive('df-1f8da48c-76ea-46e2-aa75-8ace5923820a')\"\n",
              "              title=\"Convert this dataframe to an interactive table.\"\n",
              "              style=\"display:none;\">\n",
              "        \n",
              "  <svg xmlns=\"http://www.w3.org/2000/svg\" height=\"24px\"viewBox=\"0 0 24 24\"\n",
              "       width=\"24px\">\n",
              "    <path d=\"M0 0h24v24H0V0z\" fill=\"none\"/>\n",
              "    <path d=\"M18.56 5.44l.94 2.06.94-2.06 2.06-.94-2.06-.94-.94-2.06-.94 2.06-2.06.94zm-11 1L8.5 8.5l.94-2.06 2.06-.94-2.06-.94L8.5 2.5l-.94 2.06-2.06.94zm10 10l.94 2.06.94-2.06 2.06-.94-2.06-.94-.94-2.06-.94 2.06-2.06.94z\"/><path d=\"M17.41 7.96l-1.37-1.37c-.4-.4-.92-.59-1.43-.59-.52 0-1.04.2-1.43.59L10.3 9.45l-7.72 7.72c-.78.78-.78 2.05 0 2.83L4 21.41c.39.39.9.59 1.41.59.51 0 1.02-.2 1.41-.59l7.78-7.78 2.81-2.81c.8-.78.8-2.07 0-2.86zM5.41 20L4 18.59l7.72-7.72 1.47 1.35L5.41 20z\"/>\n",
              "  </svg>\n",
              "      </button>\n",
              "      \n",
              "  <style>\n",
              "    .colab-df-container {\n",
              "      display:flex;\n",
              "      flex-wrap:wrap;\n",
              "      gap: 12px;\n",
              "    }\n",
              "\n",
              "    .colab-df-convert {\n",
              "      background-color: #E8F0FE;\n",
              "      border: none;\n",
              "      border-radius: 50%;\n",
              "      cursor: pointer;\n",
              "      display: none;\n",
              "      fill: #1967D2;\n",
              "      height: 32px;\n",
              "      padding: 0 0 0 0;\n",
              "      width: 32px;\n",
              "    }\n",
              "\n",
              "    .colab-df-convert:hover {\n",
              "      background-color: #E2EBFA;\n",
              "      box-shadow: 0px 1px 2px rgba(60, 64, 67, 0.3), 0px 1px 3px 1px rgba(60, 64, 67, 0.15);\n",
              "      fill: #174EA6;\n",
              "    }\n",
              "\n",
              "    [theme=dark] .colab-df-convert {\n",
              "      background-color: #3B4455;\n",
              "      fill: #D2E3FC;\n",
              "    }\n",
              "\n",
              "    [theme=dark] .colab-df-convert:hover {\n",
              "      background-color: #434B5C;\n",
              "      box-shadow: 0px 1px 3px 1px rgba(0, 0, 0, 0.15);\n",
              "      filter: drop-shadow(0px 1px 2px rgba(0, 0, 0, 0.3));\n",
              "      fill: #FFFFFF;\n",
              "    }\n",
              "  </style>\n",
              "\n",
              "      <script>\n",
              "        const buttonEl =\n",
              "          document.querySelector('#df-1f8da48c-76ea-46e2-aa75-8ace5923820a button.colab-df-convert');\n",
              "        buttonEl.style.display =\n",
              "          google.colab.kernel.accessAllowed ? 'block' : 'none';\n",
              "\n",
              "        async function convertToInteractive(key) {\n",
              "          const element = document.querySelector('#df-1f8da48c-76ea-46e2-aa75-8ace5923820a');\n",
              "          const dataTable =\n",
              "            await google.colab.kernel.invokeFunction('convertToInteractive',\n",
              "                                                     [key], {});\n",
              "          if (!dataTable) return;\n",
              "\n",
              "          const docLinkHtml = 'Like what you see? Visit the ' +\n",
              "            '<a target=\"_blank\" href=https://colab.research.google.com/notebooks/data_table.ipynb>data table notebook</a>'\n",
              "            + ' to learn more about interactive tables.';\n",
              "          element.innerHTML = '';\n",
              "          dataTable['output_type'] = 'display_data';\n",
              "          await google.colab.output.renderOutput(dataTable, element);\n",
              "          const docLink = document.createElement('div');\n",
              "          docLink.innerHTML = docLinkHtml;\n",
              "          element.appendChild(docLink);\n",
              "        }\n",
              "      </script>\n",
              "    </div>\n",
              "  </div>\n",
              "  "
            ]
          },
          "metadata": {},
          "execution_count": 56
        }
      ]
    },
    {
      "cell_type": "markdown",
      "metadata": {
        "id": "8ga28-Z3q-Lk"
      },
      "source": [
        "### 2. Lemmatization menggunakan stanza"
      ]
    },
    {
      "cell_type": "code",
      "metadata": {
        "id": "vCc-pGHDpHT5",
        "colab": {
          "base_uri": "https://localhost:8080/"
        },
        "outputId": "ad6c96f0-d04c-4615-e0a5-c184c796ce40"
      },
      "source": [
        "!pip install stanza"
      ],
      "execution_count": 57,
      "outputs": [
        {
          "output_type": "stream",
          "name": "stdout",
          "text": [
            "Looking in indexes: https://pypi.org/simple, https://us-python.pkg.dev/colab-wheels/public/simple/\n",
            "Collecting stanza\n",
            "  Downloading stanza-1.4.0-py3-none-any.whl (574 kB)\n",
            "\u001b[K     |████████████████████████████████| 574 kB 5.3 MB/s \n",
            "\u001b[?25hRequirement already satisfied: protobuf in /usr/local/lib/python3.7/dist-packages (from stanza) (3.17.3)\n",
            "Requirement already satisfied: requests in /usr/local/lib/python3.7/dist-packages (from stanza) (2.23.0)\n",
            "Requirement already satisfied: torch>=1.3.0 in /usr/local/lib/python3.7/dist-packages (from stanza) (1.11.0+cu113)\n",
            "Collecting transformers\n",
            "  Downloading transformers-4.20.1-py3-none-any.whl (4.4 MB)\n",
            "\u001b[K     |████████████████████████████████| 4.4 MB 45.3 MB/s \n",
            "\u001b[?25hRequirement already satisfied: numpy in /usr/local/lib/python3.7/dist-packages (from stanza) (1.21.6)\n",
            "Requirement already satisfied: six in /usr/local/lib/python3.7/dist-packages (from stanza) (1.15.0)\n",
            "Requirement already satisfied: tqdm in /usr/local/lib/python3.7/dist-packages (from stanza) (4.64.0)\n",
            "Collecting emoji\n",
            "  Downloading emoji-1.7.0.tar.gz (175 kB)\n",
            "\u001b[K     |████████████████████████████████| 175 kB 72.6 MB/s \n",
            "\u001b[?25hRequirement already satisfied: typing-extensions in /usr/local/lib/python3.7/dist-packages (from torch>=1.3.0->stanza) (4.1.1)\n",
            "Requirement already satisfied: certifi>=2017.4.17 in /usr/local/lib/python3.7/dist-packages (from requests->stanza) (2022.6.15)\n",
            "Requirement already satisfied: idna<3,>=2.5 in /usr/local/lib/python3.7/dist-packages (from requests->stanza) (2.10)\n",
            "Requirement already satisfied: chardet<4,>=3.0.2 in /usr/local/lib/python3.7/dist-packages (from requests->stanza) (3.0.4)\n",
            "Requirement already satisfied: urllib3!=1.25.0,!=1.25.1,<1.26,>=1.21.1 in /usr/local/lib/python3.7/dist-packages (from requests->stanza) (1.24.3)\n",
            "Collecting huggingface-hub<1.0,>=0.1.0\n",
            "  Downloading huggingface_hub-0.8.1-py3-none-any.whl (101 kB)\n",
            "\u001b[K     |████████████████████████████████| 101 kB 11.2 MB/s \n",
            "\u001b[?25hRequirement already satisfied: filelock in /usr/local/lib/python3.7/dist-packages (from transformers->stanza) (3.7.1)\n",
            "Requirement already satisfied: packaging>=20.0 in /usr/local/lib/python3.7/dist-packages (from transformers->stanza) (21.3)\n",
            "Collecting pyyaml>=5.1\n",
            "  Downloading PyYAML-6.0-cp37-cp37m-manylinux_2_5_x86_64.manylinux1_x86_64.manylinux_2_12_x86_64.manylinux2010_x86_64.whl (596 kB)\n",
            "\u001b[K     |████████████████████████████████| 596 kB 53.1 MB/s \n",
            "\u001b[?25hRequirement already satisfied: regex!=2019.12.17 in /usr/local/lib/python3.7/dist-packages (from transformers->stanza) (2022.6.2)\n",
            "Requirement already satisfied: importlib-metadata in /usr/local/lib/python3.7/dist-packages (from transformers->stanza) (4.11.4)\n",
            "Collecting tokenizers!=0.11.3,<0.13,>=0.11.1\n",
            "  Downloading tokenizers-0.12.1-cp37-cp37m-manylinux_2_12_x86_64.manylinux2010_x86_64.whl (6.6 MB)\n",
            "\u001b[K     |████████████████████████████████| 6.6 MB 36.8 MB/s \n",
            "\u001b[?25hRequirement already satisfied: pyparsing!=3.0.5,>=2.0.2 in /usr/local/lib/python3.7/dist-packages (from packaging>=20.0->transformers->stanza) (3.0.9)\n",
            "Requirement already satisfied: zipp>=0.5 in /usr/local/lib/python3.7/dist-packages (from importlib-metadata->transformers->stanza) (3.8.0)\n",
            "Building wheels for collected packages: emoji\n",
            "  Building wheel for emoji (setup.py) ... \u001b[?25l\u001b[?25hdone\n",
            "  Created wheel for emoji: filename=emoji-1.7.0-py3-none-any.whl size=171046 sha256=d2830bfe377db2a8f3cb1aa21f574cdbc1da972060e5ec395a4134420d4b6fdf\n",
            "  Stored in directory: /root/.cache/pip/wheels/8a/4e/b6/57b01db010d17ef6ea9b40300af725ef3e210cb1acfb7ac8b6\n",
            "Successfully built emoji\n",
            "Installing collected packages: pyyaml, tokenizers, huggingface-hub, transformers, emoji, stanza\n",
            "  Attempting uninstall: pyyaml\n",
            "    Found existing installation: PyYAML 3.13\n",
            "    Uninstalling PyYAML-3.13:\n",
            "      Successfully uninstalled PyYAML-3.13\n",
            "Successfully installed emoji-1.7.0 huggingface-hub-0.8.1 pyyaml-6.0 stanza-1.4.0 tokenizers-0.12.1 transformers-4.20.1\n"
          ]
        }
      ]
    },
    {
      "cell_type": "code",
      "metadata": {
        "id": "L3YOH2mnrCFZ",
        "colab": {
          "base_uri": "https://localhost:8080/",
          "height": 536,
          "referenced_widgets": [
            "cdea824a61d74a099733734cf405381c",
            "2cc2c1460cff4362a13b1e672ff02225",
            "b482d4f1887949c384fb88db1bf330d4",
            "5221aea6f37141d79fbe981baa7e584f",
            "b0932064c61b46ff9193581692a57101",
            "13cf4468006e4af1ad68c71290994747",
            "a641832ca9b548698c831cf08020e1ab",
            "097acc4eafe44689a58fdce6ffaf8500",
            "1403757151be4e3d910ffa5eb243d3ab",
            "c12eff306e194b0fb3e9b71d833fe25f",
            "c71de7cfa062463c80c7203835e5f63e",
            "15f41bf0be4f4756bb4ab3646bd7e850",
            "4689d62e8fe24f5d9601a2265820177c",
            "fba300d9f16d469583efbc56208fe9bb",
            "b483956c6bcf46ad8a0fbd8e0ae9a3a4",
            "76a6ef640acc477b9dc8d98159f915f0",
            "8c0b1534449d470fab2772f8ffdd139f",
            "1592b2cac1044c39b7b8dceb55acb3fd",
            "aa374899d44e4edab17f2d6ba2f09e64",
            "8f94219f000a4561935dd959c02e1368",
            "32a35f4ae24f41938969a82fa4c35fe4",
            "af7188fb2b20418cbb47fadd4e59cfe7",
            "084373de7c90437f974ddc9841f3034a",
            "e397e6eb76ec48de9521ed0b587e943b",
            "200ca73647e049aabac82004a9860787",
            "ff58cd4db16440d28725dc0a5afe248f",
            "95e3df0e5c8a4377888c7cfaf86b6b09",
            "5aac10f7bcea48fa8b2e36f36ff07756",
            "1dfe8b48d8e848e981a80a64e78cea83",
            "a1de617ac3ec4364b42eb7dbb4f190c3",
            "e43d8e48c54f462ca50f042e62911835",
            "9f4078bbd5f4438bae1bd771d14775da",
            "97d01c80cf8f415b918cada4ac3f89d5",
            "cb14e27190a44e27a7f5d9e56c9d0b07",
            "195f43c1380840f6b370e38af356bd33",
            "473eb1ebc9e04505a2e36f2c6d83c6ed",
            "2d54e31753f24f9bb02dee62a582893e",
            "07a088d9b07546419ff4d2b5dc96f0b4",
            "59f85255b12d4c9da9003160ace848a4",
            "21875c3d51b845628b980384dc47b8e3",
            "2cef30a6b9d242108c2571543c29c693",
            "f402336fea914f15b786c7e9e0b36442",
            "7758e89fd81e46d19322894a9ad50826",
            "77d40e47ab6540db8492a9ac94c34ede"
          ]
        },
        "outputId": "a40708a8-9d0a-434a-9aaa-1976e89b8150"
      },
      "source": [
        "import stanza\n",
        "stanza.download('id', processors='tokenize')\n",
        "nlp = stanza.Pipeline('id', processors='tokenize')"
      ],
      "execution_count": 58,
      "outputs": [
        {
          "output_type": "display_data",
          "data": {
            "text/plain": [
              "Downloading https://raw.githubusercontent.com/stanfordnlp/stanza-resources/main/resources_1.4.0.json:   0%|   …"
            ],
            "application/vnd.jupyter.widget-view+json": {
              "version_major": 2,
              "version_minor": 0,
              "model_id": "cdea824a61d74a099733734cf405381c"
            }
          },
          "metadata": {}
        },
        {
          "output_type": "stream",
          "name": "stderr",
          "text": [
            "2022-06-27 10:01:47 WARNING: Language id package default expects mwt, which has been added\n",
            "2022-06-27 10:01:47 INFO: Downloading these customized packages for language: id (Indonesian)...\n",
            "=======================\n",
            "| Processor | Package |\n",
            "-----------------------\n",
            "| tokenize  | gsd     |\n",
            "| mwt       | gsd     |\n",
            "=======================\n",
            "\n"
          ]
        },
        {
          "output_type": "display_data",
          "data": {
            "text/plain": [
              "Downloading https://huggingface.co/stanfordnlp/stanza-id/resolve/v1.4.0/models/tokenize/gsd.pt:   0%|         …"
            ],
            "application/vnd.jupyter.widget-view+json": {
              "version_major": 2,
              "version_minor": 0,
              "model_id": "15f41bf0be4f4756bb4ab3646bd7e850"
            }
          },
          "metadata": {}
        },
        {
          "output_type": "display_data",
          "data": {
            "text/plain": [
              "Downloading https://huggingface.co/stanfordnlp/stanza-id/resolve/v1.4.0/models/mwt/gsd.pt:   0%|          | 0.…"
            ],
            "application/vnd.jupyter.widget-view+json": {
              "version_major": 2,
              "version_minor": 0,
              "model_id": "084373de7c90437f974ddc9841f3034a"
            }
          },
          "metadata": {}
        },
        {
          "output_type": "stream",
          "name": "stderr",
          "text": [
            "2022-06-27 10:01:48 INFO: Finished downloading models and saved to /root/stanza_resources.\n"
          ]
        },
        {
          "output_type": "display_data",
          "data": {
            "text/plain": [
              "Downloading https://raw.githubusercontent.com/stanfordnlp/stanza-resources/main/resources_1.4.0.json:   0%|   …"
            ],
            "application/vnd.jupyter.widget-view+json": {
              "version_major": 2,
              "version_minor": 0,
              "model_id": "cb14e27190a44e27a7f5d9e56c9d0b07"
            }
          },
          "metadata": {}
        },
        {
          "output_type": "stream",
          "name": "stderr",
          "text": [
            "2022-06-27 10:01:48 WARNING: Language id package default expects mwt, which has been added\n",
            "2022-06-27 10:01:48 INFO: Loading these models for language: id (Indonesian):\n",
            "=======================\n",
            "| Processor | Package |\n",
            "-----------------------\n",
            "| tokenize  | gsd     |\n",
            "| mwt       | gsd     |\n",
            "=======================\n",
            "\n",
            "2022-06-27 10:01:48 INFO: Use device: cpu\n",
            "2022-06-27 10:01:48 INFO: Loading: tokenize\n",
            "2022-06-27 10:01:48 INFO: Loading: mwt\n",
            "2022-06-27 10:01:48 INFO: Done loading processors!\n"
          ]
        }
      ]
    },
    {
      "cell_type": "code",
      "metadata": {
        "id": "pTP-5YVmrbyZ"
      },
      "source": [
        "def lemma_stanza(words):\n",
        "  lemmatization_words = []\n",
        "  for word in words :\n",
        "    word = nlp(word)\n",
        "    lemmatization_words.append(word.text)\n",
        "  return lemmatization_words"
      ],
      "execution_count": 59,
      "outputs": []
    },
    {
      "cell_type": "code",
      "metadata": {
        "id": "dUMpraFZrkMf"
      },
      "source": [
        "korpus_ringkas['lemmatization_tokens'] = korpus_ringkas['content_tokens'].apply(lemma_stanza)"
      ],
      "execution_count": 60,
      "outputs": []
    },
    {
      "cell_type": "code",
      "metadata": {
        "id": "3opSYSHtrtB8",
        "colab": {
          "base_uri": "https://localhost:8080/",
          "height": 1000
        },
        "outputId": "caabd112-23f5-4d53-b170-924978e9e041"
      },
      "source": [
        "korpus_ringkas[['content_tokens','lemmatization_tokens']].head(5)"
      ],
      "execution_count": 61,
      "outputs": [
        {
          "output_type": "execute_result",
          "data": {
            "text/plain": [
              "                                                                                                                                                                                                                                                                                                                                                                                                                                                                                                                                                                                                                                                                                                                                                                                                                                                                                                                                                                                               content_tokens  \\\n",
              "0  [motogp, memasuki, seri, ketujuh, bertajuk, motogp, emilia, romagna, sirkuit, misano, minggu, malam, indonesia, maverick, vinales, tampil, pemimpin, start, disusul, jack, miller, fabio, quartararo, samasama, baris, terdepan, pekan, sirkuit, vinales, meraih, pole, position, finis, peringkat, keenam, franco, morbidelli, tampil, juara, prediksi, pemenang, motogp, emilia, romagna, versi, redaksi, olahraga, cnnindonesiacom, quartararo, menang, rossi, podium, haryanto, tri, wibowo, motogp, emilia, romagna, momen, fabio, quartararo, jalur, kemenangan, mengalami, nasib, sial, el, diablo, membuktikan, layak, favorit, juara, dunia, motogp, meraih, kemenangan, motogp, emilia, romagna, quartararo, terbilang, konsisten, pekan, meraih, start, bagus, memiliki, kendala, sepeda, motor, m, quartararo, layak, dijagokan, meraih, kemenangan, pesaing, terketat, quartararo, pembalap, ...]                                                                                               \n",
              "1  [pemerintah, provinsi, dki, jakarta, menutup, perusahaan, perkantoran, jakarta, terkait, virus, corona, covid, perusahaan, ditutup, lantaran, karyawan, terdeteksi, positif, sembilan, perusahaan, melanggar, peraturan, protokol, pencegahan, covid, kepala, dinas, tenaga, kerja, transmigrasi, energi, disnakertrans, dki, jakarta, andri, yansah, perusahaan, hasil, pemantauan, pemantauan, penerapan, pembatasan, sosial, berskala, psbb, senin, kamis, perusahaan, ditutup, ditutup, covid, sembilan, perusahaan, ditutup, menjalankan, protokol, kesehatan, pencegahan, covid, andri, keterangan, tertulisnya, jumat, perusahaan, ditutup, ditemukan, positif, tersebar, wilayah, jakarta, rinciannya, enam, perusahaan, jakarta, barat, masingmasing, perusahaan, jakarta, pusat, jakarta, timur, masingmasing, perusahaan, jakarta, utara, jakarta, selatan, sembilan, perusahaan, ditutup, melanggar, protokol, covid, perusahaan, jakarta, pusat, perusahaan, jakarta, barat, perusahaan, ...]   \n",
              "2  [ketua, komisi, pemilihan, kpuarief, budimanmengaku, positif, terinfeksi, covid, menjalani, karantina, mandiri, merasakan, gejala, berat, keterangan, tertulisnya, arief, menjalani, tes, swab, kamis, malam, tes, syarat, menghadiri, rapat, istana, bogor, jumat, dinyatakan, positif, batal, mengikuti, rapat, tanggal, september, malam, tes, swab, syarat, menghadiri, rapat, istana, bogor, tanggal, september, hasil, positif, arief, wartawan, pesan, singkat, jumat, arief, menjalani, isolasi, mandiri, rumah, menjalani, isolasi, mandiri, tanggal, karantina, mandiri, gejala, batuk, panas, pilek, sesak, nafas, arief, kantor, kpu, disterilisasi, pegawai, kpu, kantor, komisioner, kpu, evi, novida, ginting, dinyatakan, positif, terinfeksi, virus, corona, september, evi, menjalani, isolasi, mandiri]                                                                                                                                                                                   \n",
              "3  [helikopter, milik, pt, national, utility, helicopters, nuh, hilang, kontak, lepas, landas, bandara, nabire, papua, kamis, ditemukan, kepala, bidang, hubungan, masyarakat, kabid, humas, polda, papua, komisaris, ahmad, musthofa, kamal, helikopter, ditemukan, cekungan, aliran, sungai, kondisi, utuh, berdasarkan, data, pengamatan, heli, pkiwv, ditemukan, hely, pkuss, coordinat, s, °, e, °, posisi, crashed, into, rugged, stream, in, basin, cekungan, aliran, sungai, roughly, fts, rugged, terrain, no, area, to, land, kamal, cnnindonesiacom, jumat, kru, helikopter, selamat, kondisi, sehat, menurutnya, helikopter, jatuh, pendaratan, darurat, kamis, pesawat, mendarat, darurat, pilot, copilot, kru, selamat, tim, proses, evakuasi, korban, tergantung, cuaca, lokasi, kamal, ditemukan, helikopter, milik, pt, nuh, ...]                                                                                                                                                              \n",
              "4  [presiden, amerika, serikat, donald, trump, hadir, langsung, sidang, majelis, pbb, new, york, pekan, trump, mengaku, pidato, aula, sidang, new, york, pemimpin, dunia, mengikuti, negara, masingmasing, sidang, majelis, pbb, rencananya, digelar, virtual, pandemi, virus, corona, dikutip, afp, kepala, staf, gedung, putih, mark, meadows, kamis, trump, hadir, fisik, trump, pidato, video, conference, pemimpin, dunia, bergiliran, pidato, sesi, september, september, pidato, pembukaan, selasa, sekretaris, jenderal, pbb, antonio, guterres, menekankan, fokus, tanggapan, global, pandemi, virus, corona, perdamaian, keamanan, pelucutan, senjata, hak, asasi, manusia, kesetaraan, gender, pembangunan, berkelanjutan, indonesia, berpartisipasi, sidang, pbb, sikap, pandemi, virus, corona, menlu, retno, marsudi, presiden, jokowi, pidato, sidang, insyaallah, presiden, ...]                                                                                                                \n",
              "\n",
              "                                                                                                                                                                                                                                                                                                                                                                                                                                                                                                                                                                                                                                                                                                                                                                                                                                                                                                                                                                                         lemmatization_tokens  \n",
              "0  [motogp, memasuki, seri, ketujuh, bertajuk, motogp, emilia, romagna, sirkuit, misano, minggu, malam, indonesia, maverick, vinales, tampil, pemimpin, start, disusul, jack, miller, fabio, quartararo, samasama, baris, terdepan, pekan, sirkuit, vinales, meraih, pole, position, finis, peringkat, keenam, franco, morbidelli, tampil, juara, prediksi, pemenang, motogp, emilia, romagna, versi, redaksi, olahraga, cnnindonesiacom, quartararo, menang, rossi, podium, haryanto, tri, wibowo, motogp, emilia, romagna, momen, fabio, quartararo, jalur, kemenangan, mengalami, nasib, sial, el, diablo, membuktikan, layak, favorit, juara, dunia, motogp, meraih, kemenangan, motogp, emilia, romagna, quartararo, terbilang, konsisten, pekan, meraih, start, bagus, memiliki, kendala, sepeda, motor, m, quartararo, layak, dijagokan, meraih, kemenangan, pesaing, terketat, quartararo, pembalap, ...]                                                                                              \n",
              "1  [pemerintah, provinsi, dki, jakarta, menutup, perusahaan, perkantoran, jakarta, terkait, virus, corona, covid, perusahaan, ditutup, lantaran, karyawan, terdeteksi, positif, sembilan, perusahaan, melanggar, peraturan, protokol, pencegahan, covid, kepala, dinas, tenaga, kerja, transmigrasi, energi, disnakertrans, dki, jakarta, andri, yansah, perusahaan, hasil, pemantauan, pemantauan, penerapan, pembatasan, sosial, berskala, psbb, senin, kamis, perusahaan, ditutup, ditutup, covid, sembilan, perusahaan, ditutup, menjalankan, protokol, kesehatan, pencegahan, covid, andri, keterangan, tertulisnya, jumat, perusahaan, ditutup, ditemukan, positif, tersebar, wilayah, jakarta, rinciannya, enam, perusahaan, jakarta, barat, masingmasing, perusahaan, jakarta, pusat, jakarta, timur, masingmasing, perusahaan, jakarta, utara, jakarta, selatan, sembilan, perusahaan, ditutup, melanggar, protokol, covid, perusahaan, jakarta, pusat, perusahaan, jakarta, barat, perusahaan, ...]  \n",
              "2  [ketua, komisi, pemilihan, kpuarief, budimanmengaku, positif, terinfeksi, covid, menjalani, karantina, mandiri, merasakan, gejala, berat, keterangan, tertulisnya, arief, menjalani, tes, swab, kamis, malam, tes, syarat, menghadiri, rapat, istana, bogor, jumat, dinyatakan, positif, batal, mengikuti, rapat, tanggal, september, malam, tes, swab, syarat, menghadiri, rapat, istana, bogor, tanggal, september, hasil, positif, arief, wartawan, pesan, singkat, jumat, arief, menjalani, isolasi, mandiri, rumah, menjalani, isolasi, mandiri, tanggal, karantina, mandiri, gejala, batuk, panas, pilek, sesak, nafas, arief, kantor, kpu, disterilisasi, pegawai, kpu, kantor, komisioner, kpu, evi, novida, ginting, dinyatakan, positif, terinfeksi, virus, corona, september, evi, menjalani, isolasi, mandiri]                                                                                                                                                                                  \n",
              "3  [helikopter, milik, pt, national, utility, helicopters, nuh, hilang, kontak, lepas, landas, bandara, nabire, papua, kamis, ditemukan, kepala, bidang, hubungan, masyarakat, kabid, humas, polda, papua, komisaris, ahmad, musthofa, kamal, helikopter, ditemukan, cekungan, aliran, sungai, kondisi, utuh, berdasarkan, data, pengamatan, heli, pkiwv, ditemukan, hely, pkuss, coordinat, s, °, e, °, posisi, crashed, into, rugged, stream, in, basin, cekungan, aliran, sungai, roughly, fts, rugged, terrain, no, area, to, land, kamal, cnnindonesiacom, jumat, kru, helikopter, selamat, kondisi, sehat, menurutnya, helikopter, jatuh, pendaratan, darurat, kamis, pesawat, mendarat, darurat, pilot, copilot, kru, selamat, tim, proses, evakuasi, korban, tergantung, cuaca, lokasi, kamal, ditemukan, helikopter, milik, pt, nuh, ...]                                                                                                                                                             \n",
              "4  [presiden, amerika, serikat, donald, trump, hadir, langsung, sidang, majelis, pbb, new, york, pekan, trump, mengaku, pidato, aula, sidang, new, york, pemimpin, dunia, mengikuti, negara, masingmasing, sidang, majelis, pbb, rencananya, digelar, virtual, pandemi, virus, corona, dikutip, afp, kepala, staf, gedung, putih, mark, meadows, kamis, trump, hadir, fisik, trump, pidato, video, conference, pemimpin, dunia, bergiliran, pidato, sesi, september, september, pidato, pembukaan, selasa, sekretaris, jenderal, pbb, antonio, guterres, menekankan, fokus, tanggapan, global, pandemi, virus, corona, perdamaian, keamanan, pelucutan, senjata, hak, asasi, manusia, kesetaraan, gender, pembangunan, berkelanjutan, indonesia, berpartisipasi, sidang, pbb, sikap, pandemi, virus, corona, menlu, retno, marsudi, presiden, jokowi, pidato, sidang, insyaallah, presiden, ...]                                                                                                               "
            ],
            "text/html": [
              "\n",
              "  <div id=\"df-2d34e46e-66b2-4331-b0fb-86d3b99a3608\">\n",
              "    <div class=\"colab-df-container\">\n",
              "      <div>\n",
              "<style scoped>\n",
              "    .dataframe tbody tr th:only-of-type {\n",
              "        vertical-align: middle;\n",
              "    }\n",
              "\n",
              "    .dataframe tbody tr th {\n",
              "        vertical-align: top;\n",
              "    }\n",
              "\n",
              "    .dataframe thead th {\n",
              "        text-align: right;\n",
              "    }\n",
              "</style>\n",
              "<table border=\"1\" class=\"dataframe\">\n",
              "  <thead>\n",
              "    <tr style=\"text-align: right;\">\n",
              "      <th></th>\n",
              "      <th>content_tokens</th>\n",
              "      <th>lemmatization_tokens</th>\n",
              "    </tr>\n",
              "  </thead>\n",
              "  <tbody>\n",
              "    <tr>\n",
              "      <th>0</th>\n",
              "      <td>[motogp, memasuki, seri, ketujuh, bertajuk, motogp, emilia, romagna, sirkuit, misano, minggu, malam, indonesia, maverick, vinales, tampil, pemimpin, start, disusul, jack, miller, fabio, quartararo, samasama, baris, terdepan, pekan, sirkuit, vinales, meraih, pole, position, finis, peringkat, keenam, franco, morbidelli, tampil, juara, prediksi, pemenang, motogp, emilia, romagna, versi, redaksi, olahraga, cnnindonesiacom, quartararo, menang, rossi, podium, haryanto, tri, wibowo, motogp, emilia, romagna, momen, fabio, quartararo, jalur, kemenangan, mengalami, nasib, sial, el, diablo, membuktikan, layak, favorit, juara, dunia, motogp, meraih, kemenangan, motogp, emilia, romagna, quartararo, terbilang, konsisten, pekan, meraih, start, bagus, memiliki, kendala, sepeda, motor, m, quartararo, layak, dijagokan, meraih, kemenangan, pesaing, terketat, quartararo, pembalap, ...]</td>\n",
              "      <td>[motogp, memasuki, seri, ketujuh, bertajuk, motogp, emilia, romagna, sirkuit, misano, minggu, malam, indonesia, maverick, vinales, tampil, pemimpin, start, disusul, jack, miller, fabio, quartararo, samasama, baris, terdepan, pekan, sirkuit, vinales, meraih, pole, position, finis, peringkat, keenam, franco, morbidelli, tampil, juara, prediksi, pemenang, motogp, emilia, romagna, versi, redaksi, olahraga, cnnindonesiacom, quartararo, menang, rossi, podium, haryanto, tri, wibowo, motogp, emilia, romagna, momen, fabio, quartararo, jalur, kemenangan, mengalami, nasib, sial, el, diablo, membuktikan, layak, favorit, juara, dunia, motogp, meraih, kemenangan, motogp, emilia, romagna, quartararo, terbilang, konsisten, pekan, meraih, start, bagus, memiliki, kendala, sepeda, motor, m, quartararo, layak, dijagokan, meraih, kemenangan, pesaing, terketat, quartararo, pembalap, ...]</td>\n",
              "    </tr>\n",
              "    <tr>\n",
              "      <th>1</th>\n",
              "      <td>[pemerintah, provinsi, dki, jakarta, menutup, perusahaan, perkantoran, jakarta, terkait, virus, corona, covid, perusahaan, ditutup, lantaran, karyawan, terdeteksi, positif, sembilan, perusahaan, melanggar, peraturan, protokol, pencegahan, covid, kepala, dinas, tenaga, kerja, transmigrasi, energi, disnakertrans, dki, jakarta, andri, yansah, perusahaan, hasil, pemantauan, pemantauan, penerapan, pembatasan, sosial, berskala, psbb, senin, kamis, perusahaan, ditutup, ditutup, covid, sembilan, perusahaan, ditutup, menjalankan, protokol, kesehatan, pencegahan, covid, andri, keterangan, tertulisnya, jumat, perusahaan, ditutup, ditemukan, positif, tersebar, wilayah, jakarta, rinciannya, enam, perusahaan, jakarta, barat, masingmasing, perusahaan, jakarta, pusat, jakarta, timur, masingmasing, perusahaan, jakarta, utara, jakarta, selatan, sembilan, perusahaan, ditutup, melanggar, protokol, covid, perusahaan, jakarta, pusat, perusahaan, jakarta, barat, perusahaan, ...]</td>\n",
              "      <td>[pemerintah, provinsi, dki, jakarta, menutup, perusahaan, perkantoran, jakarta, terkait, virus, corona, covid, perusahaan, ditutup, lantaran, karyawan, terdeteksi, positif, sembilan, perusahaan, melanggar, peraturan, protokol, pencegahan, covid, kepala, dinas, tenaga, kerja, transmigrasi, energi, disnakertrans, dki, jakarta, andri, yansah, perusahaan, hasil, pemantauan, pemantauan, penerapan, pembatasan, sosial, berskala, psbb, senin, kamis, perusahaan, ditutup, ditutup, covid, sembilan, perusahaan, ditutup, menjalankan, protokol, kesehatan, pencegahan, covid, andri, keterangan, tertulisnya, jumat, perusahaan, ditutup, ditemukan, positif, tersebar, wilayah, jakarta, rinciannya, enam, perusahaan, jakarta, barat, masingmasing, perusahaan, jakarta, pusat, jakarta, timur, masingmasing, perusahaan, jakarta, utara, jakarta, selatan, sembilan, perusahaan, ditutup, melanggar, protokol, covid, perusahaan, jakarta, pusat, perusahaan, jakarta, barat, perusahaan, ...]</td>\n",
              "    </tr>\n",
              "    <tr>\n",
              "      <th>2</th>\n",
              "      <td>[ketua, komisi, pemilihan, kpuarief, budimanmengaku, positif, terinfeksi, covid, menjalani, karantina, mandiri, merasakan, gejala, berat, keterangan, tertulisnya, arief, menjalani, tes, swab, kamis, malam, tes, syarat, menghadiri, rapat, istana, bogor, jumat, dinyatakan, positif, batal, mengikuti, rapat, tanggal, september, malam, tes, swab, syarat, menghadiri, rapat, istana, bogor, tanggal, september, hasil, positif, arief, wartawan, pesan, singkat, jumat, arief, menjalani, isolasi, mandiri, rumah, menjalani, isolasi, mandiri, tanggal, karantina, mandiri, gejala, batuk, panas, pilek, sesak, nafas, arief, kantor, kpu, disterilisasi, pegawai, kpu, kantor, komisioner, kpu, evi, novida, ginting, dinyatakan, positif, terinfeksi, virus, corona, september, evi, menjalani, isolasi, mandiri]</td>\n",
              "      <td>[ketua, komisi, pemilihan, kpuarief, budimanmengaku, positif, terinfeksi, covid, menjalani, karantina, mandiri, merasakan, gejala, berat, keterangan, tertulisnya, arief, menjalani, tes, swab, kamis, malam, tes, syarat, menghadiri, rapat, istana, bogor, jumat, dinyatakan, positif, batal, mengikuti, rapat, tanggal, september, malam, tes, swab, syarat, menghadiri, rapat, istana, bogor, tanggal, september, hasil, positif, arief, wartawan, pesan, singkat, jumat, arief, menjalani, isolasi, mandiri, rumah, menjalani, isolasi, mandiri, tanggal, karantina, mandiri, gejala, batuk, panas, pilek, sesak, nafas, arief, kantor, kpu, disterilisasi, pegawai, kpu, kantor, komisioner, kpu, evi, novida, ginting, dinyatakan, positif, terinfeksi, virus, corona, september, evi, menjalani, isolasi, mandiri]</td>\n",
              "    </tr>\n",
              "    <tr>\n",
              "      <th>3</th>\n",
              "      <td>[helikopter, milik, pt, national, utility, helicopters, nuh, hilang, kontak, lepas, landas, bandara, nabire, papua, kamis, ditemukan, kepala, bidang, hubungan, masyarakat, kabid, humas, polda, papua, komisaris, ahmad, musthofa, kamal, helikopter, ditemukan, cekungan, aliran, sungai, kondisi, utuh, berdasarkan, data, pengamatan, heli, pkiwv, ditemukan, hely, pkuss, coordinat, s, °, e, °, posisi, crashed, into, rugged, stream, in, basin, cekungan, aliran, sungai, roughly, fts, rugged, terrain, no, area, to, land, kamal, cnnindonesiacom, jumat, kru, helikopter, selamat, kondisi, sehat, menurutnya, helikopter, jatuh, pendaratan, darurat, kamis, pesawat, mendarat, darurat, pilot, copilot, kru, selamat, tim, proses, evakuasi, korban, tergantung, cuaca, lokasi, kamal, ditemukan, helikopter, milik, pt, nuh, ...]</td>\n",
              "      <td>[helikopter, milik, pt, national, utility, helicopters, nuh, hilang, kontak, lepas, landas, bandara, nabire, papua, kamis, ditemukan, kepala, bidang, hubungan, masyarakat, kabid, humas, polda, papua, komisaris, ahmad, musthofa, kamal, helikopter, ditemukan, cekungan, aliran, sungai, kondisi, utuh, berdasarkan, data, pengamatan, heli, pkiwv, ditemukan, hely, pkuss, coordinat, s, °, e, °, posisi, crashed, into, rugged, stream, in, basin, cekungan, aliran, sungai, roughly, fts, rugged, terrain, no, area, to, land, kamal, cnnindonesiacom, jumat, kru, helikopter, selamat, kondisi, sehat, menurutnya, helikopter, jatuh, pendaratan, darurat, kamis, pesawat, mendarat, darurat, pilot, copilot, kru, selamat, tim, proses, evakuasi, korban, tergantung, cuaca, lokasi, kamal, ditemukan, helikopter, milik, pt, nuh, ...]</td>\n",
              "    </tr>\n",
              "    <tr>\n",
              "      <th>4</th>\n",
              "      <td>[presiden, amerika, serikat, donald, trump, hadir, langsung, sidang, majelis, pbb, new, york, pekan, trump, mengaku, pidato, aula, sidang, new, york, pemimpin, dunia, mengikuti, negara, masingmasing, sidang, majelis, pbb, rencananya, digelar, virtual, pandemi, virus, corona, dikutip, afp, kepala, staf, gedung, putih, mark, meadows, kamis, trump, hadir, fisik, trump, pidato, video, conference, pemimpin, dunia, bergiliran, pidato, sesi, september, september, pidato, pembukaan, selasa, sekretaris, jenderal, pbb, antonio, guterres, menekankan, fokus, tanggapan, global, pandemi, virus, corona, perdamaian, keamanan, pelucutan, senjata, hak, asasi, manusia, kesetaraan, gender, pembangunan, berkelanjutan, indonesia, berpartisipasi, sidang, pbb, sikap, pandemi, virus, corona, menlu, retno, marsudi, presiden, jokowi, pidato, sidang, insyaallah, presiden, ...]</td>\n",
              "      <td>[presiden, amerika, serikat, donald, trump, hadir, langsung, sidang, majelis, pbb, new, york, pekan, trump, mengaku, pidato, aula, sidang, new, york, pemimpin, dunia, mengikuti, negara, masingmasing, sidang, majelis, pbb, rencananya, digelar, virtual, pandemi, virus, corona, dikutip, afp, kepala, staf, gedung, putih, mark, meadows, kamis, trump, hadir, fisik, trump, pidato, video, conference, pemimpin, dunia, bergiliran, pidato, sesi, september, september, pidato, pembukaan, selasa, sekretaris, jenderal, pbb, antonio, guterres, menekankan, fokus, tanggapan, global, pandemi, virus, corona, perdamaian, keamanan, pelucutan, senjata, hak, asasi, manusia, kesetaraan, gender, pembangunan, berkelanjutan, indonesia, berpartisipasi, sidang, pbb, sikap, pandemi, virus, corona, menlu, retno, marsudi, presiden, jokowi, pidato, sidang, insyaallah, presiden, ...]</td>\n",
              "    </tr>\n",
              "  </tbody>\n",
              "</table>\n",
              "</div>\n",
              "      <button class=\"colab-df-convert\" onclick=\"convertToInteractive('df-2d34e46e-66b2-4331-b0fb-86d3b99a3608')\"\n",
              "              title=\"Convert this dataframe to an interactive table.\"\n",
              "              style=\"display:none;\">\n",
              "        \n",
              "  <svg xmlns=\"http://www.w3.org/2000/svg\" height=\"24px\"viewBox=\"0 0 24 24\"\n",
              "       width=\"24px\">\n",
              "    <path d=\"M0 0h24v24H0V0z\" fill=\"none\"/>\n",
              "    <path d=\"M18.56 5.44l.94 2.06.94-2.06 2.06-.94-2.06-.94-.94-2.06-.94 2.06-2.06.94zm-11 1L8.5 8.5l.94-2.06 2.06-.94-2.06-.94L8.5 2.5l-.94 2.06-2.06.94zm10 10l.94 2.06.94-2.06 2.06-.94-2.06-.94-.94-2.06-.94 2.06-2.06.94z\"/><path d=\"M17.41 7.96l-1.37-1.37c-.4-.4-.92-.59-1.43-.59-.52 0-1.04.2-1.43.59L10.3 9.45l-7.72 7.72c-.78.78-.78 2.05 0 2.83L4 21.41c.39.39.9.59 1.41.59.51 0 1.02-.2 1.41-.59l7.78-7.78 2.81-2.81c.8-.78.8-2.07 0-2.86zM5.41 20L4 18.59l7.72-7.72 1.47 1.35L5.41 20z\"/>\n",
              "  </svg>\n",
              "      </button>\n",
              "      \n",
              "  <style>\n",
              "    .colab-df-container {\n",
              "      display:flex;\n",
              "      flex-wrap:wrap;\n",
              "      gap: 12px;\n",
              "    }\n",
              "\n",
              "    .colab-df-convert {\n",
              "      background-color: #E8F0FE;\n",
              "      border: none;\n",
              "      border-radius: 50%;\n",
              "      cursor: pointer;\n",
              "      display: none;\n",
              "      fill: #1967D2;\n",
              "      height: 32px;\n",
              "      padding: 0 0 0 0;\n",
              "      width: 32px;\n",
              "    }\n",
              "\n",
              "    .colab-df-convert:hover {\n",
              "      background-color: #E2EBFA;\n",
              "      box-shadow: 0px 1px 2px rgba(60, 64, 67, 0.3), 0px 1px 3px 1px rgba(60, 64, 67, 0.15);\n",
              "      fill: #174EA6;\n",
              "    }\n",
              "\n",
              "    [theme=dark] .colab-df-convert {\n",
              "      background-color: #3B4455;\n",
              "      fill: #D2E3FC;\n",
              "    }\n",
              "\n",
              "    [theme=dark] .colab-df-convert:hover {\n",
              "      background-color: #434B5C;\n",
              "      box-shadow: 0px 1px 3px 1px rgba(0, 0, 0, 0.15);\n",
              "      filter: drop-shadow(0px 1px 2px rgba(0, 0, 0, 0.3));\n",
              "      fill: #FFFFFF;\n",
              "    }\n",
              "  </style>\n",
              "\n",
              "      <script>\n",
              "        const buttonEl =\n",
              "          document.querySelector('#df-2d34e46e-66b2-4331-b0fb-86d3b99a3608 button.colab-df-convert');\n",
              "        buttonEl.style.display =\n",
              "          google.colab.kernel.accessAllowed ? 'block' : 'none';\n",
              "\n",
              "        async function convertToInteractive(key) {\n",
              "          const element = document.querySelector('#df-2d34e46e-66b2-4331-b0fb-86d3b99a3608');\n",
              "          const dataTable =\n",
              "            await google.colab.kernel.invokeFunction('convertToInteractive',\n",
              "                                                     [key], {});\n",
              "          if (!dataTable) return;\n",
              "\n",
              "          const docLinkHtml = 'Like what you see? Visit the ' +\n",
              "            '<a target=\"_blank\" href=https://colab.research.google.com/notebooks/data_table.ipynb>data table notebook</a>'\n",
              "            + ' to learn more about interactive tables.';\n",
              "          element.innerHTML = '';\n",
              "          dataTable['output_type'] = 'display_data';\n",
              "          await google.colab.output.renderOutput(dataTable, element);\n",
              "          const docLink = document.createElement('div');\n",
              "          docLink.innerHTML = docLinkHtml;\n",
              "          element.appendChild(docLink);\n",
              "        }\n",
              "      </script>\n",
              "    </div>\n",
              "  </div>\n",
              "  "
            ]
          },
          "metadata": {},
          "execution_count": 61
        }
      ]
    },
    {
      "cell_type": "markdown",
      "metadata": {
        "id": "ghZQhUB-tqrY"
      },
      "source": [
        "#### 3. Pada nomor 1 perbedaan token yang setelah di stem dan sebelum adalah pada token yang sudah di stem merupakan kata dasar. Pola nya adalah menghapus imbuhan dari sebuah kata.  Tetapi hasil analisa ini belum sempurna, terdapat beberapa kata yang menuju kata dasar yang salah, contohnya adalah kata 'memasuki' yang di stem menjadi 'pasuk' padahal harusnya 'masuk'."
      ]
    },
    {
      "cell_type": "markdown",
      "metadata": {
        "id": "fEyZn57hftfg"
      },
      "source": [
        "#### 4. Menurut saya hal ini akan berpengaruh secara signifikan terhadap sistem IR yang akan dibuat karena konteks kalimatnya jadi berbeda. Menurut saya sebelumnya harus dilakukan lemmatization terlebih dahulu agar sistem dapat mencari sinonim dari kata tersebut sebelum dilakukan stemming agar hasil lebih presisi. Selain itu sistem juga harus menerapkan dependency parsing agar mengetahui keterhubungan antar kata tersebut dengan kata lain. Berdasarkan hal tersebut sistem yang dibuat pasti akan kompleks"
      ]
    },
    {
      "cell_type": "markdown",
      "metadata": {
        "id": "uQewKcCQf3kU"
      },
      "source": [
        "#### 5. Menurut saya lemmatization dan stemming perlu diterapkan dalam korpus yang didominasi slang words. Lemmatization digunakan karena terdapat beberapa slang words yang sudah dimasukkan ke dalam kamus. Sedangkan stemming digunakan untuk mencari kata dasar pada slang words, contohnya slang words yang sedang ramai digunakan orang-orang adalah penggunaan meng-[kata kerja] seperti mengsedih."
      ]
    },
    {
      "cell_type": "markdown",
      "metadata": {
        "id": "bEN2qdq8f30f"
      },
      "source": [
        "#### 6. Menurut saya menerapkan stemming dan lemmatization saja tidak cukup. Sistem IR tersebut menurut saya harus menerapkan POS Tagging untuk mengetahui kedudukan kata tersebut dalam kalimat. Selain itu menurut saya juga perlu diterapkan dependency parsing untuk melihat keterhubungan kata dengan kata lainnya sehingga makna sebenarnya dari kalimat dapat tercapai."
      ]
    }
  ]
}